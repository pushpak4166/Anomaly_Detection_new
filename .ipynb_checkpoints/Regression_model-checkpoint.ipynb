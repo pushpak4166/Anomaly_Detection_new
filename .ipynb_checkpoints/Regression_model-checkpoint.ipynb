{
 "cells": [
  {
   "cell_type": "markdown",
   "metadata": {},
   "source": [
    "# Regression Model"
   ]
  },
  {
   "cell_type": "code",
   "execution_count": null,
   "metadata": {},
   "outputs": [],
   "source": [
    "from sklearn.linear_model import LogisticRegression \n",
    "from sklearn.metrics import accuracy_score\n",
    "import numpy as np\n",
    "import pickle"
   ]
  },
  {
   "cell_type": "code",
   "execution_count": null,
   "metadata": {},
   "outputs": [],
   "source": [
    "data = np.loadtxt(\"OBD_sensors_new.csv\",delimiter=\",\")\n",
    "x = data[:,0:-1]\n",
    "y = data[:,-1]\n",
    "\n",
    "# define model\n",
    "model = LogisticRegression(solver='lbfgs')\n",
    "\n",
    "# fit model\n",
    "model.fit(x,y)\n",
    "\n",
    "yhat = model.predict(x)\n",
    "\n",
    "# evaluate prediction\n",
    "acc = accuracy_score(y,yhat)\n",
    "print(\"Accuracy : \",acc)"
   ]
  },
  {
   "cell_type": "code",
   "execution_count": null,
   "metadata": {},
   "outputs": [],
   "source": [
    "# saving regression model in binary mode\n",
    "\n",
    "pickle.dump(model,open('Regression_model.sav','wb'))"
   ]
  },
  {
   "cell_type": "markdown",
   "metadata": {},
   "source": [
    "# Loading Saved Model "
   ]
  },
  {
   "cell_type": "code",
   "execution_count": 5,
   "metadata": {},
   "outputs": [],
   "source": [
    "import pickle\n",
    "\n",
    "# loading saved regression model in reading and binary mode\n",
    "loaded_model = pickle.load(open('Regression_model.sav','rb'))"
   ]
  },
  {
   "cell_type": "code",
   "execution_count": 31,
   "metadata": {},
   "outputs": [
    {
     "name": "stdout",
     "output_type": "stream",
     "text": [
      "Predicted class:  [4.]\n",
      "Predicted class:  [7.]\n",
      "Predicted class:  [0.]\n",
      "Predicted class:  [4.]\n",
      "Predicted class:  [2.]\n",
      "Predicted class:  [1.]\n",
      "Predicted class:  [3.]\n",
      "Predicted class:  [6.]\n",
      "Predicted class:  [6.]\n"
     ]
    }
   ],
   "source": [
    "# tesing with sample input\n",
    "new_input1 = [[120.2689798,78.89517456,25.17536715]]\n",
    "new_output1 = loaded_model.predict(new_input1)\n",
    "print(\"Predicted class: \",new_output1)\n",
    "\n",
    "# tesing with sample input\n",
    "new_input2 = [[132.7802656,84.897217,70.86279657]]\n",
    "new_output2 = loaded_model.predict(new_input2)\n",
    "print(\"Predicted class: \",new_output2)  \n",
    "\n",
    "# tesing with sample input\n",
    "new_input3 = [[88.53463932,21.89293189,20.19076469]]\n",
    "new_output3 = loaded_model.predict(new_input3)\n",
    "print(\"Predicted class: \",new_output3) \n",
    "\n",
    "# tesing with sample input\n",
    "new_input4 = [[125,80,27]]\n",
    "new_output4 = loaded_model.predict(new_input4)\n",
    "print(\"Predicted class: \",new_output4)  \n",
    "\n",
    "# tesing with sample input\n",
    "new_input5 = [[85,87,29]]\n",
    "new_output5 = loaded_model.predict(new_input5)\n",
    "print(\"Predicted class: \",new_output5) \n",
    "\n",
    "# tesing with sample input\n",
    "new_input6 = [[200,25.04716797,27]]     ## Problem: it is giving class 1 only on increasing sensor_1 value to a very high level \n",
    "new_output6 = loaded_model.predict(new_input6)\n",
    "print(\"Predicted class: \",new_output6)\n",
    "\n",
    "# tesing with sample input\n",
    "new_input7 = [[85,25,73]]\n",
    "new_output7 = loaded_model.predict(new_input7)\n",
    "print(\"Predicted class: \",new_output7) \n",
    "\n",
    "# tesing with sample input\n",
    "new_input8 = [[110,11,73]]\n",
    "new_output8 = loaded_model.predict(new_input8)\n",
    "print(\"Predicted class: \",new_output8)\n",
    "\n",
    "# tesing with sample input\n",
    "new_input9 = [[85,11,60]]         ## Wrong output \n",
    "new_output9 = loaded_model.predict(new_input9)\n",
    "print(\"Predicted class: \",new_output9) "
   ]
  },
  {
   "cell_type": "code",
   "execution_count": null,
   "metadata": {},
   "outputs": [],
   "source": []
  }
 ],
 "metadata": {
  "kernelspec": {
   "display_name": "Python 3",
   "language": "python",
   "name": "python3"
  },
  "language_info": {
   "codemirror_mode": {
    "name": "ipython",
    "version": 3
   },
   "file_extension": ".py",
   "mimetype": "text/x-python",
   "name": "python",
   "nbconvert_exporter": "python",
   "pygments_lexer": "ipython3",
   "version": "3.7.6"
  }
 },
 "nbformat": 4,
 "nbformat_minor": 4
}
