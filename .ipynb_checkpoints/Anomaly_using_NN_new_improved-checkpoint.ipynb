{
 "cells": [
  {
   "cell_type": "code",
   "execution_count": 131,
   "metadata": {},
   "outputs": [],
   "source": [
    "from keras.models import Sequential\n",
    "from sklearn.model_selection import train_test_split\n",
    "from keras.layers.core import Dense,Dropout\n",
    "from keras.optimizers import Adam\n",
    "import numpy as np\n",
    "import matplotlib.pyplot as plt\n",
    "from keras.utils import to_categorical"
   ]
  },
  {
   "cell_type": "code",
   "execution_count": 132,
   "metadata": {},
   "outputs": [],
   "source": [
    "import pandas as pd"
   ]
  },
  {
   "cell_type": "code",
   "execution_count": 133,
   "metadata": {},
   "outputs": [],
   "source": [
    "data = np.loadtxt(\"OBD_sensors_new_test.csv\",delimiter=\",\")"
   ]
  },
  {
   "cell_type": "code",
   "execution_count": 83,
   "metadata": {
    "scrolled": false
   },
   "outputs": [
    {
     "data": {
      "text/plain": [
       "(4162, 4)"
      ]
     },
     "execution_count": 83,
     "metadata": {},
     "output_type": "execute_result"
    }
   ],
   "source": [
    "data.shape"
   ]
  },
  {
   "cell_type": "code",
   "execution_count": 87,
   "metadata": {},
   "outputs": [
    {
     "name": "stdout",
     "output_type": "stream",
     "text": [
      "(4162, 3)\n",
      "(4162,)\n"
     ]
    }
   ],
   "source": [
    "x = data[:,0:3]\n",
    "y = data[:,3]\n",
    "\n",
    "# Spliting dataset into train and test \n",
    "x_train,x_test,y_train,y_test = train_test_split(x,y,test_size=0.2,random_state=10)\n",
    "print(x.shape)\n",
    "print(y.shape)"
   ]
  },
  {
   "cell_type": "code",
   "execution_count": 88,
   "metadata": {},
   "outputs": [
    {
     "name": "stdout",
     "output_type": "stream",
     "text": [
      "(3329, 3)\n",
      "(833, 3)\n"
     ]
    }
   ],
   "source": [
    "print(x_train.shape)\n",
    "print(x_test.shape)"
   ]
  },
  {
   "cell_type": "code",
   "execution_count": 90,
   "metadata": {},
   "outputs": [
    {
     "name": "stdout",
     "output_type": "stream",
     "text": [
      "0 : 526\n",
      "1 : 507\n",
      "2 : 500\n",
      "3 : 500\n",
      "4 : 500\n",
      "5 : 500\n",
      "6 : 500\n",
      "7 : 500\n",
      "8 : 0\n"
     ]
    }
   ],
   "source": [
    "count=0 \n",
    "for i in y_train:\n",
    "    if (i==0) :\n",
    "        count=count+1\n",
    "print(\"0 :\",count)\n",
    "count=0 \n",
    "for i in y:\n",
    "    if (i==1) :\n",
    "        count=count+1\n",
    "print(\"1 :\",count)\n",
    "count=0 \n",
    "for i in y:\n",
    "    if (i==2) :\n",
    "        count=count+1\n",
    "print(\"2 :\",count)\n",
    "count=0 \n",
    "for i in y:\n",
    "    if (i==3) :\n",
    "        count=count+1\n",
    "print(\"3 :\",count)\n",
    "count=0 \n",
    "for i in y:\n",
    "    if (i==4) :\n",
    "        count=count+1\n",
    "print(\"4 :\",count)\n",
    "count=0 \n",
    "for i in y:\n",
    "    if (i==5) :\n",
    "        count=count+1\n",
    "print(\"5 :\",count)\n",
    "count=0 \n",
    "for i in y:\n",
    "    if (i==6) :\n",
    "        count=count+1\n",
    "print(\"6 :\",count)\n",
    "count=0 \n",
    "for i in y:\n",
    "    if (i==7) :\n",
    "        count=count+1\n",
    "print(\"7 :\",count)\n",
    "count=0 \n",
    "for i in y:\n",
    "    if (i==8) :\n",
    "        count=count+1\n",
    "print(\"8 :\",count)"
   ]
  },
  {
   "cell_type": "code",
   "execution_count": 91,
   "metadata": {},
   "outputs": [],
   "source": [
    "#Converting the labels into one hot encoding\n",
    "y_train = to_categorical(y_train, 8)\n",
    "y_test = to_categorical(y_test, 8)"
   ]
  },
  {
   "cell_type": "code",
   "execution_count": 92,
   "metadata": {
    "scrolled": true
   },
   "outputs": [
    {
     "data": {
      "text/plain": [
       "array([[1., 0., 0., ..., 0., 0., 0.],\n",
       "       [0., 0., 0., ..., 1., 0., 0.],\n",
       "       [1., 0., 0., ..., 0., 0., 0.],\n",
       "       ...,\n",
       "       [0., 0., 0., ..., 1., 0., 0.],\n",
       "       [0., 1., 0., ..., 0., 0., 0.],\n",
       "       [0., 0., 0., ..., 0., 0., 0.]], dtype=float32)"
      ]
     },
     "execution_count": 92,
     "metadata": {},
     "output_type": "execute_result"
    }
   ],
   "source": [
    "y_train"
   ]
  },
  {
   "cell_type": "code",
   "execution_count": 95,
   "metadata": {
    "scrolled": true
   },
   "outputs": [
    {
     "data": {
      "text/plain": [
       "array([[1., 0., 0., ..., 0., 0., 0.],\n",
       "       [0., 0., 0., ..., 0., 1., 0.],\n",
       "       [0., 0., 0., ..., 0., 0., 0.],\n",
       "       ...,\n",
       "       [0., 0., 1., ..., 0., 0., 0.],\n",
       "       [1., 0., 0., ..., 0., 0., 0.],\n",
       "       [0., 1., 0., ..., 0., 0., 0.]], dtype=float32)"
      ]
     },
     "execution_count": 95,
     "metadata": {},
     "output_type": "execute_result"
    }
   ],
   "source": [
    "y_test"
   ]
  },
  {
   "cell_type": "markdown",
   "metadata": {},
   "source": [
    "# Creating the model"
   ]
  },
  {
   "cell_type": "code",
   "execution_count": 320,
   "metadata": {},
   "outputs": [],
   "source": [
    "model = Sequential()\n",
    "model.add(Dense(8,input_dim=x.shape[1],activation='relu'))\n",
    "model.add(Dropout(0.0))\n",
    "model.add(Dense(4,activation='relu'))\n",
    "model.add(Dropout(0.0))\n",
    "model.add(Dense(6,activation='relu'))\n",
    "model.add(Dropout(0.0))\n",
    "model.add(Dense(8,activation='relu'))\n",
    "model.add(Dropout(0.0))\n",
    "model.add(Dense(y_train.shape[1],activation='softmax'))"
   ]
  },
  {
   "cell_type": "markdown",
   "metadata": {},
   "source": [
    "# Compiling and Training the model "
   ]
  },
  {
   "cell_type": "code",
   "execution_count": 321,
   "metadata": {},
   "outputs": [],
   "source": [
    "from keras.callbacks import EarlyStopping, ModelCheckpoint, ReduceLROnPlateau\n"
   ]
  },
  {
   "cell_type": "code",
   "execution_count": 322,
   "metadata": {},
   "outputs": [
    {
     "name": "stdout",
     "output_type": "stream",
     "text": [
      "Epoch 1/100\n",
      "105/105 [==============================] - 0s 2ms/step - loss: 3.8935 - accuracy: 0.1721 - val_loss: 2.2651 - val_accuracy: 0.2329\n",
      "Epoch 2/100\n",
      "105/105 [==============================] - 0s 990us/step - loss: 1.9431 - accuracy: 0.2887 - val_loss: 1.6388 - val_accuracy: 0.3313\n",
      "Epoch 3/100\n",
      "105/105 [==============================] - 0s 982us/step - loss: 1.4939 - accuracy: 0.4115 - val_loss: 1.3514 - val_accuracy: 0.4706\n",
      "Epoch 4/100\n",
      "105/105 [==============================] - 0s 983us/step - loss: 1.2536 - accuracy: 0.5287 - val_loss: 1.0825 - val_accuracy: 0.5510\n",
      "Epoch 5/100\n",
      "105/105 [==============================] - 0s 1ms/step - loss: 0.9988 - accuracy: 0.5533 - val_loss: 0.8587 - val_accuracy: 0.6146\n",
      "Epoch 6/100\n",
      "105/105 [==============================] - 0s 960us/step - loss: 0.8252 - accuracy: 0.6209 - val_loss: 0.7355 - val_accuracy: 0.6579\n",
      "Epoch 7/100\n",
      "105/105 [==============================] - 0s 944us/step - loss: 0.7269 - accuracy: 0.6852 - val_loss: 0.6682 - val_accuracy: 0.7035\n",
      "Epoch 8/100\n",
      "105/105 [==============================] - 0s 988us/step - loss: 0.6699 - accuracy: 0.7056 - val_loss: 0.6211 - val_accuracy: 0.7407\n",
      "Epoch 9/100\n",
      "105/105 [==============================] - 0s 965us/step - loss: 0.6339 - accuracy: 0.7281 - val_loss: 0.5973 - val_accuracy: 0.7383\n",
      "Epoch 10/100\n",
      "105/105 [==============================] - 0s 1ms/step - loss: 0.6186 - accuracy: 0.7233 - val_loss: 0.5768 - val_accuracy: 0.7479\n",
      "Epoch 11/100\n",
      "105/105 [==============================] - 0s 982us/step - loss: 0.5967 - accuracy: 0.7339 - val_loss: 0.5593 - val_accuracy: 0.7479\n",
      "Epoch 12/100\n",
      "105/105 [==============================] - 0s 966us/step - loss: 0.5862 - accuracy: 0.7309 - val_loss: 0.5595 - val_accuracy: 0.7491\n",
      "Epoch 13/100\n",
      "105/105 [==============================] - 0s 1ms/step - loss: 0.5729 - accuracy: 0.7327 - val_loss: 0.5386 - val_accuracy: 0.7479\n",
      "Epoch 14/100\n",
      "105/105 [==============================] - 0s 1ms/step - loss: 0.5617 - accuracy: 0.7387 - val_loss: 0.5452 - val_accuracy: 0.7527\n",
      "Epoch 15/100\n",
      "105/105 [==============================] - 0s 996us/step - loss: 0.5594 - accuracy: 0.7477 - val_loss: 0.5389 - val_accuracy: 0.7575\n",
      "Epoch 16/100\n",
      "105/105 [==============================] - 0s 991us/step - loss: 0.5516 - accuracy: 0.7486 - val_loss: 0.5176 - val_accuracy: 0.7791\n",
      "Epoch 17/100\n",
      "105/105 [==============================] - 0s 989us/step - loss: 0.5467 - accuracy: 0.7546 - val_loss: 0.5164 - val_accuracy: 0.7647\n",
      "Epoch 18/100\n",
      "105/105 [==============================] - 0s 1ms/step - loss: 0.5423 - accuracy: 0.7492 - val_loss: 0.5065 - val_accuracy: 0.7611\n",
      "Epoch 19/100\n",
      "105/105 [==============================] - 0s 999us/step - loss: 0.5328 - accuracy: 0.7684 - val_loss: 0.4990 - val_accuracy: 0.7863\n",
      "Epoch 20/100\n",
      "105/105 [==============================] - 0s 1ms/step - loss: 0.5286 - accuracy: 0.7633 - val_loss: 0.4950 - val_accuracy: 0.7911\n",
      "Epoch 21/100\n",
      "105/105 [==============================] - 0s 1ms/step - loss: 0.5276 - accuracy: 0.7693 - val_loss: 0.5232 - val_accuracy: 0.7611\n",
      "Epoch 22/100\n",
      "105/105 [==============================] - 0s 993us/step - loss: 0.5192 - accuracy: 0.7753 - val_loss: 0.4851 - val_accuracy: 0.7923\n",
      "Epoch 23/100\n",
      "105/105 [==============================] - 0s 968us/step - loss: 0.5130 - accuracy: 0.7753 - val_loss: 0.4828 - val_accuracy: 0.7791\n",
      "Epoch 24/100\n",
      "105/105 [==============================] - 0s 982us/step - loss: 0.5118 - accuracy: 0.7756 - val_loss: 0.4872 - val_accuracy: 0.7899\n",
      "Epoch 25/100\n",
      "105/105 [==============================] - 0s 1ms/step - loss: 0.5151 - accuracy: 0.7699 - val_loss: 0.4725 - val_accuracy: 0.8007\n",
      "Epoch 26/100\n",
      "105/105 [==============================] - 0s 1ms/step - loss: 0.5002 - accuracy: 0.7750 - val_loss: 0.4769 - val_accuracy: 0.8019\n",
      "Epoch 27/100\n",
      "105/105 [==============================] - 0s 981us/step - loss: 0.4993 - accuracy: 0.7777 - val_loss: 0.4699 - val_accuracy: 0.7971\n",
      "Epoch 28/100\n",
      "105/105 [==============================] - 0s 984us/step - loss: 0.4950 - accuracy: 0.7813 - val_loss: 0.4740 - val_accuracy: 0.7887\n",
      "Epoch 29/100\n",
      "105/105 [==============================] - 0s 1ms/step - loss: 0.4983 - accuracy: 0.7816 - val_loss: 0.4722 - val_accuracy: 0.7923\n",
      "Epoch 30/100\n",
      "105/105 [==============================] - 0s 1ms/step - loss: 0.4831 - accuracy: 0.7912 - val_loss: 0.4632 - val_accuracy: 0.7935\n",
      "Epoch 31/100\n",
      "105/105 [==============================] - 0s 1ms/step - loss: 0.4778 - accuracy: 0.7912 - val_loss: 0.4601 - val_accuracy: 0.7935\n",
      "Epoch 32/100\n",
      "105/105 [==============================] - 0s 940us/step - loss: 0.4759 - accuracy: 0.7879 - val_loss: 0.4465 - val_accuracy: 0.8055\n",
      "Epoch 33/100\n",
      "105/105 [==============================] - 0s 966us/step - loss: 0.4723 - accuracy: 0.7945 - val_loss: 0.4523 - val_accuracy: 0.8139\n",
      "Epoch 34/100\n",
      "105/105 [==============================] - 0s 914us/step - loss: 0.4751 - accuracy: 0.7879 - val_loss: 0.4459 - val_accuracy: 0.8079\n",
      "Epoch 35/100\n",
      "105/105 [==============================] - 0s 1ms/step - loss: 0.4604 - accuracy: 0.8005 - val_loss: 0.4464 - val_accuracy: 0.7959\n",
      "Epoch 36/100\n",
      "105/105 [==============================] - 0s 1ms/step - loss: 0.4574 - accuracy: 0.7996 - val_loss: 0.4346 - val_accuracy: 0.8067\n",
      "Epoch 37/100\n",
      "105/105 [==============================] - 0s 972us/step - loss: 0.4537 - accuracy: 0.7975 - val_loss: 0.4304 - val_accuracy: 0.7983\n",
      "Epoch 38/100\n",
      "105/105 [==============================] - 0s 933us/step - loss: 0.4423 - accuracy: 0.8084 - val_loss: 0.4254 - val_accuracy: 0.8127\n",
      "Epoch 39/100\n",
      "105/105 [==============================] - 0s 977us/step - loss: 0.4406 - accuracy: 0.8047 - val_loss: 0.4287 - val_accuracy: 0.8067\n",
      "Epoch 40/100\n",
      "105/105 [==============================] - 0s 938us/step - loss: 0.4370 - accuracy: 0.8074 - val_loss: 0.4465 - val_accuracy: 0.7959\n",
      "Epoch 41/100\n",
      "105/105 [==============================] - 0s 903us/step - loss: 0.4480 - accuracy: 0.7948 - val_loss: 0.4149 - val_accuracy: 0.8103\n",
      "Epoch 42/100\n",
      "105/105 [==============================] - 0s 905us/step - loss: 0.4308 - accuracy: 0.8062 - val_loss: 0.4086 - val_accuracy: 0.8175\n",
      "Epoch 43/100\n",
      "105/105 [==============================] - 0s 913us/step - loss: 0.4234 - accuracy: 0.8032 - val_loss: 0.4023 - val_accuracy: 0.8175\n",
      "Epoch 44/100\n",
      "105/105 [==============================] - 0s 971us/step - loss: 0.4244 - accuracy: 0.8047 - val_loss: 0.4044 - val_accuracy: 0.8271\n",
      "Epoch 45/100\n",
      "105/105 [==============================] - 0s 937us/step - loss: 0.4127 - accuracy: 0.8234 - val_loss: 0.3996 - val_accuracy: 0.8259\n",
      "Epoch 46/100\n",
      "105/105 [==============================] - 0s 942us/step - loss: 0.4037 - accuracy: 0.8210 - val_loss: 0.4037 - val_accuracy: 0.8151\n",
      "Epoch 47/100\n",
      "105/105 [==============================] - 0s 945us/step - loss: 0.4045 - accuracy: 0.8186 - val_loss: 0.3903 - val_accuracy: 0.8235\n",
      "Epoch 48/100\n",
      "105/105 [==============================] - 0s 898us/step - loss: 0.3993 - accuracy: 0.8198 - val_loss: 0.3935 - val_accuracy: 0.8091\n",
      "Epoch 49/100\n",
      "105/105 [==============================] - 0s 965us/step - loss: 0.3948 - accuracy: 0.8267 - val_loss: 0.3977 - val_accuracy: 0.8103\n",
      "Epoch 50/100\n",
      "105/105 [==============================] - 0s 944us/step - loss: 0.3873 - accuracy: 0.8300 - val_loss: 0.4023 - val_accuracy: 0.8139\n",
      "Epoch 51/100\n",
      "105/105 [==============================] - 0s 953us/step - loss: 0.3861 - accuracy: 0.8342 - val_loss: 0.3753 - val_accuracy: 0.8199\n",
      "Epoch 52/100\n",
      "105/105 [==============================] - 0s 901us/step - loss: 0.3850 - accuracy: 0.8297 - val_loss: 0.3702 - val_accuracy: 0.8271\n",
      "Epoch 53/100\n",
      "105/105 [==============================] - 0s 944us/step - loss: 0.3774 - accuracy: 0.8345 - val_loss: 0.3742 - val_accuracy: 0.8367\n",
      "Epoch 54/100\n",
      "105/105 [==============================] - 0s 955us/step - loss: 0.3668 - accuracy: 0.8423 - val_loss: 0.3659 - val_accuracy: 0.8307\n",
      "Epoch 55/100\n",
      "105/105 [==============================] - 0s 965us/step - loss: 0.3604 - accuracy: 0.8441 - val_loss: 0.3609 - val_accuracy: 0.8271\n",
      "Epoch 56/100\n",
      "105/105 [==============================] - 0s 956us/step - loss: 0.3678 - accuracy: 0.8306 - val_loss: 0.3619 - val_accuracy: 0.8379\n",
      "Epoch 57/100\n",
      "105/105 [==============================] - 0s 1ms/step - loss: 0.3655 - accuracy: 0.8396 - val_loss: 0.3432 - val_accuracy: 0.8499\n",
      "Epoch 58/100\n",
      "105/105 [==============================] - 0s 1ms/step - loss: 0.3438 - accuracy: 0.8528 - val_loss: 0.3403 - val_accuracy: 0.8355\n",
      "Epoch 59/100\n",
      "105/105 [==============================] - 0s 967us/step - loss: 0.3402 - accuracy: 0.8540 - val_loss: 0.3292 - val_accuracy: 0.8511\n",
      "Epoch 60/100\n",
      "105/105 [==============================] - 0s 962us/step - loss: 0.3304 - accuracy: 0.8615 - val_loss: 0.3194 - val_accuracy: 0.8667\n",
      "Epoch 61/100\n",
      "105/105 [==============================] - 0s 974us/step - loss: 0.3275 - accuracy: 0.8651 - val_loss: 0.3217 - val_accuracy: 0.8499\n",
      "Epoch 62/100\n",
      "105/105 [==============================] - 0s 911us/step - loss: 0.3168 - accuracy: 0.8690 - val_loss: 0.3184 - val_accuracy: 0.8631\n",
      "Epoch 63/100\n",
      "105/105 [==============================] - 0s 917us/step - loss: 0.3128 - accuracy: 0.8711 - val_loss: 0.2950 - val_accuracy: 0.8824\n",
      "Epoch 64/100\n",
      "105/105 [==============================] - 0s 957us/step - loss: 0.3032 - accuracy: 0.8735 - val_loss: 0.2996 - val_accuracy: 0.8848\n",
      "Epoch 65/100\n",
      "105/105 [==============================] - 0s 933us/step - loss: 0.2977 - accuracy: 0.8874 - val_loss: 0.2898 - val_accuracy: 0.8824\n",
      "Epoch 66/100\n",
      "105/105 [==============================] - 0s 944us/step - loss: 0.2919 - accuracy: 0.8856 - val_loss: 0.2900 - val_accuracy: 0.8812\n",
      "Epoch 67/100\n",
      "105/105 [==============================] - 0s 960us/step - loss: 0.2860 - accuracy: 0.8949 - val_loss: 0.2816 - val_accuracy: 0.8908\n",
      "Epoch 68/100\n",
      "105/105 [==============================] - 0s 932us/step - loss: 0.2831 - accuracy: 0.8937 - val_loss: 0.2771 - val_accuracy: 0.9004\n",
      "Epoch 69/100\n",
      "105/105 [==============================] - 0s 985us/step - loss: 0.2808 - accuracy: 0.9009 - val_loss: 0.3019 - val_accuracy: 0.8812\n",
      "Epoch 70/100\n",
      "105/105 [==============================] - 0s 935us/step - loss: 0.2794 - accuracy: 0.8922 - val_loss: 0.2653 - val_accuracy: 0.8932\n",
      "Epoch 71/100\n",
      "105/105 [==============================] - 0s 972us/step - loss: 0.2671 - accuracy: 0.9069 - val_loss: 0.2724 - val_accuracy: 0.8752\n",
      "Epoch 72/100\n",
      "105/105 [==============================] - 0s 903us/step - loss: 0.2610 - accuracy: 0.9063 - val_loss: 0.2697 - val_accuracy: 0.8836\n",
      "Epoch 73/100\n",
      "105/105 [==============================] - 0s 960us/step - loss: 0.2522 - accuracy: 0.9108 - val_loss: 0.2514 - val_accuracy: 0.9112\n",
      "Epoch 74/100\n",
      "105/105 [==============================] - 0s 902us/step - loss: 0.2480 - accuracy: 0.9132 - val_loss: 0.2506 - val_accuracy: 0.8980\n",
      "Epoch 75/100\n",
      "105/105 [==============================] - 0s 912us/step - loss: 0.2480 - accuracy: 0.9108 - val_loss: 0.2430 - val_accuracy: 0.8968\n",
      "Epoch 76/100\n",
      "105/105 [==============================] - 0s 960us/step - loss: 0.2417 - accuracy: 0.9120 - val_loss: 0.2356 - val_accuracy: 0.9016\n",
      "Epoch 77/100\n",
      "105/105 [==============================] - 0s 943us/step - loss: 0.2299 - accuracy: 0.9228 - val_loss: 0.2434 - val_accuracy: 0.9064\n",
      "Epoch 78/100\n",
      "105/105 [==============================] - 0s 950us/step - loss: 0.2320 - accuracy: 0.9222 - val_loss: 0.2394 - val_accuracy: 0.9076\n",
      "Epoch 79/100\n",
      "105/105 [==============================] - 0s 933us/step - loss: 0.2253 - accuracy: 0.9231 - val_loss: 0.2191 - val_accuracy: 0.9196\n",
      "Epoch 80/100\n",
      "105/105 [==============================] - 0s 953us/step - loss: 0.2187 - accuracy: 0.9231 - val_loss: 0.2128 - val_accuracy: 0.9232\n",
      "Epoch 81/100\n",
      "105/105 [==============================] - 0s 969us/step - loss: 0.2142 - accuracy: 0.9267 - val_loss: 0.2283 - val_accuracy: 0.9100\n",
      "Epoch 82/100\n",
      "105/105 [==============================] - 0s 936us/step - loss: 0.2131 - accuracy: 0.9252 - val_loss: 0.2156 - val_accuracy: 0.9136\n",
      "Epoch 83/100\n",
      "105/105 [==============================] - 0s 902us/step - loss: 0.2065 - accuracy: 0.9324 - val_loss: 0.2054 - val_accuracy: 0.9184\n",
      "Epoch 84/100\n",
      "105/105 [==============================] - 0s 934us/step - loss: 0.2077 - accuracy: 0.9261 - val_loss: 0.2153 - val_accuracy: 0.9244\n",
      "Epoch 85/100\n",
      "105/105 [==============================] - 0s 956us/step - loss: 0.1990 - accuracy: 0.9330 - val_loss: 0.2026 - val_accuracy: 0.9124\n",
      "Epoch 86/100\n",
      "105/105 [==============================] - 0s 899us/step - loss: 0.1947 - accuracy: 0.9369 - val_loss: 0.2033 - val_accuracy: 0.9172\n",
      "Epoch 87/100\n",
      "105/105 [==============================] - 0s 952us/step - loss: 0.1889 - accuracy: 0.9390 - val_loss: 0.1961 - val_accuracy: 0.9244\n",
      "Epoch 88/100\n",
      "105/105 [==============================] - 0s 912us/step - loss: 0.1868 - accuracy: 0.9396 - val_loss: 0.2125 - val_accuracy: 0.9244\n",
      "Epoch 89/100\n",
      "105/105 [==============================] - 0s 997us/step - loss: 0.1822 - accuracy: 0.9396 - val_loss: 0.1800 - val_accuracy: 0.9340\n",
      "Epoch 90/100\n",
      "105/105 [==============================] - 0s 980us/step - loss: 0.1791 - accuracy: 0.9432 - val_loss: 0.1815 - val_accuracy: 0.9424\n",
      "Epoch 91/100\n",
      "105/105 [==============================] - 0s 968us/step - loss: 0.1781 - accuracy: 0.9444 - val_loss: 0.1725 - val_accuracy: 0.9376\n",
      "Epoch 92/100\n",
      "105/105 [==============================] - 0s 900us/step - loss: 0.1715 - accuracy: 0.9414 - val_loss: 0.1846 - val_accuracy: 0.9196\n",
      "Epoch 93/100\n",
      "105/105 [==============================] - 0s 943us/step - loss: 0.1738 - accuracy: 0.9483 - val_loss: 0.1696 - val_accuracy: 0.9340\n",
      "Epoch 94/100\n",
      "105/105 [==============================] - 0s 911us/step - loss: 0.1623 - accuracy: 0.9507 - val_loss: 0.1758 - val_accuracy: 0.9292\n",
      "Epoch 95/100\n",
      "105/105 [==============================] - 0s 952us/step - loss: 0.1606 - accuracy: 0.9501 - val_loss: 0.1663 - val_accuracy: 0.9328\n",
      "Epoch 96/100\n",
      "105/105 [==============================] - 0s 937us/step - loss: 0.1592 - accuracy: 0.9543 - val_loss: 0.1614 - val_accuracy: 0.9568\n",
      "Epoch 97/100\n",
      "105/105 [==============================] - 0s 941us/step - loss: 0.1485 - accuracy: 0.9534 - val_loss: 0.1688 - val_accuracy: 0.9496\n",
      "Epoch 98/100\n",
      "105/105 [==============================] - 0s 941us/step - loss: 0.1492 - accuracy: 0.9585 - val_loss: 0.1453 - val_accuracy: 0.9556\n",
      "Epoch 99/100\n",
      "105/105 [==============================] - 0s 930us/step - loss: 0.1452 - accuracy: 0.9585 - val_loss: 0.1681 - val_accuracy: 0.9256\n",
      "Epoch 100/100\n",
      "105/105 [==============================] - 0s 944us/step - loss: 0.1415 - accuracy: 0.9573 - val_loss: 0.1428 - val_accuracy: 0.9616\n"
     ]
    }
   ],
   "source": [
    "learning_rate = 0.001\n",
    "\n",
    "#Compilation of the model\n",
    "model.compile(loss='categorical_crossentropy', optimizer=Adam(learning_rate), metrics=['accuracy'])\n",
    "epochs = 100\n",
    "history = model.fit(x_train, y_train, batch_size=32, epochs=epochs,validation_data=(x_test, y_test))"
   ]
  },
  {
   "cell_type": "markdown",
   "metadata": {},
   "source": [
    "# Plotting graphs for accuracy "
   ]
  },
  {
   "cell_type": "code",
   "execution_count": 323,
   "metadata": {},
   "outputs": [
    {
     "data": {
      "image/png": "[encoded data removed]",
      "text/plain": [
       "<Figure size 432x288 with 1 Axes>"
      ]
     },
     "metadata": {
      "needs_background": "light"
     },
     "output_type": "display_data"
    },
    {
     "data": {
      "image/png": "[encoded data removed]",
      "text/plain": [
       "<Figure size 432x288 with 1 Axes>"
      ]
     },
     "metadata": {
      "needs_background": "light"
     },
     "output_type": "display_data"
    }
   ],
   "source": [
    "plt.figure(0)\n",
    "plt.plot(history.history['accuracy'],label='training accuracy')\n",
    "plt.plot(history.history['val_accuracy'],label='val_accuracy')\n",
    "plt.title('Accuracy')\n",
    "plt.xlabel('epochs')\n",
    "plt.ylabel('accuracy')\n",
    "plt.legend()\n",
    "plt.show()\n",
    "\n",
    "plt.figure(1)\n",
    "plt.plot(history.history['loss'], label='training loss')\n",
    "plt.plot(history.history['val_loss'], label='val loss')\n",
    "plt.title('Loss')\n",
    "plt.xlabel('epochs')\n",
    "plt.ylabel('loss')\n",
    "plt.legend()\n",
    "plt.show()"
   ]
  },
  {
   "cell_type": "markdown",
   "metadata": {},
   "source": [
    "# Loading Model"
   ]
  },
  {
   "cell_type": "code",
   "execution_count": 331,
   "metadata": {},
   "outputs": [],
   "source": [
    "model.save('anomaly_in_sensors_model_for_3_sensors.h5')"
   ]
  },
  {
   "cell_type": "code",
   "execution_count": 332,
   "metadata": {},
   "outputs": [],
   "source": [
    "from keras.models import load_model\n",
    "\n",
    "model = load_model('anomaly_in_sensors_model_for_3_sensor.h5')"
   ]
  },
  {
   "cell_type": "code",
   "execution_count": 333,
   "metadata": {},
   "outputs": [
    {
     "name": "stdout",
     "output_type": "stream",
     "text": [
      "Model: \"sequential_44\"\n",
      "_________________________________________________________________\n",
      "Layer (type)                 Output Shape              Param #   \n",
      "=================================================================\n",
      "dense_204 (Dense)            (None, 8)                 32        \n",
      "_________________________________________________________________\n",
      "dropout_160 (Dropout)        (None, 8)                 0         \n",
      "_________________________________________________________________\n",
      "dense_205 (Dense)            (None, 4)                 36        \n",
      "_________________________________________________________________\n",
      "dropout_161 (Dropout)        (None, 4)                 0         \n",
      "_________________________________________________________________\n",
      "dense_206 (Dense)            (None, 6)                 30        \n",
      "_________________________________________________________________\n",
      "dropout_162 (Dropout)        (None, 6)                 0         \n",
      "_________________________________________________________________\n",
      "dense_207 (Dense)            (None, 8)                 56        \n",
      "_________________________________________________________________\n",
      "dropout_163 (Dropout)        (None, 8)                 0         \n",
      "_________________________________________________________________\n",
      "dense_208 (Dense)            (None, 8)                 72        \n",
      "=================================================================\n",
      "Total params: 226\n",
      "Trainable params: 226\n",
      "Non-trainable params: 0\n",
      "_________________________________________________________________\n"
     ]
    }
   ],
   "source": [
    "model.summary()"
   ]
  },
  {
   "cell_type": "code",
   "execution_count": 334,
   "metadata": {},
   "outputs": [
    {
     "name": "stdout",
     "output_type": "stream",
     "text": [
      "548\n"
     ]
    }
   ],
   "source": [
    "pred_train = model.predict_classes(x_train)\n",
    "count = 0\n",
    "for i in pred_train:\n",
    "    if (i==0) :\n",
    "        count = count+1\n",
    "        \n",
    "print(count)"
   ]
  },
  {
   "cell_type": "code",
   "execution_count": 339,
   "metadata": {
    "scrolled": true
   },
   "outputs": [
    {
     "name": "stdout",
     "output_type": "stream",
     "text": [
      "(3329, 8)\n"
     ]
    }
   ],
   "source": [
    "label=np.array(y_train)\n",
    "print(label.shape)"
   ]
  },
  {
   "cell_type": "code",
   "execution_count": 340,
   "metadata": {},
   "outputs": [
    {
     "name": "stdout",
     "output_type": "stream",
     "text": [
      "[[[134.903307    20.77754779  21.92976764]]]\n",
      "[[1]]\n"
     ]
    }
   ],
   "source": [
    "samples = np.array([[data[6][0:3]]])      \n",
    "print(samples)\n",
    "prediction = model.predict_classes(samples)\n",
    "print(prediction)"
   ]
  },
  {
   "cell_type": "code",
   "execution_count": 363,
   "metadata": {},
   "outputs": [
    {
     "name": "stdout",
     "output_type": "stream",
     "text": [
      "[[100  40  45]]\n",
      "[7]\n"
     ]
    }
   ],
   "source": [
    "samples = np.array([[100,40,45]])      \n",
    "print(samples)\n",
    "prediction = model.predict_classes(samples)\n",
    "print(prediction)"
   ]
  },
  {
   "cell_type": "code",
   "execution_count": null,
   "metadata": {},
   "outputs": [],
   "source": [
    "# note : for class 5 -->  <85  , xy  , xy     why?   "
   ]
  }
 ],
 "metadata": {
  "kernelspec": {
   "display_name": "Python 3",
   "language": "python",
   "name": "python3"
  },
  "language_info": {
   "codemirror_mode": {
    "name": "ipython",
    "version": 3
   },
   "file_extension": ".py",
   "mimetype": "text/x-python",
   "name": "python",
   "nbconvert_exporter": "python",
   "pygments_lexer": "ipython3",
   "version": "3.7.6"
  }
 },
 "nbformat": 4,
 "nbformat_minor": 4
}
