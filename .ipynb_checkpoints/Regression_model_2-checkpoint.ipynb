{
 "cells": [
  {
   "cell_type": "markdown",
   "metadata": {},
   "source": [
    "# Regression Model 2"
   ]
  },
  {
   "cell_type": "code",
   "execution_count": null,
   "metadata": {},
   "outputs": [],
   "source": [
    "from sklearn.linear_model import LogisticRegression \n",
    "from sklearn.metrics import accuracy_score\n",
    "from sklearn.preprocessing import StandardScaler\n",
    "from sklearn.model_selection import train_test_split\n",
    "import numpy as np\n",
    "import pickle"
   ]
  },
  {
   "cell_type": "code",
   "execution_count": null,
   "metadata": {},
   "outputs": [],
   "source": [
    "data = np.loadtxt(\"OBD_sensors_new.csv\",delimiter=\",\")\n",
    "x = data[:,0:-1]\n",
    "y = data[:,-1]\n",
    "\n",
    "# Spliting dataset into train and test \n",
    "x_train,x_test,y_train,y_test = train_test_split(x,y,test_size=0.2,random_state=10)\n",
    "print(x.shape)\n",
    "print(y.shape)\n",
    "\n",
    "scaler = StandardScaler()\n",
    "# Fit on training set only.\n",
    "scaler.fit(x)\n",
    "\n",
    "# appling tranform to training dataset\n",
    "x_train = scaler.transform(x_train)\n",
    "x_test = scaler.transform(x_test)\n",
    "\n",
    "# define model\n",
    "model = LogisticRegression(solver='lbfgs')\n",
    "\n",
    "# fit model\n",
    "model.fit(x_train,y_train)\n",
    "\n",
    "y_pred = model.predict(x_test)\n",
    "\n",
    "# evaluate prediction\n",
    "acc = accuracy_score(y_test,y_pred)\n",
    "print(\"Accuracy : \",acc)\n",
    "count_misclassified = (y_test != y_pred).sum()\n",
    "print('Misclassified samples: {}'.format(count_misclassified))"
   ]
  },
  {
   "cell_type": "code",
   "execution_count": null,
   "metadata": {
    "scrolled": true
   },
   "outputs": [],
   "source": [
    "x_train[0]"
   ]
  },
  {
   "cell_type": "code",
   "execution_count": null,
   "metadata": {},
   "outputs": [],
   "source": [
    "x[0]"
   ]
  },
  {
   "cell_type": "code",
   "execution_count": null,
   "metadata": {},
   "outputs": [],
   "source": [
    "# saving regression model in binary mode\n",
    "\n",
    "pickle.dump(scaler,open('scalar_values_2.sav','wb'))\n",
    "pickle.dump(model,open('Regression_model_2.sav','wb'))"
   ]
  },
  {
   "cell_type": "markdown",
   "metadata": {},
   "source": [
    "# Loading Saved Model "
   ]
  },
  {
   "cell_type": "code",
   "execution_count": 1,
   "metadata": {},
   "outputs": [],
   "source": [
    "import pickle\n",
    "\n",
    "# loading saved regression model in reading and binary mode\n",
    "loaded_model = pickle.load(open('Regression_model.sav','rb'))\n",
    "loaded_scaler = pickle.load(open('scalar_values_2.sav','rb'))"
   ]
  },
  {
   "cell_type": "code",
   "execution_count": 3,
   "metadata": {},
   "outputs": [
    {
     "name": "stdout",
     "output_type": "stream",
     "text": [
      "Predicted class:  [4.]\n",
      "Predicted class:  [5.]\n",
      "Predicted class:  [0.]\n",
      "Predicted class:  [4.]\n",
      "Predicted class:  [2.]\n",
      "Predicted class:  [0.]\n",
      "Predicted class:  [3.]\n",
      "Predicted class:  [3.]\n",
      "Predicted class:  [3.]\n"
     ]
    }
   ],
   "source": [
    "# tesing with sample input\n",
    "new_input1 = [[120.2689798,78.89517456,25.17536715]]\n",
    "new_input1 = loaded_scaler.transform(new_input1)\n",
    "new_output1 = loaded_model.predict(new_input1)\n",
    "print(\"Predicted class: \",new_output1)\n",
    "\n",
    "# tesing with sample input\n",
    "new_input2 = [[132.7802656,84.897217,70.86279657]]\n",
    "new_input2 = loaded_scaler.transform(new_input2)\n",
    "new_output2 = loaded_model.predict(new_input2)\n",
    "print(\"Predicted class: \",new_output2)  \n",
    "\n",
    "# tesing with sample input\n",
    "new_input3 = [[88.53463932,21.89293189,20.19076469]]\n",
    "new_input3 = loaded_scaler.transform(new_input3)\n",
    "new_output3 = loaded_model.predict(new_input3)\n",
    "print(\"Predicted class: \",new_output3) \n",
    "\n",
    "# tesing with sample input\n",
    "new_input4 = [[125,80,27]]\n",
    "new_input4 = loaded_scaler.transform(new_input4)\n",
    "new_output4 = loaded_model.predict(new_input4)\n",
    "print(\"Predicted class: \",new_output4)  \n",
    "\n",
    "# tesing with sample input\n",
    "new_input5 = [[85,87,29]]\n",
    "new_input5 = loaded_scaler.transform(new_input5)\n",
    "new_output5 = loaded_model.predict(new_input5)\n",
    "print(\"Predicted class: \",new_output5) \n",
    "\n",
    "# tesing with sample input\n",
    "new_input6 = [[200,25.04716797,27]]     ## Problem: it is giving class 1 only on increasing sensor_1 value to a very high level \n",
    "new_input6 = loaded_scaler.transform(new_input6)\n",
    "new_output6 = loaded_model.predict(new_input6)\n",
    "print(\"Predicted class: \",new_output6)\n",
    "\n",
    "# tesing with sample input\n",
    "new_input7 = [[85,25,73]]\n",
    "new_input7 = loaded_scaler.transform(new_input7)\n",
    "new_output7 = loaded_model.predict(new_input7)\n",
    "print(\"Predicted class: \",new_output7) \n",
    "\n",
    "# tesing with sample input\n",
    "new_input8 = [[110,11,73]]\n",
    "new_input8 = loaded_scaler.transform(new_input8)\n",
    "new_output8 = loaded_model.predict(new_input8)\n",
    "print(\"Predicted class: \",new_output8)\n",
    "\n",
    "# tesing with sample input\n",
    "new_input9 = [[80,11,60]]         ## Wrong output\n",
    "new_input9 = loaded_scaler.transform(new_input9)\n",
    "new_output9 = loaded_model.predict(new_input9)\n",
    "print(\"Predicted class: \",new_output9) "
   ]
  },
  {
   "cell_type": "code",
   "execution_count": 4,
   "metadata": {},
   "outputs": [],
   "source": [
    "## note: poor prediction"
   ]
  }
 ],
 "metadata": {
  "kernelspec": {
   "display_name": "Python 3",
   "language": "python",
   "name": "python3"
  },
  "language_info": {
   "codemirror_mode": {
    "name": "ipython",
    "version": 3
   },
   "file_extension": ".py",
   "mimetype": "text/x-python",
   "name": "python",
   "nbconvert_exporter": "python",
   "pygments_lexer": "ipython3",
   "version": "3.7.6"
  }
 },
 "nbformat": 4,
 "nbformat_minor": 4
}
