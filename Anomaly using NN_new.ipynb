{
 "cells": [
  {
   "cell_type": "code",
   "execution_count": 1,
   "metadata": {},
   "outputs": [],
   "source": [
    "from sklearn.model_selection import train_test_split\n",
    "from keras.models import Sequential\n",
    "from keras.layers.core import Dense\n",
    "import numpy as np"
   ]
  },
  {
   "cell_type": "code",
   "execution_count": 2,
   "metadata": {},
   "outputs": [],
   "source": [
    "import pandas as pd"
   ]
  },
  {
   "cell_type": "code",
   "execution_count": 3,
   "metadata": {},
   "outputs": [],
   "source": [
    "data = np.loadtxt(\"OBD_sensors_new.csv\",delimiter=\",\")"
   ]
  },
  {
   "cell_type": "code",
   "execution_count": 4,
   "metadata": {
    "scrolled": false
   },
   "outputs": [
    {
     "data": {
      "text/plain": [
       "(8865, 4)"
      ]
     },
     "execution_count": 4,
     "metadata": {},
     "output_type": "execute_result"
    }
   ],
   "source": [
    "data.shape"
   ]
  },
  {
   "cell_type": "code",
   "execution_count": 5,
   "metadata": {},
   "outputs": [
    {
     "data": {
      "text/plain": [
       "numpy.ndarray"
      ]
     },
     "execution_count": 5,
     "metadata": {},
     "output_type": "execute_result"
    }
   ],
   "source": [
    "type(data)"
   ]
  },
  {
   "cell_type": "code",
   "execution_count": 38,
   "metadata": {},
   "outputs": [
    {
     "name": "stdout",
     "output_type": "stream",
     "text": [
      "(8865, 3)\n",
      "(8865,)\n"
     ]
    }
   ],
   "source": [
    "x = data[:,0:3]\n",
    "y = data[:,3]\n",
    "\n",
    "# Spliting dataset into train and test \n",
    "x_train,x_test,y_train,y_test = train_test_split(x,y,test_size=70,random_state=10)\n",
    "print(x.shape)\n",
    "print(y.shape)"
   ]
  },
  {
   "cell_type": "code",
   "execution_count": 39,
   "metadata": {
    "scrolled": true
   },
   "outputs": [
    {
     "data": {
      "text/plain": [
       "(8795, 3)"
      ]
     },
     "execution_count": 39,
     "metadata": {},
     "output_type": "execute_result"
    }
   ],
   "source": [
    "x_train.shape"
   ]
  },
  {
   "cell_type": "code",
   "execution_count": 40,
   "metadata": {
    "scrolled": true
   },
   "outputs": [
    {
     "data": {
      "text/plain": [
       "(70, 3)"
      ]
     },
     "execution_count": 40,
     "metadata": {},
     "output_type": "execute_result"
    }
   ],
   "source": [
    "x_test.shape"
   ]
  },
  {
   "cell_type": "code",
   "execution_count": 41,
   "metadata": {},
   "outputs": [
    {
     "data": {
      "text/plain": [
       "(70,)"
      ]
     },
     "execution_count": 41,
     "metadata": {},
     "output_type": "execute_result"
    }
   ],
   "source": [
    "y_test.shape"
   ]
  },
  {
   "cell_type": "code",
   "execution_count": 42,
   "metadata": {},
   "outputs": [
    {
     "data": {
      "text/plain": [
       "(8795,)"
      ]
     },
     "execution_count": 42,
     "metadata": {},
     "output_type": "execute_result"
    }
   ],
   "source": [
    "y_train.shape"
   ]
  },
  {
   "cell_type": "code",
   "execution_count": 43,
   "metadata": {
    "scrolled": true
   },
   "outputs": [
    {
     "data": {
      "text/plain": [
       "array([6., 0., 0., 2., 6., 0., 0., 0., 0., 0., 6., 0., 0., 5., 0., 5., 7.,\n",
       "       0., 3., 0., 0., 0., 5., 0., 5., 3., 0., 0., 3., 5., 0., 4., 0., 0.,\n",
       "       3., 7., 3., 0., 1., 0., 0., 0., 0., 6., 6., 7., 1., 0., 0., 1., 7.,\n",
       "       7., 3., 0., 6., 6., 7., 0., 7., 0., 4., 0., 0., 3., 0., 0., 4., 4.,\n",
       "       0., 4.])"
      ]
     },
     "execution_count": 43,
     "metadata": {},
     "output_type": "execute_result"
    }
   ],
   "source": [
    "y_test"
   ]
  },
  {
   "cell_type": "code",
   "execution_count": 44,
   "metadata": {},
   "outputs": [
    {
     "data": {
      "text/plain": [
       "array([0., 4., 0., ..., 0., 0., 0.])"
      ]
     },
     "execution_count": 44,
     "metadata": {},
     "output_type": "execute_result"
    }
   ],
   "source": [
    "y_train"
   ]
  },
  {
   "cell_type": "code",
   "execution_count": null,
   "metadata": {},
   "outputs": [],
   "source": []
  },
  {
   "cell_type": "markdown",
   "metadata": {},
   "source": [
    "# Creating the model"
   ]
  },
  {
   "cell_type": "code",
   "execution_count": 143,
   "metadata": {},
   "outputs": [],
   "source": [
    "model = Sequential()\n",
    "model.add(Dense(3,input_dim=3,activation='relu'))\n",
    "model.add(Dense(6,activation='relu'))\n",
    "model.add(Dense(6,activation='relu'))\n",
    "model.add(Dense(8,activation='softmax'))\n",
    "# model.add(Dense(1,activation='sigmoid'))"
   ]
  },
  {
   "cell_type": "code",
   "execution_count": 144,
   "metadata": {},
   "outputs": [],
   "source": [
    "# model = Sequential()\n",
    "# model.add(Conv2D(filters=32, kernel_size=(5,5), activation='relu', input_shape=x_train.shape(1)))\n",
    "# model.add(Conv2D(filters=32, kernel_size=(5,5), activation='relu'))\n",
    "# model.add(MaxPool2D(pool_size=(2, 2)))\n",
    "# model.add(Dropout(rate=0.25))\n",
    "# model.add(Conv2D(filters=64, kernel_size=(3, 3), activation='relu'))\n",
    "# model.add(Conv2D(filters=64, kernel_size=(3, 3), activation='relu'))\n",
    "# model.add(MaxPool2D(pool_size=(2, 2)))\n",
    "# model.add(Dropout(rate=0.25))\n",
    "# model.add(Flatten())\n",
    "# model.add(Dense(256, activation='relu'))\n",
    "# model.add(Dropout(rate=0.5))\n",
    "# model.add(Dense(8, activation='softmax'))"
   ]
  },
  {
   "cell_type": "code",
   "execution_count": null,
   "metadata": {},
   "outputs": [],
   "source": []
  },
  {
   "cell_type": "markdown",
   "metadata": {},
   "source": [
    "# Compiling the model "
   ]
  },
  {
   "cell_type": "code",
   "execution_count": 145,
   "metadata": {},
   "outputs": [],
   "source": [
    "model.compile(loss=\"binary_crossentropy\",metrics=['accuracy'],optimizer=\"adam\")"
   ]
  },
  {
   "cell_type": "markdown",
   "metadata": {},
   "source": [
    "# Training "
   ]
  },
  {
   "cell_type": "code",
   "execution_count": 146,
   "metadata": {},
   "outputs": [],
   "source": [
    "from keras.callbacks import EarlyStopping, ModelCheckpoint, ReduceLROnPlateau"
   ]
  },
  {
   "cell_type": "code",
   "execution_count": 147,
   "metadata": {},
   "outputs": [
    {
     "name": "stdout",
     "output_type": "stream",
     "text": [
      "\n",
      "Epoch 00001: val_loss improved from inf to 7.68578, saving model to model_001.h5\n",
      "\n",
      "Epoch 00002: val_loss improved from 7.68578 to 7.68527, saving model to model_002.h5\n",
      "\n",
      "Epoch 00003: val_loss improved from 7.68527 to 7.68525, saving model to model_003.h5\n",
      "\n",
      "Epoch 00004: val_loss improved from 7.68525 to 7.68525, saving model to model_004.h5\n",
      "\n",
      "Epoch 00005: val_loss did not improve from 7.68525\n",
      "\n",
      "Epoch 00006: val_loss did not improve from 7.68525\n",
      "\n",
      "Epoch 00007: val_loss did not improve from 7.68525\n",
      "\n",
      "Epoch 00008: val_loss did not improve from 7.68525\n",
      "\n",
      "Epoch 00009: val_loss did not improve from 7.68525\n",
      "\n",
      "Epoch 00010: val_loss did not improve from 7.68525\n",
      "\n",
      "Epoch 00011: val_loss did not improve from 7.68525\n",
      "\n",
      "Epoch 00012: val_loss did not improve from 7.68525\n",
      "\n",
      "Epoch 00013: val_loss did not improve from 7.68525\n",
      "\n",
      "Epoch 00014: val_loss did not improve from 7.68525\n",
      "\n",
      "Epoch 00015: val_loss did not improve from 7.68525\n",
      "\n",
      "Epoch 00016: val_loss did not improve from 7.68525\n",
      "\n",
      "Epoch 00017: val_loss did not improve from 7.68525\n",
      "\n",
      "Epoch 00018: val_loss did not improve from 7.68525\n",
      "\n",
      "Epoch 00019: val_loss did not improve from 7.68525\n",
      "\n",
      "Epoch 00020: val_loss did not improve from 7.68525\n",
      "\n",
      "Epoch 00021: val_loss did not improve from 7.68525\n",
      "\n",
      "Epoch 00022: val_loss did not improve from 7.68525\n",
      "\n",
      "Epoch 00023: val_loss did not improve from 7.68525\n",
      "\n",
      "Epoch 00024: val_loss did not improve from 7.68525\n",
      "\n",
      "Epoch 00025: val_loss did not improve from 7.68525\n",
      "\n",
      "Epoch 00026: val_loss did not improve from 7.68525\n",
      "\n",
      "Epoch 00027: val_loss did not improve from 7.68525\n",
      "\n",
      "Epoch 00028: val_loss did not improve from 7.68525\n",
      "\n",
      "Epoch 00029: val_loss did not improve from 7.68525\n",
      "\n",
      "Epoch 00030: val_loss did not improve from 7.68525\n",
      "\n",
      "Epoch 00031: val_loss did not improve from 7.68525\n",
      "\n",
      "Epoch 00032: val_loss did not improve from 7.68525\n",
      "\n",
      "Epoch 00033: val_loss did not improve from 7.68525\n",
      "\n",
      "Epoch 00034: val_loss did not improve from 7.68525\n",
      "\n",
      "Epoch 00035: val_loss did not improve from 7.68525\n",
      "\n",
      "Epoch 00036: val_loss did not improve from 7.68525\n",
      "\n",
      "Epoch 00037: val_loss did not improve from 7.68525\n",
      "\n",
      "Epoch 00038: val_loss did not improve from 7.68525\n",
      "\n",
      "Epoch 00039: val_loss did not improve from 7.68525\n",
      "\n",
      "Epoch 00040: val_loss did not improve from 7.68525\n",
      "\n",
      "Epoch 00041: val_loss did not improve from 7.68525\n",
      "\n",
      "Epoch 00042: val_loss did not improve from 7.68525\n",
      "\n",
      "Epoch 00043: val_loss did not improve from 7.68525\n",
      "\n",
      "Epoch 00044: val_loss did not improve from 7.68525\n",
      "\n",
      "Epoch 00045: val_loss did not improve from 7.68525\n",
      "\n",
      "Epoch 00046: val_loss did not improve from 7.68525\n",
      "\n",
      "Epoch 00047: val_loss did not improve from 7.68525\n",
      "\n",
      "Epoch 00048: val_loss did not improve from 7.68525\n",
      "\n",
      "Epoch 00049: val_loss did not improve from 7.68525\n",
      "\n",
      "Epoch 00050: val_loss did not improve from 7.68525\n"
     ]
    },
    {
     "data": {
      "text/plain": [
       "<tensorflow.python.keras.callbacks.History at 0x1877ab881c8>"
      ]
     },
     "execution_count": 147,
     "metadata": {},
     "output_type": "execute_result"
    }
   ],
   "source": [
    "checkpoint = ModelCheckpoint('model_{epoch:03d}.h5', verbose=1, monitor='val_loss',save_best_only=True, mode='auto')  \n",
    "\n",
    "model.compile(optimizer='adam', loss='mean_squared_error', metrics=['accuracy'])\n",
    "\n",
    "model.fit(x, y, epochs=50, validation_split=0.4, callbacks=[checkpoint], verbose=False)\n",
    "#model.fit(x,y,epochs=10,batch_size=10)"
   ]
  },
  {
   "cell_type": "code",
   "execution_count": 148,
   "metadata": {},
   "outputs": [],
   "source": [
    "from keras.models import load_model\n",
    "\n",
    "model = load_model('model_002.h5')"
   ]
  },
  {
   "cell_type": "code",
   "execution_count": 149,
   "metadata": {},
   "outputs": [
    {
     "name": "stdout",
     "output_type": "stream",
     "text": [
      "Model: \"sequential_17\"\n",
      "_________________________________________________________________\n",
      "Layer (type)                 Output Shape              Param #   \n",
      "=================================================================\n",
      "dense_68 (Dense)             (None, 3)                 12        \n",
      "_________________________________________________________________\n",
      "dense_69 (Dense)             (None, 6)                 24        \n",
      "_________________________________________________________________\n",
      "dense_70 (Dense)             (None, 6)                 42        \n",
      "_________________________________________________________________\n",
      "dense_71 (Dense)             (None, 8)                 56        \n",
      "=================================================================\n",
      "Total params: 134\n",
      "Trainable params: 134\n",
      "Non-trainable params: 0\n",
      "_________________________________________________________________\n"
     ]
    }
   ],
   "source": [
    "model.summary()"
   ]
  },
  {
   "cell_type": "code",
   "execution_count": 150,
   "metadata": {
    "scrolled": true
   },
   "outputs": [
    {
     "name": "stdout",
     "output_type": "stream",
     "text": [
      "Accuracy on training data =  56.88459351904491 %\n",
      "Accuracy on test data =  50.0 %\n",
      "[[0 0 0 0 0 0 0 0 0 0 0 0 0 2 0 0 2 0 0 0 0 0 0 0 0 0 0 7 0 0 0 0 0 0 0 7\n",
      "  0 0 0 0 0 0 0 0 0 2 0 0 0 0 0 2 0 0 0 0 2 0 0 0 2 0 0 0 0 0 0 0 0 0]]\n",
      "[6. 0. 0. 2. 6. 0. 0. 0. 0. 0. 6. 0. 0. 5. 0. 5. 7. 0. 3. 0. 0. 0. 5. 0.\n",
      " 5. 3. 0. 0. 3. 5. 0. 4. 0. 0. 3. 7. 3. 0. 1. 0. 0. 0. 0. 6. 6. 7. 1. 0.\n",
      " 0. 1. 7. 7. 3. 0. 6. 6. 7. 0. 7. 0. 4. 0. 0. 3. 0. 0. 4. 4. 0. 4.]\n"
     ]
    }
   ],
   "source": [
    "from sklearn.metrics import accuracy_score\n",
    "\n",
    "# prediction on training data\n",
    "label = np.array(y_train)\n",
    "pred_train = model.predict_classes(x_train)\n",
    "print(\"Accuracy on training data = \",accuracy_score(label,pred_train)*100,\"%\")\n",
    "\n",
    "# prediction on test data\n",
    "label = np.array(y_test)\n",
    "pred_test = model.predict_classes(x_test)\n",
    "print(\"Accuracy on test data = \",accuracy_score(label,pred_test)*100,\"%\")\n",
    "print(pred_test.reshape(1,70))\n",
    "print(label)"
   ]
  },
  {
   "cell_type": "code",
   "execution_count": 72,
   "metadata": {},
   "outputs": [],
   "source": [
    "#model.save('anomaly_model.h5')"
   ]
  },
  {
   "cell_type": "markdown",
   "metadata": {},
   "source": [
    "# Loading the model"
   ]
  },
  {
   "cell_type": "code",
   "execution_count": 1,
   "metadata": {},
   "outputs": [],
   "source": [
    "#from keras.models import load_model"
   ]
  },
  {
   "cell_type": "code",
   "execution_count": 151,
   "metadata": {},
   "outputs": [],
   "source": [
    "#model = load_model('anomaly_model.h5')"
   ]
  },
  {
   "cell_type": "code",
   "execution_count": 152,
   "metadata": {
    "scrolled": false
   },
   "outputs": [
    {
     "name": "stdout",
     "output_type": "stream",
     "text": [
      "Model: \"sequential_17\"\n",
      "_________________________________________________________________\n",
      "Layer (type)                 Output Shape              Param #   \n",
      "=================================================================\n",
      "dense_68 (Dense)             (None, 3)                 12        \n",
      "_________________________________________________________________\n",
      "dense_69 (Dense)             (None, 6)                 24        \n",
      "_________________________________________________________________\n",
      "dense_70 (Dense)             (None, 6)                 42        \n",
      "_________________________________________________________________\n",
      "dense_71 (Dense)             (None, 8)                 56        \n",
      "=================================================================\n",
      "Total params: 134\n",
      "Trainable params: 134\n",
      "Non-trainable params: 0\n",
      "_________________________________________________________________\n"
     ]
    }
   ],
   "source": [
    "model.summary()"
   ]
  },
  {
   "cell_type": "code",
   "execution_count": 153,
   "metadata": {},
   "outputs": [],
   "source": [
    "# Trying with real world input\n",
    "#samples = np.array([[data[6][0:16]]])      #([  [   ],[   ]  ])\n",
    "#samples"
   ]
  },
  {
   "cell_type": "code",
   "execution_count": 154,
   "metadata": {},
   "outputs": [],
   "source": [
    "#prediction = model.predict_classes(samples)\n",
    "#prediction"
   ]
  },
  {
   "cell_type": "code",
   "execution_count": 155,
   "metadata": {},
   "outputs": [],
   "source": [
    "#pred = model.predict(samples)\n",
    "#pred"
   ]
  },
  {
   "cell_type": "code",
   "execution_count": null,
   "metadata": {},
   "outputs": [],
   "source": []
  }
 ],
 "metadata": {
  "kernelspec": {
   "display_name": "Python 3",
   "language": "python",
   "name": "python3"
  },
  "language_info": {
   "codemirror_mode": {
    "name": "ipython",
    "version": 3
   },
   "file_extension": ".py",
   "mimetype": "text/x-python",
   "name": "python",
   "nbconvert_exporter": "python",
   "pygments_lexer": "ipython3",
   "version": "3.7.6"
  }
 },
 "nbformat": 4,
 "nbformat_minor": 4
}
