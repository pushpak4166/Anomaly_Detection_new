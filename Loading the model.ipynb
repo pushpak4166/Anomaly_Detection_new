{
 "cells": [
  {
   "cell_type": "code",
   "execution_count": 4,
   "metadata": {},
   "outputs": [],
   "source": [
    "from keras.models import load_model\n",
    "import numpy as np"
   ]
  },
  {
   "cell_type": "code",
   "execution_count": 2,
   "metadata": {},
   "outputs": [],
   "source": [
    "model = load_model('anomaly_model_new.h5')"
   ]
  },
  {
   "cell_type": "code",
   "execution_count": 11,
   "metadata": {},
   "outputs": [
    {
     "name": "stdout",
     "output_type": "stream",
     "text": [
      "[[-9.77276868e+01  3.05533156e+01  2.72402210e+01  1.60000000e+01\n",
      "   2.45000000e+02  2.57000000e+02  3.14770480e+00  5.95953200e+00\n",
      "   6.65496100e+00 -1.54880880e-02  8.60000000e+01  1.92875000e+03\n",
      "   3.10000000e+01  2.11764717e+01  6.30000000e+01  1.60784321e+01]]\n",
      "(1, 16)\n"
     ]
    }
   ],
   "source": [
    "samples = np.array([[-97.72768685,30.55331562,27.240221,16,245,257,3.1477048,5.959532,6.654961,-0.015488088,86,1928.75,31,21.17647171,63,16.07843208]])     \n",
    "print(samples)\n",
    "print(samples.shape)"
   ]
  },
  {
   "cell_type": "code",
   "execution_count": 12,
   "metadata": {},
   "outputs": [
    {
     "data": {
      "text/plain": [
       "array([[1]])"
      ]
     },
     "execution_count": 12,
     "metadata": {},
     "output_type": "execute_result"
    }
   ],
   "source": [
    "prediction = model.predict_classes(samples)\n",
    "prediction"
   ]
  },
  {
   "cell_type": "code",
   "execution_count": null,
   "metadata": {},
   "outputs": [],
   "source": []
  }
 ],
 "metadata": {
  "kernelspec": {
   "display_name": "Python 3",
   "language": "python",
   "name": "python3"
  },
  "language_info": {
   "codemirror_mode": {
    "name": "ipython",
    "version": 3
   },
   "file_extension": ".py",
   "mimetype": "text/x-python",
   "name": "python",
   "nbconvert_exporter": "python",
   "pygments_lexer": "ipython3",
   "version": "3.7.6"
  }
 },
 "nbformat": 4,
 "nbformat_minor": 4
}
