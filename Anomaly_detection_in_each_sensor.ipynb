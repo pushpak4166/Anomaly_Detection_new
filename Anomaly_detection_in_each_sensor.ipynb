{
 "cells": [
  {
   "cell_type": "code",
   "execution_count": 1,
   "metadata": {},
   "outputs": [],
   "source": [
    "from keras.models import Sequential\n",
    "from sklearn.model_selection import train_test_split\n",
    "from keras.layers.core import Dense,Dropout\n",
    "from keras.optimizers import Adam\n",
    "import numpy as np\n",
    "import matplotlib.pyplot as plt\n",
    "from keras.utils import to_categorical"
   ]
  },
  {
   "cell_type": "code",
   "execution_count": 2,
   "metadata": {},
   "outputs": [],
   "source": [
    "import pandas as pd"
   ]
  },
  {
   "cell_type": "code",
   "execution_count": 3,
   "metadata": {},
   "outputs": [],
   "source": [
    "data = np.loadtxt(\"OBD_4_sensors_2.csv\",delimiter=\",\")"
   ]
  },
  {
   "cell_type": "code",
   "execution_count": 4,
   "metadata": {
    "scrolled": false
   },
   "outputs": [
    {
     "data": {
      "text/plain": [
       "(48082, 5)"
      ]
     },
     "execution_count": 4,
     "metadata": {},
     "output_type": "execute_result"
    }
   ],
   "source": [
    "data.shape"
   ]
  },
  {
   "cell_type": "code",
   "execution_count": 5,
   "metadata": {},
   "outputs": [
    {
     "name": "stdout",
     "output_type": "stream",
     "text": [
      "(48082, 4)\n",
      "(48082,)\n"
     ]
    }
   ],
   "source": [
    "x = data[:,0:4]\n",
    "y = data[:,4]\n",
    "\n",
    "# Spliting dataset into train and test \n",
    "x_train,x_test,y_train,y_test = train_test_split(x,y,test_size=0.2,random_state=10)\n",
    "print(x.shape)\n",
    "print(y.shape)"
   ]
  },
  {
   "cell_type": "code",
   "execution_count": 6,
   "metadata": {},
   "outputs": [
    {
     "data": {
      "text/plain": [
       "4"
      ]
     },
     "execution_count": 6,
     "metadata": {},
     "output_type": "execute_result"
    }
   ],
   "source": [
    "x.shape[1]"
   ]
  },
  {
   "cell_type": "code",
   "execution_count": 7,
   "metadata": {},
   "outputs": [
    {
     "name": "stdout",
     "output_type": "stream",
     "text": [
      "(38465, 4)\n",
      "(9617, 4)\n"
     ]
    }
   ],
   "source": [
    "print(x_train.shape)\n",
    "print(x_test.shape)"
   ]
  },
  {
   "cell_type": "code",
   "execution_count": 8,
   "metadata": {},
   "outputs": [
    {
     "name": "stdout",
     "output_type": "stream",
     "text": [
      "0 : 2393\n",
      "1 : 3000\n",
      "2 : 3000\n",
      "3 : 3000\n",
      "4 : 3042\n",
      "5 : 3000\n",
      "6 : 3000\n",
      "7 : 3000\n",
      "8 : 2999\n"
     ]
    }
   ],
   "source": [
    "count=0 \n",
    "for i in y_train:\n",
    "    if (i==0) :\n",
    "        count=count+1\n",
    "print(\"0 :\",count)\n",
    "count=0 \n",
    "for i in y:\n",
    "    if (i==1) :\n",
    "        count=count+1\n",
    "print(\"1 :\",count)\n",
    "count=0 \n",
    "for i in y:\n",
    "    if (i==2) :\n",
    "        count=count+1\n",
    "print(\"2 :\",count)\n",
    "count=0 \n",
    "for i in y:\n",
    "    if (i==3) :\n",
    "        count=count+1\n",
    "print(\"3 :\",count)\n",
    "count=0 \n",
    "for i in y:\n",
    "    if (i==4) :\n",
    "        count=count+1\n",
    "print(\"4 :\",count)\n",
    "count=0 \n",
    "for i in y:\n",
    "    if (i==5) :\n",
    "        count=count+1\n",
    "print(\"5 :\",count)\n",
    "count=0 \n",
    "for i in y:\n",
    "    if (i==6) :\n",
    "        count=count+1\n",
    "print(\"6 :\",count)\n",
    "count=0 \n",
    "for i in y:\n",
    "    if (i==7) :\n",
    "        count=count+1\n",
    "print(\"7 :\",count)\n",
    "count=0 \n",
    "for i in y:\n",
    "    if (i==8) :\n",
    "        count=count+1\n",
    "print(\"8 :\",count)"
   ]
  },
  {
   "cell_type": "code",
   "execution_count": 9,
   "metadata": {},
   "outputs": [],
   "source": [
    "#Converting the labels into one hot encoding\n",
    "y_train = to_categorical(y_train, 16)\n",
    "y_test = to_categorical(y_test, 16)"
   ]
  },
  {
   "cell_type": "code",
   "execution_count": null,
   "metadata": {},
   "outputs": [],
   "source": []
  },
  {
   "cell_type": "code",
   "execution_count": 10,
   "metadata": {
    "scrolled": false
   },
   "outputs": [
    {
     "data": {
      "text/plain": [
       "array([[0., 0., 0., ..., 1., 0., 0.],\n",
       "       [0., 0., 0., ..., 1., 0., 0.],\n",
       "       [0., 0., 0., ..., 0., 1., 0.],\n",
       "       ...,\n",
       "       [0., 0., 0., ..., 0., 0., 0.],\n",
       "       [0., 0., 0., ..., 1., 0., 0.],\n",
       "       [0., 0., 0., ..., 0., 0., 0.]], dtype=float32)"
      ]
     },
     "execution_count": 10,
     "metadata": {},
     "output_type": "execute_result"
    }
   ],
   "source": [
    "y_train"
   ]
  },
  {
   "cell_type": "code",
   "execution_count": 11,
   "metadata": {
    "scrolled": true
   },
   "outputs": [
    {
     "data": {
      "text/plain": [
       "array([[1., 0., 0., ..., 0., 0., 0.],\n",
       "       [0., 0., 0., ..., 0., 0., 0.],\n",
       "       [0., 0., 0., ..., 0., 0., 0.],\n",
       "       ...,\n",
       "       [0., 0., 0., ..., 0., 0., 0.],\n",
       "       [0., 1., 0., ..., 0., 0., 0.],\n",
       "       [0., 0., 0., ..., 0., 0., 1.]], dtype=float32)"
      ]
     },
     "execution_count": 11,
     "metadata": {},
     "output_type": "execute_result"
    }
   ],
   "source": [
    "y_test"
   ]
  },
  {
   "cell_type": "markdown",
   "metadata": {},
   "source": [
    "# Creating the model"
   ]
  },
  {
   "cell_type": "code",
   "execution_count": 12,
   "metadata": {},
   "outputs": [],
   "source": [
    "model = Sequential()\n",
    "model.add(Dense(8,input_dim=x.shape[1],activation='relu'))\n",
    "model.add(Dropout(0.0))\n",
    "model.add(Dense(4,activation='relu'))\n",
    "model.add(Dropout(0.0))\n",
    "model.add(Dense(6,activation='relu'))\n",
    "model.add(Dropout(0.0))\n",
    "model.add(Dense(8,activation='relu'))\n",
    "model.add(Dropout(0.0))\n",
    "model.add(Dense(y_train.shape[1],activation='softmax'))"
   ]
  },
  {
   "cell_type": "markdown",
   "metadata": {},
   "source": [
    "# Compiling and Training the model "
   ]
  },
  {
   "cell_type": "code",
   "execution_count": 13,
   "metadata": {},
   "outputs": [],
   "source": [
    "from keras.callbacks import EarlyStopping, ModelCheckpoint, ReduceLROnPlateau\n"
   ]
  },
  {
   "cell_type": "code",
   "execution_count": 14,
   "metadata": {},
   "outputs": [
    {
     "name": "stdout",
     "output_type": "stream",
     "text": [
      "Epoch 1/50\n",
      "1203/1203 [==============================] - 1s 1ms/step - loss: 1.7978 - accuracy: 0.4013 - val_loss: 1.0575 - val_accuracy: 0.6060\n",
      "Epoch 2/50\n",
      "1203/1203 [==============================] - 1s 968us/step - loss: 0.9435 - accuracy: 0.6536 - val_loss: 0.8639 - val_accuracy: 0.6686\n",
      "Epoch 3/50\n",
      "1203/1203 [==============================] - 1s 939us/step - loss: 0.7921 - accuracy: 0.7020 - val_loss: 0.7443 - val_accuracy: 0.7200\n",
      "Epoch 4/50\n",
      "1203/1203 [==============================] - 1s 923us/step - loss: 0.7137 - accuracy: 0.7290 - val_loss: 0.6805 - val_accuracy: 0.7449\n",
      "Epoch 5/50\n",
      "1203/1203 [==============================] - 1s 924us/step - loss: 0.6703 - accuracy: 0.7446 - val_loss: 0.6335 - val_accuracy: 0.7588\n",
      "Epoch 6/50\n",
      "1203/1203 [==============================] - 1s 931us/step - loss: 0.6385 - accuracy: 0.7536 - val_loss: 0.6114 - val_accuracy: 0.7602\n",
      "Epoch 7/50\n",
      "1203/1203 [==============================] - 1s 919us/step - loss: 0.6081 - accuracy: 0.7657 - val_loss: 0.5941 - val_accuracy: 0.7633\n",
      "Epoch 8/50\n",
      "1203/1203 [==============================] - 1s 919us/step - loss: 0.5908 - accuracy: 0.7694 - val_loss: 0.5738 - val_accuracy: 0.7783accuracy\n",
      "Epoch 9/50\n",
      "1203/1203 [==============================] - 1s 938us/step - loss: 0.5725 - accuracy: 0.7790 - val_loss: 0.5521 - val_accuracy: 0.7868.5759 - accura\n",
      "Epoch 10/50\n",
      "1203/1203 [==============================] - 1s 947us/step - loss: 0.5551 - accuracy: 0.7841 - val_loss: 0.5328 - val_accuracy: 0.7907\n",
      "Epoch 11/50\n",
      "1203/1203 [==============================] - 1s 928us/step - loss: 0.5389 - accuracy: 0.7905 - val_loss: 0.5266 - val_accuracy: 0.7931\n",
      "Epoch 12/50\n",
      "1203/1203 [==============================] - 1s 935us/step - loss: 0.5236 - accuracy: 0.7949 - val_loss: 0.5170 - val_accuracy: 0.7940\n",
      "Epoch 13/50\n",
      "1203/1203 [==============================] - 1s 948us/step - loss: 0.5094 - accuracy: 0.8018 - val_loss: 0.5215 - val_accuracy: 0.7979\n",
      "Epoch 14/50\n",
      "1203/1203 [==============================] - 1s 929us/step - loss: 0.4922 - accuracy: 0.8084 - val_loss: 0.4949 - val_accuracy: 0.8052\n",
      "Epoch 15/50\n",
      "1203/1203 [==============================] - 1s 930us/step - loss: 0.4700 - accuracy: 0.8136 - val_loss: 0.4497 - val_accuracy: 0.8232s: 0.4722 - accuracy: 0.\n",
      "Epoch 16/50\n",
      "1203/1203 [==============================] - 1s 930us/step - loss: 0.4468 - accuracy: 0.8218 - val_loss: 0.4326 - val_accuracy: 0.8281s: 0.4480 - accuracy: 0.\n",
      "Epoch 17/50\n",
      "1203/1203 [==============================] - 1s 971us/step - loss: 0.4256 - accuracy: 0.8320 - val_loss: 0.4044 - val_accuracy: 0.8397\n",
      "Epoch 18/50\n",
      "1203/1203 [==============================] - 1s 941us/step - loss: 0.4090 - accuracy: 0.8380 - val_loss: 0.3948 - val_accuracy: 0.8495\n",
      "Epoch 19/50\n",
      "1203/1203 [==============================] - 1s 943us/step - loss: 0.3934 - accuracy: 0.8437 - val_loss: 0.3744 - val_accuracy: 0.8554 - loss: 0.4085 -  - ETA: 0s - loss: 0.3971 - accura\n",
      "Epoch 20/50\n",
      "1203/1203 [==============================] - 1s 972us/step - loss: 0.3785 - accuracy: 0.8520 - val_loss: 0.3634 - val_accuracy: 0.8570\n",
      "Epoch 21/50\n",
      "1203/1203 [==============================] - 1s 962us/step - loss: 0.3638 - accuracy: 0.8567 - val_loss: 0.3521 - val_accuracy: 0.86120s - loss: 0.3635 - accuracy: \n",
      "Epoch 22/50\n",
      "1203/1203 [==============================] - 1s 939us/step - loss: 0.3521 - accuracy: 0.8623 - val_loss: 0.3556 - val_accuracy: 0.8597\n",
      "Epoch 23/50\n",
      "1203/1203 [==============================] - 1s 938us/step - loss: 0.3435 - accuracy: 0.8662 - val_loss: 0.3342 - val_accuracy: 0.86497 - accura\n",
      "Epoch 24/50\n",
      "1203/1203 [==============================] - 1s 919us/step - loss: 0.3336 - accuracy: 0.8694 - val_loss: 0.3845 - val_accuracy: 0.8494\n",
      "Epoch 25/50\n",
      "1203/1203 [==============================] - 1s 942us/step - loss: 0.3253 - accuracy: 0.8734 - val_loss: 0.3101 - val_accuracy: 0.8751\n",
      "Epoch 26/50\n",
      "1203/1203 [==============================] - 1s 941us/step - loss: 0.3143 - accuracy: 0.8776 - val_loss: 0.3249 - val_accuracy: 0.8683\n",
      "Epoch 27/50\n",
      "1203/1203 [==============================] - 1s 929us/step - loss: 0.3034 - accuracy: 0.8819 - val_loss: 0.2799 - val_accuracy: 0.8934 - loss: 0.304 - ETA: 0s - loss: 0.3025 - accuracy: 0.88\n",
      "Epoch 28/50\n",
      "1203/1203 [==============================] - 1s 941us/step - loss: 0.2857 - accuracy: 0.8937 - val_loss: 0.2525 - val_accuracy: 0.9078\n",
      "Epoch 29/50\n",
      "1203/1203 [==============================] - 1s 914us/step - loss: 0.2502 - accuracy: 0.9129 - val_loss: 0.2869 - val_accuracy: 0.8931\n",
      "Epoch 30/50\n",
      "1203/1203 [==============================] - 1s 925us/step - loss: 0.2259 - accuracy: 0.9245 - val_loss: 0.2169 - val_accuracy: 0.9270 loss: 0.2266 - accuracy: 0.\n",
      "Epoch 31/50\n",
      "1203/1203 [==============================] - 1s 933us/step - loss: 0.2077 - accuracy: 0.9295 - val_loss: 0.1857 - val_accuracy: 0.9391\n",
      "Epoch 32/50\n",
      "1203/1203 [==============================] - 1s 953us/step - loss: 0.1903 - accuracy: 0.9382 - val_loss: 0.1571 - val_accuracy: 0.9503\n",
      "Epoch 33/50\n",
      "1203/1203 [==============================] - 1s 932us/step - loss: 0.1756 - accuracy: 0.9436 - val_loss: 0.1607 - val_accuracy: 0.9455\n",
      "Epoch 34/50\n",
      "1203/1203 [==============================] - 1s 930us/step - loss: 0.1654 - accuracy: 0.9470 - val_loss: 0.1344 - val_accuracy: 0.9605\n",
      "Epoch 35/50\n",
      "1203/1203 [==============================] - 1s 952us/step - loss: 0.1558 - accuracy: 0.9498 - val_loss: 0.1528 - val_accuracy: 0.9503\n",
      "Epoch 36/50\n",
      "1203/1203 [==============================] - 1s 965us/step - loss: 0.1460 - accuracy: 0.9529 - val_loss: 0.1284 - val_accuracy: 0.9583\n",
      "Epoch 37/50\n",
      "1203/1203 [==============================] - 1s 1ms/step - loss: 0.1307 - accuracy: 0.9589 - val_loss: 0.1061 - val_accuracy: 0.9696\n",
      "Epoch 38/50\n",
      "1203/1203 [==============================] - 1s 1ms/step - loss: 0.1200 - accuracy: 0.9612 - val_loss: 0.1303 - val_accuracy: 0.9551\n",
      "Epoch 39/50\n",
      "1203/1203 [==============================] - 1s 1ms/step - loss: 0.1033 - accuracy: 0.9666 - val_loss: 0.0917 - val_accuracy: 0.9680\n",
      "Epoch 40/50\n",
      "1203/1203 [==============================] - 1s 1ms/step - loss: 0.0893 - accuracy: 0.9715 - val_loss: 0.0729 - val_accuracy: 0.9793\n",
      "Epoch 41/50\n",
      "1203/1203 [==============================] - 1s 1ms/step - loss: 0.0783 - accuracy: 0.9754 - val_loss: 0.0687 - val_accuracy: 0.9763\n",
      "Epoch 42/50\n",
      "1203/1203 [==============================] - 1s 1ms/step - loss: 0.0725 - accuracy: 0.9771 - val_loss: 0.0704 - val_accuracy: 0.9766\n",
      "Epoch 43/50\n",
      "1203/1203 [==============================] - 1s 1ms/step - loss: 0.0664 - accuracy: 0.9786 - val_loss: 0.0488 - val_accuracy: 0.9857\n",
      "Epoch 44/50\n",
      "1203/1203 [==============================] - 1s 984us/step - loss: 0.0592 - accuracy: 0.9809 - val_loss: 0.0504 - val_accuracy: 0.9880\n",
      "Epoch 45/50\n",
      "1203/1203 [==============================] - 1s 999us/step - loss: 0.0594 - accuracy: 0.9810 - val_loss: 0.0479 - val_accuracy: 0.9853\n",
      "Epoch 46/50\n",
      "1203/1203 [==============================] - 1s 1ms/step - loss: 0.0549 - accuracy: 0.9826 - val_loss: 0.0432 - val_accuracy: 0.9886\n",
      "Epoch 47/50\n",
      "1203/1203 [==============================] - 1s 1ms/step - loss: 0.0512 - accuracy: 0.9841 - val_loss: 0.0437 - val_accuracy: 0.9876\n",
      "Epoch 48/50\n",
      "1203/1203 [==============================] - 1s 1ms/step - loss: 0.0514 - accuracy: 0.9833 - val_loss: 0.0489 - val_accuracy: 0.9836\n",
      "Epoch 49/50\n",
      "1203/1203 [==============================] - 1s 1000us/step - loss: 0.0465 - accuracy: 0.9851 - val_loss: 0.0705 - val_accuracy: 0.9714\n",
      "Epoch 50/50\n",
      "1203/1203 [==============================] - 1s 998us/step - loss: 0.0452 - accuracy: 0.9862 - val_loss: 0.0351 - val_accuracy: 0.9902\n"
     ]
    }
   ],
   "source": [
    "learning_rate = 0.001\n",
    "\n",
    "#Compilation of the model\n",
    "model.compile(loss='categorical_crossentropy', optimizer=Adam(learning_rate), metrics=['accuracy'])\n",
    "epochs = 50\n",
    "history = model.fit(x_train, y_train, batch_size=32, epochs=epochs,validation_data=(x_test, y_test))"
   ]
  },
  {
   "cell_type": "markdown",
   "metadata": {},
   "source": [
    "# Plotting graphs for accuracy "
   ]
  },
  {
   "cell_type": "code",
   "execution_count": 15,
   "metadata": {},
   "outputs": [
    {
     "data": {
      "image/png": "[encoded data removed]",
      "text/plain": [
       "<Figure size 432x288 with 1 Axes>"
      ]
     },
     "metadata": {
      "needs_background": "light"
     },
     "output_type": "display_data"
    },
    {
     "data": {
      "image/png": "[encoded data removed]",
      "text/plain": [
       "<Figure size 432x288 with 1 Axes>"
      ]
     },
     "metadata": {
      "needs_background": "light"
     },
     "output_type": "display_data"
    }
   ],
   "source": [
    "plt.figure(0)\n",
    "plt.plot(history.history['accuracy'],label='training accuracy')\n",
    "plt.plot(history.history['val_accuracy'],label='val_accuracy')\n",
    "plt.title('Accuracy')\n",
    "plt.xlabel('epochs')\n",
    "plt.ylabel('accuracy')\n",
    "plt.legend()\n",
    "plt.show()\n",
    "\n",
    "plt.figure(1)\n",
    "plt.plot(history.history['loss'], label='training loss')\n",
    "plt.plot(history.history['val_loss'], label='val loss')\n",
    "plt.title('Loss')\n",
    "plt.xlabel('epochs')\n",
    "plt.ylabel('loss')\n",
    "plt.legend()\n",
    "plt.show()"
   ]
  },
  {
   "cell_type": "markdown",
   "metadata": {},
   "source": [
    "# Loading Model"
   ]
  },
  {
   "cell_type": "code",
   "execution_count": 16,
   "metadata": {},
   "outputs": [],
   "source": [
    "model.save('anomaly_in_4_sensors_model.h5')"
   ]
  },
  {
   "cell_type": "code",
   "execution_count": 17,
   "metadata": {},
   "outputs": [],
   "source": [
    "from keras.models import load_model\n",
    "\n",
    "model = load_model('anomaly_in_4_sensors_model.h5')"
   ]
  },
  {
   "cell_type": "code",
   "execution_count": 18,
   "metadata": {},
   "outputs": [
    {
     "name": "stdout",
     "output_type": "stream",
     "text": [
      "Model: \"sequential\"\n",
      "_________________________________________________________________\n",
      "Layer (type)                 Output Shape              Param #   \n",
      "=================================================================\n",
      "dense (Dense)                (None, 8)                 40        \n",
      "_________________________________________________________________\n",
      "dropout (Dropout)            (None, 8)                 0         \n",
      "_________________________________________________________________\n",
      "dense_1 (Dense)              (None, 4)                 36        \n",
      "_________________________________________________________________\n",
      "dropout_1 (Dropout)          (None, 4)                 0         \n",
      "_________________________________________________________________\n",
      "dense_2 (Dense)              (None, 6)                 30        \n",
      "_________________________________________________________________\n",
      "dropout_2 (Dropout)          (None, 6)                 0         \n",
      "_________________________________________________________________\n",
      "dense_3 (Dense)              (None, 8)                 56        \n",
      "_________________________________________________________________\n",
      "dropout_3 (Dropout)          (None, 8)                 0         \n",
      "_________________________________________________________________\n",
      "dense_4 (Dense)              (None, 16)                144       \n",
      "=================================================================\n",
      "Total params: 306\n",
      "Trainable params: 306\n",
      "Non-trainable params: 0\n",
      "_________________________________________________________________\n"
     ]
    }
   ],
   "source": [
    "model.summary()"
   ]
  },
  {
   "cell_type": "code",
   "execution_count": 22,
   "metadata": {
    "scrolled": true
   },
   "outputs": [
    {
     "name": "stdout",
     "output_type": "stream",
     "text": [
      "(38465, 16)\n"
     ]
    }
   ],
   "source": [
    "label=np.array(y_train)\n",
    "print(label.shape)"
   ]
  },
  {
   "cell_type": "code",
   "execution_count": 23,
   "metadata": {},
   "outputs": [],
   "source": [
    "# samples = np.array([[data[10000][0:4]]])      \n",
    "# print(samples)\n",
    "# prediction = model.predict_classes(samples)\n",
    "# print(prediction)"
   ]
  },
  {
   "cell_type": "code",
   "execution_count": 56,
   "metadata": {},
   "outputs": [
    {
     "name": "stdout",
     "output_type": "stream",
     "text": [
      "[[ 90 110  45  45]]\n",
      "[15]\n"
     ]
    }
   ],
   "source": [
    "samples = np.array([[90,110,45,45]])      \n",
    "print(samples)\n",
    "prediction = model.predict_classes(samples)\n",
    "print(prediction)"
   ]
  },
  {
   "cell_type": "code",
   "execution_count": null,
   "metadata": {},
   "outputs": [],
   "source": []
  }
 ],
 "metadata": {
  "kernelspec": {
   "display_name": "Python 3",
   "language": "python",
   "name": "python3"
  },
  "language_info": {
   "codemirror_mode": {
    "name": "ipython",
    "version": 3
   },
   "file_extension": ".py",
   "mimetype": "text/x-python",
   "name": "python",
   "nbconvert_exporter": "python",
   "pygments_lexer": "ipython3",
   "version": "3.7.6"
  }
 },
 "nbformat": 4,
 "nbformat_minor": 4
}
