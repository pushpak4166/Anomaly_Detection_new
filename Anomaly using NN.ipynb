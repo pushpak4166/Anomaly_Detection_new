{
 "cells": [
  {
   "cell_type": "code",
   "execution_count": 1,
   "metadata": {},
   "outputs": [],
   "source": [
    "from sklearn.model_selection import train_test_split\n",
    "from keras.models import Sequential\n",
    "from keras.layers.core import Dense\n",
    "from keras.optimizers import Adam\n",
    "import numpy as np\n",
    "import matplotlib.pyplot as plt "
   ]
  },
  {
   "cell_type": "code",
   "execution_count": 2,
   "metadata": {},
   "outputs": [],
   "source": [
    "import pandas as pd"
   ]
  },
  {
   "cell_type": "code",
   "execution_count": 3,
   "metadata": {},
   "outputs": [],
   "source": [
    "data = np.loadtxt(\"dataset_OBD_new.csv\",delimiter=\",\")"
   ]
  },
  {
   "cell_type": "code",
   "execution_count": 18,
   "metadata": {},
   "outputs": [
    {
     "data": {
      "text/plain": [
       "(1356, 17)"
      ]
     },
     "execution_count": 18,
     "metadata": {},
     "output_type": "execute_result"
    }
   ],
   "source": [
    "data.shape"
   ]
  },
  {
   "cell_type": "code",
   "execution_count": 19,
   "metadata": {},
   "outputs": [
    {
     "name": "stdout",
     "output_type": "stream",
     "text": [
      "(1356, 16)\n",
      "(1356,)\n"
     ]
    }
   ],
   "source": [
    "x = data[:,0:16]\n",
    "y = data[:,16]\n",
    "\n",
    "# Spliting dataset into train and test \n",
    "x_train,x_test,y_train,y_test = train_test_split(x,y,test_size=70,random_state=10)\n",
    "print(x.shape)\n",
    "print(y.shape)"
   ]
  },
  {
   "cell_type": "code",
   "execution_count": 20,
   "metadata": {
    "scrolled": true
   },
   "outputs": [
    {
     "data": {
      "text/plain": [
       "(1286, 16)"
      ]
     },
     "execution_count": 20,
     "metadata": {},
     "output_type": "execute_result"
    }
   ],
   "source": [
    "x_train.shape"
   ]
  },
  {
   "cell_type": "code",
   "execution_count": 21,
   "metadata": {
    "scrolled": true
   },
   "outputs": [
    {
     "data": {
      "text/plain": [
       "(70, 16)"
      ]
     },
     "execution_count": 21,
     "metadata": {},
     "output_type": "execute_result"
    }
   ],
   "source": [
    "x_test.shape"
   ]
  },
  {
   "cell_type": "code",
   "execution_count": 22,
   "metadata": {},
   "outputs": [
    {
     "data": {
      "text/plain": [
       "(70,)"
      ]
     },
     "execution_count": 22,
     "metadata": {},
     "output_type": "execute_result"
    }
   ],
   "source": [
    "y_test.shape"
   ]
  },
  {
   "cell_type": "code",
   "execution_count": 23,
   "metadata": {},
   "outputs": [
    {
     "data": {
      "text/plain": [
       "(1286,)"
      ]
     },
     "execution_count": 23,
     "metadata": {},
     "output_type": "execute_result"
    }
   ],
   "source": [
    "y_train.shape"
   ]
  },
  {
   "cell_type": "code",
   "execution_count": 24,
   "metadata": {
    "scrolled": true
   },
   "outputs": [
    {
     "data": {
      "text/plain": [
       "array([0., 0., 0., 1., 0., 0., 0., 1., 1., 0., 0., 0., 1., 0., 0., 1., 0.,\n",
       "       0., 1., 1., 0., 1., 0., 0., 0., 0., 0., 0., 0., 0., 1., 0., 0., 0.,\n",
       "       1., 1., 0., 0., 0., 0., 0., 1., 1., 0., 0., 0., 0., 1., 1., 0., 0.,\n",
       "       0., 0., 0., 0., 0., 0., 0., 0., 0., 0., 0., 0., 0., 0., 1., 0., 0.,\n",
       "       0., 0.])"
      ]
     },
     "execution_count": 24,
     "metadata": {},
     "output_type": "execute_result"
    }
   ],
   "source": [
    "y_test"
   ]
  },
  {
   "cell_type": "code",
   "execution_count": 25,
   "metadata": {},
   "outputs": [
    {
     "data": {
      "text/plain": [
       "array([0., 0., 0., ..., 0., 0., 0.])"
      ]
     },
     "execution_count": 25,
     "metadata": {},
     "output_type": "execute_result"
    }
   ],
   "source": [
    "y_train"
   ]
  },
  {
   "cell_type": "markdown",
   "metadata": {},
   "source": [
    "# Creating the model"
   ]
  },
  {
   "cell_type": "code",
   "execution_count": 68,
   "metadata": {},
   "outputs": [],
   "source": [
    "model = Sequential()\n",
    "model.add(Dense(10,input_dim=16,activation='relu'))\n",
    "model.add(Dense(8,activation='relu'))\n",
    "model.add(Dense(12,activation='relu'))\n",
    "model.add(Dense(6,activation='relu'))\n",
    "model.add(Dense(1,activation='sigmoid'))"
   ]
  },
  {
   "cell_type": "markdown",
   "metadata": {},
   "source": [
    "# Compiling the model "
   ]
  },
  {
   "cell_type": "code",
   "execution_count": 69,
   "metadata": {},
   "outputs": [],
   "source": [
    "learning_rate = 0.0001 \n",
    "model.compile(loss=\"binary_crossentropy\",metrics=['accuracy'],optimizer=Adam(learning_rate))"
   ]
  },
  {
   "cell_type": "markdown",
   "metadata": {},
   "source": [
    "# Training "
   ]
  },
  {
   "cell_type": "code",
   "execution_count": 70,
   "metadata": {},
   "outputs": [
    {
     "name": "stdout",
     "output_type": "stream",
     "text": [
      "Epoch 1/100\n",
      "41/41 [==============================] - 0s 3ms/step - loss: 13.7598 - accuracy: 0.8103 - val_loss: 12.1588 - val_accuracy: 0.7714\n",
      "Epoch 2/100\n",
      "41/41 [==============================] - 0s 1ms/step - loss: 8.2516 - accuracy: 0.7605 - val_loss: 7.2253 - val_accuracy: 0.6286\n",
      "Epoch 3/100\n",
      "41/41 [==============================] - 0s 1ms/step - loss: 4.9800 - accuracy: 0.6299 - val_loss: 5.4618 - val_accuracy: 0.5000\n",
      "Epoch 4/100\n",
      "41/41 [==============================] - 0s 1ms/step - loss: 3.9141 - accuracy: 0.6198 - val_loss: 4.5156 - val_accuracy: 0.5286\n",
      "Epoch 5/100\n",
      "41/41 [==============================] - ETA: 0s - loss: 4.1058 - accuracy: 0.50 - 0s 1ms/step - loss: 3.2826 - accuracy: 0.6314 - val_loss: 3.8175 - val_accuracy: 0.6429\n",
      "Epoch 6/100\n",
      "41/41 [==============================] - 0s 1ms/step - loss: 2.7655 - accuracy: 0.6431 - val_loss: 3.2519 - val_accuracy: 0.6286\n",
      "Epoch 7/100\n",
      "41/41 [==============================] - 0s 1ms/step - loss: 2.3227 - accuracy: 0.6656 - val_loss: 2.8450 - val_accuracy: 0.6143\n",
      "Epoch 8/100\n",
      "41/41 [==============================] - 0s 1ms/step - loss: 2.0718 - accuracy: 0.6921 - val_loss: 2.5718 - val_accuracy: 0.6429\n",
      "Epoch 9/100\n",
      "41/41 [==============================] - 0s 1ms/step - loss: 1.8896 - accuracy: 0.7022 - val_loss: 2.3207 - val_accuracy: 0.6714\n",
      "Epoch 10/100\n",
      "41/41 [==============================] - 0s 1ms/step - loss: 1.7295 - accuracy: 0.7115 - val_loss: 2.1246 - val_accuracy: 0.6714\n",
      "Epoch 11/100\n",
      "41/41 [==============================] - 0s 1ms/step - loss: 1.6131 - accuracy: 0.7278 - val_loss: 1.9636 - val_accuracy: 0.7000\n",
      "Epoch 12/100\n",
      "41/41 [==============================] - 0s 1ms/step - loss: 1.4823 - accuracy: 0.7325 - val_loss: 1.8233 - val_accuracy: 0.6857\n",
      "Epoch 13/100\n",
      "41/41 [==============================] - ETA: 0s - loss: 2.1047 - accuracy: 0.65 - 0s 1ms/step - loss: 1.3744 - accuracy: 0.7240 - val_loss: 1.6558 - val_accuracy: 0.7143\n",
      "Epoch 14/100\n",
      "41/41 [==============================] - 0s 1ms/step - loss: 1.2618 - accuracy: 0.7240 - val_loss: 1.4882 - val_accuracy: 0.7429\n",
      "Epoch 15/100\n",
      "41/41 [==============================] - 0s 1ms/step - loss: 1.1522 - accuracy: 0.7426 - val_loss: 1.4095 - val_accuracy: 0.6571\n",
      "Epoch 16/100\n",
      "41/41 [==============================] - 0s 1ms/step - loss: 1.0568 - accuracy: 0.7356 - val_loss: 1.2578 - val_accuracy: 0.6714\n",
      "Epoch 17/100\n",
      "41/41 [==============================] - 0s 1ms/step - loss: 0.9829 - accuracy: 0.7535 - val_loss: 1.1797 - val_accuracy: 0.6714\n",
      "Epoch 18/100\n",
      "41/41 [==============================] - 0s 1ms/step - loss: 0.9264 - accuracy: 0.7434 - val_loss: 1.0625 - val_accuracy: 0.6571\n",
      "Epoch 19/100\n",
      "41/41 [==============================] - 0s 1ms/step - loss: 0.8629 - accuracy: 0.7504 - val_loss: 0.9909 - val_accuracy: 0.7143\n",
      "Epoch 20/100\n",
      "41/41 [==============================] - 0s 1ms/step - loss: 0.8111 - accuracy: 0.7605 - val_loss: 0.9796 - val_accuracy: 0.6571\n",
      "Epoch 21/100\n",
      "41/41 [==============================] - 0s 1ms/step - loss: 0.7734 - accuracy: 0.7628 - val_loss: 0.8772 - val_accuracy: 0.6429\n",
      "Epoch 22/100\n",
      "41/41 [==============================] - 0s 1ms/step - loss: 0.7367 - accuracy: 0.7613 - val_loss: 0.7959 - val_accuracy: 0.6571\n",
      "Epoch 23/100\n",
      "41/41 [==============================] - 0s 1ms/step - loss: 0.6879 - accuracy: 0.7722 - val_loss: 0.7494 - val_accuracy: 0.6714\n",
      "Epoch 24/100\n",
      "41/41 [==============================] - 0s 1ms/step - loss: 0.6577 - accuracy: 0.7792 - val_loss: 0.7022 - val_accuracy: 0.7000\n",
      "Epoch 25/100\n",
      "41/41 [==============================] - 0s 1ms/step - loss: 0.6369 - accuracy: 0.7745 - val_loss: 0.6512 - val_accuracy: 0.7286\n",
      "Epoch 26/100\n",
      "41/41 [==============================] - 0s 1ms/step - loss: 0.6024 - accuracy: 0.8048 - val_loss: 0.6335 - val_accuracy: 0.6857\n",
      "Epoch 27/100\n",
      "41/41 [==============================] - 0s 1ms/step - loss: 0.5926 - accuracy: 0.7869 - val_loss: 0.5982 - val_accuracy: 0.7286\n",
      "Epoch 28/100\n",
      "41/41 [==============================] - 0s 1ms/step - loss: 0.5715 - accuracy: 0.8064 - val_loss: 0.5789 - val_accuracy: 0.7286\n",
      "Epoch 29/100\n",
      "41/41 [==============================] - 0s 1ms/step - loss: 0.5612 - accuracy: 0.8095 - val_loss: 0.5853 - val_accuracy: 0.7571\n",
      "Epoch 30/100\n",
      "41/41 [==============================] - 0s 1ms/step - loss: 0.5458 - accuracy: 0.8118 - val_loss: 0.6350 - val_accuracy: 0.8000\n",
      "Epoch 31/100\n",
      "41/41 [==============================] - 0s 1ms/step - loss: 0.5485 - accuracy: 0.8095 - val_loss: 0.5710 - val_accuracy: 0.7286\n",
      "Epoch 32/100\n",
      "41/41 [==============================] - 0s 1ms/step - loss: 0.5367 - accuracy: 0.8110 - val_loss: 0.5927 - val_accuracy: 0.8143\n",
      "Epoch 33/100\n",
      "41/41 [==============================] - 0s 1ms/step - loss: 0.5320 - accuracy: 0.8173 - val_loss: 0.5788 - val_accuracy: 0.8143\n",
      "Epoch 34/100\n",
      "41/41 [==============================] - 0s 1ms/step - loss: 0.5290 - accuracy: 0.8157 - val_loss: 0.5722 - val_accuracy: 0.8000\n",
      "Epoch 35/100\n",
      "41/41 [==============================] - 0s 1ms/step - loss: 0.5256 - accuracy: 0.8188 - val_loss: 0.5549 - val_accuracy: 0.7714\n",
      "Epoch 36/100\n",
      "41/41 [==============================] - 0s 1ms/step - loss: 0.5301 - accuracy: 0.8142 - val_loss: 0.5828 - val_accuracy: 0.7857\n",
      "Epoch 37/100\n",
      "41/41 [==============================] - 0s 1ms/step - loss: 0.5185 - accuracy: 0.8134 - val_loss: 0.5662 - val_accuracy: 0.8000\n",
      "Epoch 38/100\n",
      "41/41 [==============================] - 0s 1ms/step - loss: 0.5237 - accuracy: 0.8118 - val_loss: 0.6099 - val_accuracy: 0.7857\n",
      "Epoch 39/100\n",
      "41/41 [==============================] - 0s 1ms/step - loss: 0.5314 - accuracy: 0.8204 - val_loss: 0.5798 - val_accuracy: 0.7857\n",
      "Epoch 40/100\n",
      "41/41 [==============================] - 0s 1ms/step - loss: 0.5224 - accuracy: 0.8157 - val_loss: 0.5588 - val_accuracy: 0.7857\n",
      "Epoch 41/100\n",
      "41/41 [==============================] - 0s 1ms/step - loss: 0.5148 - accuracy: 0.8204 - val_loss: 0.5695 - val_accuracy: 0.7857\n",
      "Epoch 42/100\n",
      "41/41 [==============================] - 0s 1ms/step - loss: 0.5155 - accuracy: 0.8235 - val_loss: 0.5475 - val_accuracy: 0.8143\n",
      "Epoch 43/100\n",
      "41/41 [==============================] - 0s 1ms/step - loss: 0.5136 - accuracy: 0.8204 - val_loss: 0.5482 - val_accuracy: 0.8143\n",
      "Epoch 44/100\n",
      "41/41 [==============================] - 0s 1ms/step - loss: 0.5100 - accuracy: 0.8204 - val_loss: 0.5516 - val_accuracy: 0.8000\n",
      "Epoch 45/100\n",
      "41/41 [==============================] - 0s 1ms/step - loss: 0.5089 - accuracy: 0.8212 - val_loss: 0.5907 - val_accuracy: 0.7857\n",
      "Epoch 46/100\n",
      "41/41 [==============================] - 0s 1ms/step - loss: 0.5034 - accuracy: 0.8204 - val_loss: 0.5855 - val_accuracy: 0.7857\n",
      "Epoch 47/100\n",
      "41/41 [==============================] - 0s 1ms/step - loss: 0.5038 - accuracy: 0.8219 - val_loss: 0.5578 - val_accuracy: 0.7857\n",
      "Epoch 48/100\n",
      "41/41 [==============================] - 0s 1ms/step - loss: 0.5002 - accuracy: 0.8227 - val_loss: 0.5670 - val_accuracy: 0.7857\n",
      "Epoch 49/100\n",
      "41/41 [==============================] - 0s 1ms/step - loss: 0.5020 - accuracy: 0.8227 - val_loss: 0.5496 - val_accuracy: 0.7857\n",
      "Epoch 50/100\n",
      "41/41 [==============================] - 0s 1ms/step - loss: 0.5025 - accuracy: 0.8227 - val_loss: 0.5429 - val_accuracy: 0.7857\n",
      "Epoch 51/100\n",
      "41/41 [==============================] - 0s 1ms/step - loss: 0.4995 - accuracy: 0.8188 - val_loss: 0.5776 - val_accuracy: 0.7857\n",
      "Epoch 52/100\n",
      "41/41 [==============================] - 0s 1ms/step - loss: 0.5087 - accuracy: 0.8204 - val_loss: 0.5796 - val_accuracy: 0.7857\n",
      "Epoch 53/100\n",
      "41/41 [==============================] - 0s 1ms/step - loss: 0.5069 - accuracy: 0.8204 - val_loss: 0.5451 - val_accuracy: 0.7857\n",
      "Epoch 54/100\n",
      "41/41 [==============================] - 0s 1ms/step - loss: 0.5029 - accuracy: 0.8204 - val_loss: 0.5375 - val_accuracy: 0.8143\n",
      "Epoch 55/100\n",
      "41/41 [==============================] - 0s 1ms/step - loss: 0.4961 - accuracy: 0.8243 - val_loss: 0.5448 - val_accuracy: 0.7857\n",
      "Epoch 56/100\n",
      "41/41 [==============================] - 0s 1ms/step - loss: 0.5007 - accuracy: 0.8188 - val_loss: 0.5362 - val_accuracy: 0.7857\n",
      "Epoch 57/100\n",
      "41/41 [==============================] - 0s 1ms/step - loss: 0.4977 - accuracy: 0.8235 - val_loss: 0.5716 - val_accuracy: 0.7857\n",
      "Epoch 58/100\n",
      "41/41 [==============================] - 0s 1ms/step - loss: 0.4915 - accuracy: 0.8250 - val_loss: 0.5359 - val_accuracy: 0.8000\n",
      "Epoch 59/100\n",
      "41/41 [==============================] - 0s 1ms/step - loss: 0.5050 - accuracy: 0.8243 - val_loss: 0.5342 - val_accuracy: 0.7857\n",
      "Epoch 60/100\n",
      "41/41 [==============================] - 0s 1ms/step - loss: 0.4902 - accuracy: 0.8250 - val_loss: 0.5308 - val_accuracy: 0.7857\n",
      "Epoch 61/100\n",
      "41/41 [==============================] - 0s 1ms/step - loss: 0.4868 - accuracy: 0.8274 - val_loss: 0.5576 - val_accuracy: 0.7857\n",
      "Epoch 62/100\n",
      "41/41 [==============================] - 0s 1ms/step - loss: 0.4816 - accuracy: 0.8212 - val_loss: 0.6038 - val_accuracy: 0.7857\n",
      "Epoch 63/100\n",
      "41/41 [==============================] - 0s 1ms/step - loss: 0.4964 - accuracy: 0.8243 - val_loss: 0.5515 - val_accuracy: 0.7857\n",
      "Epoch 64/100\n",
      "41/41 [==============================] - 0s 1ms/step - loss: 0.4991 - accuracy: 0.8258 - val_loss: 0.5273 - val_accuracy: 0.8143\n",
      "Epoch 65/100\n",
      "41/41 [==============================] - ETA: 0s - loss: 0.5432 - accuracy: 0.75 - 0s 1ms/step - loss: 0.4869 - accuracy: 0.8243 - val_loss: 0.5663 - val_accuracy: 0.7857\n",
      "Epoch 66/100\n",
      "41/41 [==============================] - 0s 1ms/step - loss: 0.4999 - accuracy: 0.8243 - val_loss: 0.5554 - val_accuracy: 0.7857\n",
      "Epoch 67/100\n",
      "41/41 [==============================] - 0s 1ms/step - loss: 0.4806 - accuracy: 0.8281 - val_loss: 0.5284 - val_accuracy: 0.7857\n",
      "Epoch 68/100\n",
      "41/41 [==============================] - 0s 1ms/step - loss: 0.4858 - accuracy: 0.8266 - val_loss: 0.5566 - val_accuracy: 0.7857\n",
      "Epoch 69/100\n",
      "41/41 [==============================] - 0s 1ms/step - loss: 0.4815 - accuracy: 0.8297 - val_loss: 0.5340 - val_accuracy: 0.7857\n",
      "Epoch 70/100\n",
      "41/41 [==============================] - 0s 1ms/step - loss: 0.4841 - accuracy: 0.8227 - val_loss: 0.5404 - val_accuracy: 0.7857\n",
      "Epoch 71/100\n",
      "41/41 [==============================] - 0s 1ms/step - loss: 0.4862 - accuracy: 0.8258 - val_loss: 0.5226 - val_accuracy: 0.7857\n",
      "Epoch 72/100\n",
      "41/41 [==============================] - 0s 1ms/step - loss: 0.4826 - accuracy: 0.8258 - val_loss: 0.5553 - val_accuracy: 0.7857\n",
      "Epoch 73/100\n",
      "41/41 [==============================] - 0s 1ms/step - loss: 0.4849 - accuracy: 0.8266 - val_loss: 0.5203 - val_accuracy: 0.8000\n",
      "Epoch 74/100\n",
      "41/41 [==============================] - 0s 1ms/step - loss: 0.4727 - accuracy: 0.8281 - val_loss: 0.5152 - val_accuracy: 0.8143\n",
      "Epoch 75/100\n",
      "41/41 [==============================] - 0s 1ms/step - loss: 0.4758 - accuracy: 0.8297 - val_loss: 0.5259 - val_accuracy: 0.7857\n",
      "Epoch 76/100\n",
      "41/41 [==============================] - 0s 1ms/step - loss: 0.4794 - accuracy: 0.8289 - val_loss: 0.5710 - val_accuracy: 0.7857\n",
      "Epoch 77/100\n",
      "41/41 [==============================] - 0s 1ms/step - loss: 0.4722 - accuracy: 0.8289 - val_loss: 0.5213 - val_accuracy: 0.7857\n",
      "Epoch 78/100\n",
      "41/41 [==============================] - 0s 1ms/step - loss: 0.4729 - accuracy: 0.8297 - val_loss: 0.5157 - val_accuracy: 0.7857\n",
      "Epoch 79/100\n",
      "41/41 [==============================] - 0s 1ms/step - loss: 0.4804 - accuracy: 0.8313 - val_loss: 0.5112 - val_accuracy: 0.7857\n",
      "Epoch 80/100\n",
      "41/41 [==============================] - 0s 1ms/step - loss: 0.4770 - accuracy: 0.8266 - val_loss: 0.5313 - val_accuracy: 0.7857\n",
      "Epoch 81/100\n",
      "41/41 [==============================] - ETA: 0s - loss: 0.5587 - accuracy: 0.78 - 0s 1ms/step - loss: 0.4785 - accuracy: 0.8281 - val_loss: 0.5066 - val_accuracy: 0.8143\n",
      "Epoch 82/100\n",
      "41/41 [==============================] - 0s 1ms/step - loss: 0.4775 - accuracy: 0.8274 - val_loss: 0.5150 - val_accuracy: 0.8143\n",
      "Epoch 83/100\n",
      "41/41 [==============================] - 0s 1ms/step - loss: 0.4747 - accuracy: 0.8274 - val_loss: 0.5339 - val_accuracy: 0.7857\n",
      "Epoch 84/100\n",
      "41/41 [==============================] - 0s 1ms/step - loss: 0.4691 - accuracy: 0.8297 - val_loss: 0.5186 - val_accuracy: 0.7857\n",
      "Epoch 85/100\n",
      "41/41 [==============================] - 0s 1ms/step - loss: 0.4675 - accuracy: 0.8320 - val_loss: 0.5128 - val_accuracy: 0.7857\n",
      "Epoch 86/100\n",
      "41/41 [==============================] - 0s 1ms/step - loss: 0.4736 - accuracy: 0.8313 - val_loss: 0.5050 - val_accuracy: 0.8143\n",
      "Epoch 87/100\n",
      "41/41 [==============================] - 0s 1ms/step - loss: 0.4710 - accuracy: 0.8297 - val_loss: 0.5496 - val_accuracy: 0.7857\n",
      "Epoch 88/100\n",
      "41/41 [==============================] - 0s 1ms/step - loss: 0.4704 - accuracy: 0.8320 - val_loss: 0.5132 - val_accuracy: 0.7857\n",
      "Epoch 89/100\n",
      "41/41 [==============================] - 0s 1ms/step - loss: 0.4673 - accuracy: 0.8313 - val_loss: 0.5078 - val_accuracy: 0.7857\n",
      "Epoch 90/100\n",
      "41/41 [==============================] - 0s 1ms/step - loss: 0.4628 - accuracy: 0.8313 - val_loss: 0.4984 - val_accuracy: 0.8143\n",
      "Epoch 91/100\n",
      "41/41 [==============================] - 0s 1ms/step - loss: 0.4773 - accuracy: 0.8297 - val_loss: 0.5327 - val_accuracy: 0.7857\n",
      "Epoch 92/100\n",
      "41/41 [==============================] - 0s 1ms/step - loss: 0.4783 - accuracy: 0.8258 - val_loss: 0.5295 - val_accuracy: 0.7857\n",
      "Epoch 93/100\n",
      "41/41 [==============================] - 0s 1ms/step - loss: 0.4666 - accuracy: 0.8305 - val_loss: 0.5071 - val_accuracy: 0.8000\n",
      "Epoch 94/100\n",
      "41/41 [==============================] - 0s 1ms/step - loss: 0.4699 - accuracy: 0.8289 - val_loss: 0.5569 - val_accuracy: 0.7857\n",
      "Epoch 95/100\n",
      "41/41 [==============================] - 0s 1ms/step - loss: 0.4667 - accuracy: 0.8274 - val_loss: 0.5319 - val_accuracy: 0.7857\n",
      "Epoch 96/100\n",
      "41/41 [==============================] - 0s 1ms/step - loss: 0.4681 - accuracy: 0.8313 - val_loss: 0.5043 - val_accuracy: 0.8000\n",
      "Epoch 97/100\n",
      "41/41 [==============================] - 0s 1ms/step - loss: 0.4648 - accuracy: 0.8305 - val_loss: 0.5145 - val_accuracy: 0.7857\n",
      "Epoch 98/100\n",
      "41/41 [==============================] - 0s 1ms/step - loss: 0.4593 - accuracy: 0.8328 - val_loss: 0.5139 - val_accuracy: 0.7857\n",
      "Epoch 99/100\n",
      "41/41 [==============================] - 0s 1ms/step - loss: 0.4579 - accuracy: 0.8328 - val_loss: 0.5687 - val_accuracy: 0.7857\n",
      "Epoch 100/100\n",
      "41/41 [==============================] - 0s 1ms/step - loss: 0.4613 - accuracy: 0.8344 - val_loss: 0.4854 - val_accuracy: 0.8143\n"
     ]
    }
   ],
   "source": [
    "epochs = 100\n",
    "history = model.fit(x_train, y_train, batch_size=32, epochs=epochs,validation_data=(x_test, y_test))"
   ]
  },
  {
   "cell_type": "markdown",
   "metadata": {},
   "source": [
    "# Ploting "
   ]
  },
  {
   "cell_type": "code",
   "execution_count": 42,
   "metadata": {},
   "outputs": [
    {
     "data": {
      "image/png": "[encoded data removed]",
      "text/plain": [
       "<Figure size 432x288 with 1 Axes>"
      ]
     },
     "metadata": {
      "needs_background": "light"
     },
     "output_type": "display_data"
    },
    {
     "data": {
      "image/png": "[encoded data removed]",
      "text/plain": [
       "<Figure size 432x288 with 1 Axes>"
      ]
     },
     "metadata": {
      "needs_background": "light"
     },
     "output_type": "display_data"
    }
   ],
   "source": [
    "plt.figure(0)\n",
    "plt.plot(history.history['accuracy'],label='training accuracy')\n",
    "plt.plot(history.history['val_accuracy'],label='val_accuracy')\n",
    "plt.title('Accuracy')\n",
    "plt.xlabel('epochs')\n",
    "plt.ylabel('accuracy')\n",
    "plt.legend()\n",
    "plt.show()\n",
    "\n",
    "plt.figure(1)\n",
    "plt.plot(history.history['loss'], label='training loss')\n",
    "plt.plot(history.history['val_loss'], label='val loss')\n",
    "plt.title('Loss')\n",
    "plt.xlabel('epochs')\n",
    "plt.ylabel('loss')\n",
    "plt.legend()\n",
    "plt.show()"
   ]
  },
  {
   "cell_type": "code",
   "execution_count": 43,
   "metadata": {
    "scrolled": true
   },
   "outputs": [
    {
     "name": "stdout",
     "output_type": "stream",
     "text": [
      "Accuracy on training data =  88.4914463452566 %\n",
      "Accuracy on test data =  88.57142857142857 %\n",
      "[[0 0 0 1 0 0 0 1 0 0 0 0 0 0 0 1 0 0 1 0 0 0 0 0 0 0 0 0 0 0 1 0 0 0 0 1\n",
      "  0 0 0 0 0 1 0 0 0 0 0 1 0 0 0 0 0 0 0 0 0 0 0 0 0 0 0 0 0 0 0 0 0 0]]\n",
      "[0. 0. 0. 1. 0. 0. 0. 1. 1. 0. 0. 0. 1. 0. 0. 1. 0. 0. 1. 1. 0. 1. 0. 0.\n",
      " 0. 0. 0. 0. 0. 0. 1. 0. 0. 0. 1. 1. 0. 0. 0. 0. 0. 1. 1. 0. 0. 0. 0. 1.\n",
      " 1. 0. 0. 0. 0. 0. 0. 0. 0. 0. 0. 0. 0. 0. 0. 0. 0. 1. 0. 0. 0. 0.]\n"
     ]
    }
   ],
   "source": [
    "from sklearn.metrics import accuracy_score\n",
    "\n",
    "# prediction on training data\n",
    "label = np.array(y_train)\n",
    "pred_train = model.predict_classes(x_train)\n",
    "print(\"Accuracy on training data = \",accuracy_score(label,pred_train)*100,\"%\")\n",
    "\n",
    "# prediction on test data\n",
    "label = np.array(y_test)\n",
    "pred_test = model.predict_classes(x_test)\n",
    "print(\"Accuracy on test data = \",accuracy_score(label,pred_test)*100,\"%\")\n",
    "print(pred_test.reshape(1,70))\n",
    "print(label)"
   ]
  },
  {
   "cell_type": "code",
   "execution_count": 44,
   "metadata": {},
   "outputs": [],
   "source": [
    "model.save('anomaly_model_new.h5')"
   ]
  },
  {
   "cell_type": "markdown",
   "metadata": {},
   "source": [
    "# Loading the model"
   ]
  },
  {
   "cell_type": "code",
   "execution_count": 4,
   "metadata": {},
   "outputs": [],
   "source": [
    "from keras.models import load_model"
   ]
  },
  {
   "cell_type": "code",
   "execution_count": 5,
   "metadata": {},
   "outputs": [],
   "source": [
    "model = load_model('anomaly_model_new.h5')"
   ]
  },
  {
   "cell_type": "code",
   "execution_count": 6,
   "metadata": {},
   "outputs": [
    {
     "name": "stdout",
     "output_type": "stream",
     "text": [
      "Model: \"sequential_1\"\n",
      "_________________________________________________________________\n",
      "Layer (type)                 Output Shape              Param #   \n",
      "=================================================================\n",
      "dense_5 (Dense)              (None, 10)                170       \n",
      "_________________________________________________________________\n",
      "dense_6 (Dense)              (None, 8)                 88        \n",
      "_________________________________________________________________\n",
      "dense_7 (Dense)              (None, 12)                108       \n",
      "_________________________________________________________________\n",
      "dense_8 (Dense)              (None, 6)                 78        \n",
      "_________________________________________________________________\n",
      "dense_9 (Dense)              (None, 1)                 7         \n",
      "=================================================================\n",
      "Total params: 451\n",
      "Trainable params: 451\n",
      "Non-trainable params: 0\n",
      "_________________________________________________________________\n"
     ]
    }
   ],
   "source": [
    "model.summary()"
   ]
  },
  {
   "cell_type": "code",
   "execution_count": 7,
   "metadata": {},
   "outputs": [
    {
     "data": {
      "text/plain": [
       "array([[-9.77276868e+01,  3.05533156e+01,  2.72402210e+01,\n",
       "         1.60000000e+01,  2.45000000e+02,  2.57000000e+02,\n",
       "         3.14770480e+00,  5.95953200e+00,  6.65496100e+00,\n",
       "        -1.54880880e-02,  8.60000000e+01,  1.92875000e+03,\n",
       "         3.10000000e+01,  2.11764717e+01,  6.30000000e+01,\n",
       "         1.60784321e+01]])"
      ]
     },
     "execution_count": 7,
     "metadata": {},
     "output_type": "execute_result"
    }
   ],
   "source": [
    "# Trying with real world input\n",
    "samples = np.array([data[6][0:16]])     \n",
    "samples"
   ]
  },
  {
   "cell_type": "code",
   "execution_count": 8,
   "metadata": {},
   "outputs": [
    {
     "name": "stdout",
     "output_type": "stream",
     "text": [
      "WARNING:tensorflow:From <ipython-input-8-b34e0cb5a83f>:1: Sequential.predict_classes (from tensorflow.python.keras.engine.sequential) is deprecated and will be removed after 2021-01-01.\n",
      "Instructions for updating:\n",
      "Please use instead:* `np.argmax(model.predict(x), axis=-1)`,   if your model does multi-class classification   (e.g. if it uses a `softmax` last-layer activation).* `(model.predict(x) > 0.5).astype(\"int32\")`,   if your model does binary classification   (e.g. if it uses a `sigmoid` last-layer activation).\n"
     ]
    },
    {
     "data": {
      "text/plain": [
       "array([[1]])"
      ]
     },
     "execution_count": 8,
     "metadata": {},
     "output_type": "execute_result"
    }
   ],
   "source": [
    "prediction = model.predict_classes(samples)\n",
    "prediction"
   ]
  },
  {
   "cell_type": "code",
   "execution_count": 58,
   "metadata": {},
   "outputs": [
    {
     "data": {
      "text/plain": [
       "array([[0.98524183]], dtype=float32)"
      ]
     },
     "execution_count": 58,
     "metadata": {},
     "output_type": "execute_result"
    }
   ],
   "source": [
    "pred = model.predict(samples)\n",
    "pred"
   ]
  },
  {
   "cell_type": "code",
   "execution_count": 61,
   "metadata": {},
   "outputs": [
    {
     "data": {
      "text/plain": [
       "array([[-9.76787399e+01,  3.04948661e+01,  1.53761180e+01,\n",
       "         2.23000000e+02,  3.29000000e+02,  3.34200000e+02,\n",
       "        -8.06290500e-01,  6.35677770e+00,  6.40067770e+00,\n",
       "        -5.77688800e-02,  8.40000000e+01,  8.33500000e+02,\n",
       "         3.00000000e+01,  3.25490189e+01,  2.65000010e+00,\n",
       "         1.56862745e+01]])"
      ]
     },
     "execution_count": 61,
     "metadata": {},
     "output_type": "execute_result"
    }
   ],
   "source": [
    "# Trying with real world input\n",
    "samples = np.array([data[5][0:16]])     \n",
    "samples"
   ]
  },
  {
   "cell_type": "code",
   "execution_count": 62,
   "metadata": {},
   "outputs": [
    {
     "data": {
      "text/plain": [
       "array([[0]])"
      ]
     },
     "execution_count": 62,
     "metadata": {},
     "output_type": "execute_result"
    }
   ],
   "source": [
    "prediction = model.predict_classes(samples)\n",
    "prediction"
   ]
  },
  {
   "cell_type": "code",
   "execution_count": 63,
   "metadata": {},
   "outputs": [
    {
     "data": {
      "text/plain": [
       "array([[0.16944236]], dtype=float32)"
      ]
     },
     "execution_count": 63,
     "metadata": {},
     "output_type": "execute_result"
    }
   ],
   "source": [
    "pred = model.predict(samples)\n",
    "pred"
   ]
  },
  {
   "cell_type": "code",
   "execution_count": null,
   "metadata": {},
   "outputs": [],
   "source": []
  }
 ],
 "metadata": {
  "kernelspec": {
   "display_name": "Python 3",
   "language": "python",
   "name": "python3"
  },
  "language_info": {
   "codemirror_mode": {
    "name": "ipython",
    "version": 3
   },
   "file_extension": ".py",
   "mimetype": "text/x-python",
   "name": "python",
   "nbconvert_exporter": "python",
   "pygments_lexer": "ipython3",
   "version": "3.7.6"
  }
 },
 "nbformat": 4,
 "nbformat_minor": 4
}
