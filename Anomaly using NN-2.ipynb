{
 "cells": [
  {
   "cell_type": "code",
   "execution_count": 1,
   "metadata": {},
   "outputs": [],
   "source": [
    "from sklearn.model_selection import train_test_split\n",
    "from keras.models import Sequential\n",
    "from keras.layers.core import Dense\n",
    "from keras.optimizers import Adam\n",
    "import pandas as pd\n",
    "import numpy as np\n",
    "import matplotlib.pyplot as plt "
   ]
  },
  {
   "cell_type": "code",
   "execution_count": 2,
   "metadata": {},
   "outputs": [],
   "source": [
    "data1 = pd.read_csv(\"New_way_data _base.csv\")"
   ]
  },
  {
   "cell_type": "code",
   "execution_count": 3,
   "metadata": {},
   "outputs": [],
   "source": [
    "#data = np.loadtxt(\"dataset_OBD_new.csv\",delimiter=\",\")"
   ]
  },
  {
   "cell_type": "code",
   "execution_count": 4,
   "metadata": {},
   "outputs": [
    {
     "data": {
      "text/plain": [
       "(11999, 8)"
      ]
     },
     "execution_count": 4,
     "metadata": {},
     "output_type": "execute_result"
    }
   ],
   "source": [
    "data1.shape"
   ]
  },
  {
   "cell_type": "code",
   "execution_count": 5,
   "metadata": {},
   "outputs": [
    {
     "data": {
      "text/html": [
       "<div>\n",
       "<style scoped>\n",
       "    .dataframe tbody tr th:only-of-type {\n",
       "        vertical-align: middle;\n",
       "    }\n",
       "\n",
       "    .dataframe tbody tr th {\n",
       "        vertical-align: top;\n",
       "    }\n",
       "\n",
       "    .dataframe thead th {\n",
       "        text-align: right;\n",
       "    }\n",
       "</style>\n",
       "<table border=\"1\" class=\"dataframe\">\n",
       "  <thead>\n",
       "    <tr style=\"text-align: right;\">\n",
       "      <th></th>\n",
       "      <th>BAROMETRIC_PRESSURE</th>\n",
       "      <th>ENGINE_COOLANT_TEMP</th>\n",
       "      <th>ENGINE_RPM</th>\n",
       "      <th>INTAKE_MANIFOLD_PRESSURE</th>\n",
       "      <th>MAF</th>\n",
       "      <th>SPEED</th>\n",
       "      <th>THROTTLE_POS</th>\n",
       "      <th>class</th>\n",
       "    </tr>\n",
       "  </thead>\n",
       "  <tbody>\n",
       "    <tr>\n",
       "      <th>0</th>\n",
       "      <td>101.000000</td>\n",
       "      <td>89.000000</td>\n",
       "      <td>1173.000000</td>\n",
       "      <td>35.000000</td>\n",
       "      <td>3.470000</td>\n",
       "      <td>9.000000</td>\n",
       "      <td>0.184000</td>\n",
       "      <td>0</td>\n",
       "    </tr>\n",
       "    <tr>\n",
       "      <th>1</th>\n",
       "      <td>95.317414</td>\n",
       "      <td>104.702540</td>\n",
       "      <td>4793.486993</td>\n",
       "      <td>69.295708</td>\n",
       "      <td>51.247763</td>\n",
       "      <td>56.748608</td>\n",
       "      <td>0.700599</td>\n",
       "      <td>1</td>\n",
       "    </tr>\n",
       "    <tr>\n",
       "      <th>2</th>\n",
       "      <td>96.340461</td>\n",
       "      <td>104.444472</td>\n",
       "      <td>3649.884731</td>\n",
       "      <td>58.358234</td>\n",
       "      <td>68.126434</td>\n",
       "      <td>11.383728</td>\n",
       "      <td>0.637216</td>\n",
       "      <td>1</td>\n",
       "    </tr>\n",
       "    <tr>\n",
       "      <th>3</th>\n",
       "      <td>100.000000</td>\n",
       "      <td>84.000000</td>\n",
       "      <td>1582.000000</td>\n",
       "      <td>82.000000</td>\n",
       "      <td>26.920000</td>\n",
       "      <td>44.000000</td>\n",
       "      <td>0.369000</td>\n",
       "      <td>0</td>\n",
       "    </tr>\n",
       "    <tr>\n",
       "      <th>4</th>\n",
       "      <td>99.000000</td>\n",
       "      <td>85.000000</td>\n",
       "      <td>1657.000000</td>\n",
       "      <td>37.000000</td>\n",
       "      <td>9.290000</td>\n",
       "      <td>36.000000</td>\n",
       "      <td>0.278000</td>\n",
       "      <td>0</td>\n",
       "    </tr>\n",
       "  </tbody>\n",
       "</table>\n",
       "</div>"
      ],
      "text/plain": [
       "   BAROMETRIC_PRESSURE  ENGINE_COOLANT_TEMP   ENGINE_RPM  \\\n",
       "0           101.000000            89.000000  1173.000000   \n",
       "1            95.317414           104.702540  4793.486993   \n",
       "2            96.340461           104.444472  3649.884731   \n",
       "3           100.000000            84.000000  1582.000000   \n",
       "4            99.000000            85.000000  1657.000000   \n",
       "\n",
       "   INTAKE_MANIFOLD_PRESSURE        MAF      SPEED  THROTTLE_POS  class  \n",
       "0                 35.000000   3.470000   9.000000      0.184000      0  \n",
       "1                 69.295708  51.247763  56.748608      0.700599      1  \n",
       "2                 58.358234  68.126434  11.383728      0.637216      1  \n",
       "3                 82.000000  26.920000  44.000000      0.369000      0  \n",
       "4                 37.000000   9.290000  36.000000      0.278000      0  "
      ]
     },
     "execution_count": 5,
     "metadata": {},
     "output_type": "execute_result"
    }
   ],
   "source": [
    "data1.head()"
   ]
  },
  {
   "cell_type": "code",
   "execution_count": 6,
   "metadata": {},
   "outputs": [],
   "source": [
    "data = np.array(data1)"
   ]
  },
  {
   "cell_type": "code",
   "execution_count": 7,
   "metadata": {},
   "outputs": [
    {
     "data": {
      "text/plain": [
       "array([1.010e+02, 8.900e+01, 1.173e+03, 3.500e+01, 3.470e+00, 9.000e+00,\n",
       "       1.840e-01, 0.000e+00])"
      ]
     },
     "execution_count": 7,
     "metadata": {},
     "output_type": "execute_result"
    }
   ],
   "source": [
    "data[0]"
   ]
  },
  {
   "cell_type": "code",
   "execution_count": 8,
   "metadata": {},
   "outputs": [
    {
     "data": {
      "text/plain": [
       "(11999, 8)"
      ]
     },
     "execution_count": 8,
     "metadata": {},
     "output_type": "execute_result"
    }
   ],
   "source": [
    "data.shape"
   ]
  },
  {
   "cell_type": "code",
   "execution_count": 9,
   "metadata": {},
   "outputs": [
    {
     "name": "stdout",
     "output_type": "stream",
     "text": [
      "(11999, 7)\n",
      "(11999,)\n"
     ]
    }
   ],
   "source": [
    "x = data[:,0:-1]\n",
    "y = data[:,-1]\n",
    "\n",
    "# Spliting dataset into train and test \n",
    "x_train,x_test,y_train,y_test = train_test_split(x,y,test_size=0.2,random_state=10)\n",
    "print(x.shape)\n",
    "print(y.shape)"
   ]
  },
  {
   "cell_type": "code",
   "execution_count": 10,
   "metadata": {
    "scrolled": true
   },
   "outputs": [
    {
     "data": {
      "text/plain": [
       "(9599, 7)"
      ]
     },
     "execution_count": 10,
     "metadata": {},
     "output_type": "execute_result"
    }
   ],
   "source": [
    "x_train.shape"
   ]
  },
  {
   "cell_type": "code",
   "execution_count": 11,
   "metadata": {
    "scrolled": true
   },
   "outputs": [
    {
     "data": {
      "text/plain": [
       "(2400, 7)"
      ]
     },
     "execution_count": 11,
     "metadata": {},
     "output_type": "execute_result"
    }
   ],
   "source": [
    "x_test.shape"
   ]
  },
  {
   "cell_type": "code",
   "execution_count": 12,
   "metadata": {},
   "outputs": [
    {
     "data": {
      "text/plain": [
       "(2400,)"
      ]
     },
     "execution_count": 12,
     "metadata": {},
     "output_type": "execute_result"
    }
   ],
   "source": [
    "y_test.shape"
   ]
  },
  {
   "cell_type": "code",
   "execution_count": 13,
   "metadata": {},
   "outputs": [
    {
     "data": {
      "text/plain": [
       "(9599,)"
      ]
     },
     "execution_count": 13,
     "metadata": {},
     "output_type": "execute_result"
    }
   ],
   "source": [
    "y_train.shape"
   ]
  },
  {
   "cell_type": "code",
   "execution_count": 14,
   "metadata": {
    "scrolled": true
   },
   "outputs": [
    {
     "data": {
      "text/plain": [
       "array([0., 0., 0., ..., 0., 0., 0.])"
      ]
     },
     "execution_count": 14,
     "metadata": {},
     "output_type": "execute_result"
    }
   ],
   "source": [
    "y_test"
   ]
  },
  {
   "cell_type": "code",
   "execution_count": 15,
   "metadata": {},
   "outputs": [
    {
     "data": {
      "text/plain": [
       "array([0., 0., 0., ..., 0., 0., 1.])"
      ]
     },
     "execution_count": 15,
     "metadata": {},
     "output_type": "execute_result"
    }
   ],
   "source": [
    "y_train"
   ]
  },
  {
   "cell_type": "code",
   "execution_count": 16,
   "metadata": {},
   "outputs": [
    {
     "data": {
      "text/plain": [
       "7"
      ]
     },
     "execution_count": 16,
     "metadata": {},
     "output_type": "execute_result"
    }
   ],
   "source": [
    "x_train.shape[1]"
   ]
  },
  {
   "cell_type": "markdown",
   "metadata": {},
   "source": [
    "# Creating the model"
   ]
  },
  {
   "cell_type": "code",
   "execution_count": 17,
   "metadata": {},
   "outputs": [],
   "source": [
    "model = Sequential()\n",
    "model.add(Dense(10,input_dim=x_train.shape[1],activation='relu'))\n",
    "model.add(Dense(8,activation='relu'))\n",
    "model.add(Dense(12,activation='relu'))\n",
    "model.add(Dense(6,activation='relu'))\n",
    "model.add(Dense(1,activation='sigmoid'))"
   ]
  },
  {
   "cell_type": "markdown",
   "metadata": {},
   "source": [
    "# Compiling the model "
   ]
  },
  {
   "cell_type": "code",
   "execution_count": 18,
   "metadata": {},
   "outputs": [],
   "source": [
    "learning_rate = 0.001\n",
    "model.compile(loss=\"binary_crossentropy\",metrics=['accuracy'],optimizer=Adam(learning_rate))"
   ]
  },
  {
   "cell_type": "markdown",
   "metadata": {},
   "source": [
    "# Training "
   ]
  },
  {
   "cell_type": "code",
   "execution_count": 19,
   "metadata": {
    "scrolled": true
   },
   "outputs": [
    {
     "name": "stdout",
     "output_type": "stream",
     "text": [
      "Epoch 1/100\n",
      "300/300 [==============================] - 0s 2ms/step - loss: 4.2858 - accuracy: 0.7109 - val_loss: 0.0778 - val_accuracy: 0.9712\n",
      "Epoch 2/100\n",
      "300/300 [==============================] - 0s 1ms/step - loss: 0.0477 - accuracy: 0.9819 - val_loss: 0.0347 - val_accuracy: 0.9871\n",
      "Epoch 3/100\n",
      "300/300 [==============================] - 0s 1ms/step - loss: 0.0254 - accuracy: 0.9915 - val_loss: 0.0193 - val_accuracy: 0.9921\n",
      "Epoch 4/100\n",
      "300/300 [==============================] - 0s 989us/step - loss: 0.0127 - accuracy: 0.9964 - val_loss: 0.0263 - val_accuracy: 0.9900\n",
      "Epoch 5/100\n",
      "300/300 [==============================] - 0s 1ms/step - loss: 0.0131 - accuracy: 0.9961 - val_loss: 0.0193 - val_accuracy: 0.9917\n",
      "Epoch 6/100\n",
      "300/300 [==============================] - 0s 1ms/step - loss: 0.0099 - accuracy: 0.9971 - val_loss: 0.0065 - val_accuracy: 0.9983\n",
      "Epoch 7/100\n",
      "300/300 [==============================] - 0s 983us/step - loss: 0.0082 - accuracy: 0.9975 - val_loss: 0.0080 - val_accuracy: 0.9971\n",
      "Epoch 8/100\n",
      "300/300 [==============================] - 0s 1ms/step - loss: 0.0109 - accuracy: 0.9962 - val_loss: 0.0055 - val_accuracy: 0.9992\n",
      "Epoch 9/100\n",
      "300/300 [==============================] - 0s 1ms/step - loss: 0.0126 - accuracy: 0.9959 - val_loss: 0.0055 - val_accuracy: 0.9979\n",
      "Epoch 10/100\n",
      "300/300 [==============================] - 0s 1ms/step - loss: 0.0117 - accuracy: 0.9958 - val_loss: 0.0700 - val_accuracy: 0.9808\n",
      "Epoch 11/100\n",
      "300/300 [==============================] - 0s 995us/step - loss: 0.0093 - accuracy: 0.9968 - val_loss: 0.0263 - val_accuracy: 0.9917\n",
      "Epoch 12/100\n",
      "300/300 [==============================] - 0s 1ms/step - loss: 0.0053 - accuracy: 0.9978 - val_loss: 0.0038 - val_accuracy: 0.9996\n",
      "Epoch 13/100\n",
      "300/300 [==============================] - 0s 1ms/step - loss: 0.0081 - accuracy: 0.9972 - val_loss: 0.0073 - val_accuracy: 0.9975\n",
      "Epoch 14/100\n",
      "300/300 [==============================] - 0s 1ms/step - loss: 0.0100 - accuracy: 0.9974 - val_loss: 0.0269 - val_accuracy: 0.9867\n",
      "Epoch 15/100\n",
      "300/300 [==============================] - 0s 1ms/step - loss: 0.0061 - accuracy: 0.9981 - val_loss: 0.0122 - val_accuracy: 0.9958\n",
      "Epoch 16/100\n",
      "300/300 [==============================] - 0s 1ms/step - loss: 0.0061 - accuracy: 0.9982 - val_loss: 0.0022 - val_accuracy: 0.9996\n",
      "Epoch 17/100\n",
      "300/300 [==============================] - 0s 1ms/step - loss: 0.0088 - accuracy: 0.9970 - val_loss: 0.0060 - val_accuracy: 0.9979\n",
      "Epoch 18/100\n",
      "300/300 [==============================] - 0s 1ms/step - loss: 0.0102 - accuracy: 0.9967 - val_loss: 0.0043 - val_accuracy: 0.9983\n",
      "Epoch 19/100\n",
      "300/300 [==============================] - 0s 1ms/step - loss: 0.0053 - accuracy: 0.9981 - val_loss: 0.0407 - val_accuracy: 0.9904\n",
      "Epoch 20/100\n",
      "300/300 [==============================] - 0s 1ms/step - loss: 0.0094 - accuracy: 0.9970 - val_loss: 0.0351 - val_accuracy: 0.9908\n",
      "Epoch 21/100\n",
      "300/300 [==============================] - 0s 1ms/step - loss: 0.0042 - accuracy: 0.9985 - val_loss: 0.0346 - val_accuracy: 0.9842\n",
      "Epoch 22/100\n",
      "300/300 [==============================] - 0s 1ms/step - loss: 0.0191 - accuracy: 0.9951 - val_loss: 0.0017 - val_accuracy: 0.9996\n",
      "Epoch 23/100\n",
      "300/300 [==============================] - 0s 1ms/step - loss: 0.0057 - accuracy: 0.9980 - val_loss: 0.0015 - val_accuracy: 0.9996\n",
      "Epoch 24/100\n",
      "300/300 [==============================] - 0s 1ms/step - loss: 0.0025 - accuracy: 0.9987 - val_loss: 0.0017 - val_accuracy: 0.9996\n",
      "Epoch 25/100\n",
      "300/300 [==============================] - 0s 1ms/step - loss: 0.0049 - accuracy: 0.9982 - val_loss: 0.0019 - val_accuracy: 0.9996\n",
      "Epoch 26/100\n",
      "300/300 [==============================] - 0s 1ms/step - loss: 0.0081 - accuracy: 0.9977 - val_loss: 0.0062 - val_accuracy: 0.9983\n",
      "Epoch 27/100\n",
      "300/300 [==============================] - 0s 1ms/step - loss: 0.0214 - accuracy: 0.9949 - val_loss: 0.0025 - val_accuracy: 0.9996\n",
      "Epoch 28/100\n",
      "300/300 [==============================] - 0s 1ms/step - loss: 0.0057 - accuracy: 0.9980 - val_loss: 0.0013 - val_accuracy: 0.9996\n",
      "Epoch 29/100\n",
      "300/300 [==============================] - 0s 1ms/step - loss: 0.0038 - accuracy: 0.9990 - val_loss: 0.0036 - val_accuracy: 0.9992\n",
      "Epoch 30/100\n",
      "300/300 [==============================] - 0s 1ms/step - loss: 0.0042 - accuracy: 0.9989 - val_loss: 0.0073 - val_accuracy: 0.9979\n",
      "Epoch 31/100\n",
      "300/300 [==============================] - 0s 1ms/step - loss: 0.0056 - accuracy: 0.9983 - val_loss: 0.0051 - val_accuracy: 0.9983\n",
      "Epoch 32/100\n",
      "300/300 [==============================] - 0s 1ms/step - loss: 0.0034 - accuracy: 0.9986 - val_loss: 0.0011 - val_accuracy: 0.9996\n",
      "Epoch 33/100\n",
      "300/300 [==============================] - 0s 1ms/step - loss: 0.0035 - accuracy: 0.9989 - val_loss: 0.1700 - val_accuracy: 0.9667\n",
      "Epoch 34/100\n",
      "300/300 [==============================] - 0s 1ms/step - loss: 0.0096 - accuracy: 0.9971 - val_loss: 0.0101 - val_accuracy: 0.9975\n",
      "Epoch 35/100\n",
      "300/300 [==============================] - 0s 1ms/step - loss: 0.0048 - accuracy: 0.9987 - val_loss: 0.0012 - val_accuracy: 0.9996\n",
      "Epoch 36/100\n",
      "300/300 [==============================] - 0s 1ms/step - loss: 0.0032 - accuracy: 0.9989 - val_loss: 0.0179 - val_accuracy: 0.9950\n",
      "Epoch 37/100\n",
      "300/300 [==============================] - 0s 1ms/step - loss: 0.0050 - accuracy: 0.9985 - val_loss: 0.0163 - val_accuracy: 0.9954\n",
      "Epoch 38/100\n",
      "300/300 [==============================] - 0s 1ms/step - loss: 0.0036 - accuracy: 0.9990 - val_loss: 0.0020 - val_accuracy: 0.9996\n",
      "Epoch 39/100\n",
      "300/300 [==============================] - 0s 1ms/step - loss: 0.0068 - accuracy: 0.9985 - val_loss: 0.0045 - val_accuracy: 0.9987\n",
      "Epoch 40/100\n",
      "300/300 [==============================] - 0s 1ms/step - loss: 0.0047 - accuracy: 0.9986 - val_loss: 0.0069 - val_accuracy: 0.9975\n",
      "Epoch 41/100\n",
      "300/300 [==============================] - 0s 1ms/step - loss: 0.0104 - accuracy: 0.9973 - val_loss: 0.0018 - val_accuracy: 0.9996\n",
      "Epoch 42/100\n",
      "300/300 [==============================] - 0s 1ms/step - loss: 0.0046 - accuracy: 0.9986 - val_loss: 0.0024 - val_accuracy: 0.9992\n",
      "Epoch 43/100\n",
      "300/300 [==============================] - 0s 1ms/step - loss: 0.0042 - accuracy: 0.9990 - val_loss: 0.0052 - val_accuracy: 0.9987\n",
      "Epoch 44/100\n",
      "300/300 [==============================] - 0s 1ms/step - loss: 0.0058 - accuracy: 0.9979 - val_loss: 0.0077 - val_accuracy: 0.9975\n",
      "Epoch 45/100\n",
      "300/300 [==============================] - 0s 1ms/step - loss: 0.0021 - accuracy: 0.9993 - val_loss: 0.0193 - val_accuracy: 0.9937\n",
      "Epoch 46/100\n",
      "300/300 [==============================] - 0s 1ms/step - loss: 0.0035 - accuracy: 0.9990 - val_loss: 0.0031 - val_accuracy: 0.9992\n",
      "Epoch 47/100\n",
      "300/300 [==============================] - 0s 1ms/step - loss: 0.0059 - accuracy: 0.9985 - val_loss: 0.0054 - val_accuracy: 0.9979\n",
      "Epoch 48/100\n",
      "300/300 [==============================] - 0s 1ms/step - loss: 0.0057 - accuracy: 0.9982 - val_loss: 0.0064 - val_accuracy: 0.9996\n",
      "Epoch 49/100\n",
      "300/300 [==============================] - 0s 1ms/step - loss: 0.0029 - accuracy: 0.9987 - val_loss: 0.0030 - val_accuracy: 0.9992\n",
      "Epoch 50/100\n",
      "300/300 [==============================] - 0s 1ms/step - loss: 0.0047 - accuracy: 0.9984 - val_loss: 0.0054 - val_accuracy: 0.9992\n",
      "Epoch 51/100\n",
      "300/300 [==============================] - 0s 1ms/step - loss: 0.0073 - accuracy: 0.9978 - val_loss: 0.0014 - val_accuracy: 0.9996\n",
      "Epoch 52/100\n",
      "300/300 [==============================] - 0s 1ms/step - loss: 0.0020 - accuracy: 0.9996 - val_loss: 0.0021 - val_accuracy: 0.9996\n",
      "Epoch 53/100\n",
      "300/300 [==============================] - 0s 1ms/step - loss: 0.0031 - accuracy: 0.9990 - val_loss: 0.0018 - val_accuracy: 0.9996\n",
      "Epoch 54/100\n",
      "300/300 [==============================] - 0s 1ms/step - loss: 0.0038 - accuracy: 0.9990 - val_loss: 0.0014 - val_accuracy: 0.9996\n",
      "Epoch 55/100\n",
      "300/300 [==============================] - 0s 1ms/step - loss: 0.0054 - accuracy: 0.9978 - val_loss: 0.0014 - val_accuracy: 0.9996\n",
      "Epoch 56/100\n",
      "300/300 [==============================] - 0s 1ms/step - loss: 0.0027 - accuracy: 0.9992 - val_loss: 0.0015 - val_accuracy: 0.9996\n",
      "Epoch 57/100\n",
      "300/300 [==============================] - 0s 1ms/step - loss: 0.0048 - accuracy: 0.9985 - val_loss: 0.0014 - val_accuracy: 0.9996\n"
     ]
    },
    {
     "name": "stdout",
     "output_type": "stream",
     "text": [
      "Epoch 58/100\n",
      "300/300 [==============================] - 0s 1ms/step - loss: 0.0048 - accuracy: 0.9993 - val_loss: 0.0012 - val_accuracy: 0.9996\n",
      "Epoch 59/100\n",
      "300/300 [==============================] - 0s 1ms/step - loss: 0.0028 - accuracy: 0.9990 - val_loss: 0.0016 - val_accuracy: 0.9996\n",
      "Epoch 60/100\n",
      "300/300 [==============================] - 0s 1ms/step - loss: 0.0034 - accuracy: 0.9989 - val_loss: 0.0051 - val_accuracy: 0.9983\n",
      "Epoch 61/100\n",
      "300/300 [==============================] - 0s 1ms/step - loss: 0.0038 - accuracy: 0.9983 - val_loss: 0.0019 - val_accuracy: 0.9996\n",
      "Epoch 62/100\n",
      "300/300 [==============================] - 0s 1ms/step - loss: 0.0043 - accuracy: 0.9991 - val_loss: 0.0023 - val_accuracy: 0.9996\n",
      "Epoch 63/100\n",
      "300/300 [==============================] - 0s 1ms/step - loss: 0.0030 - accuracy: 0.9991 - val_loss: 0.0022 - val_accuracy: 0.9996\n",
      "Epoch 64/100\n",
      "300/300 [==============================] - 0s 987us/step - loss: 0.0016 - accuracy: 0.9993 - val_loss: 0.0018 - val_accuracy: 0.9996\n",
      "Epoch 65/100\n",
      "300/300 [==============================] - 0s 1ms/step - loss: 0.0046 - accuracy: 0.9991 - val_loss: 0.0018 - val_accuracy: 0.9996\n",
      "Epoch 66/100\n",
      "300/300 [==============================] - 0s 1ms/step - loss: 0.0033 - accuracy: 0.9990 - val_loss: 0.0042 - val_accuracy: 0.9992\n",
      "Epoch 67/100\n",
      "300/300 [==============================] - 0s 1ms/step - loss: 0.0063 - accuracy: 0.9980 - val_loss: 0.0025 - val_accuracy: 0.9992\n",
      "Epoch 68/100\n",
      "300/300 [==============================] - 0s 1ms/step - loss: 0.0029 - accuracy: 0.9993 - val_loss: 0.0013 - val_accuracy: 0.9996\n",
      "Epoch 69/100\n",
      "300/300 [==============================] - 0s 1ms/step - loss: 0.0016 - accuracy: 0.9995 - val_loss: 9.5465e-04 - val_accuracy: 1.0000\n",
      "Epoch 70/100\n",
      "300/300 [==============================] - 0s 1ms/step - loss: 0.0045 - accuracy: 0.9983 - val_loss: 0.0063 - val_accuracy: 0.9975\n",
      "Epoch 71/100\n",
      "300/300 [==============================] - 0s 1ms/step - loss: 0.0048 - accuracy: 0.9985 - val_loss: 0.0027 - val_accuracy: 0.9996\n",
      "Epoch 72/100\n",
      "300/300 [==============================] - 0s 1ms/step - loss: 0.0032 - accuracy: 0.9990 - val_loss: 0.0017 - val_accuracy: 0.9996\n",
      "Epoch 73/100\n",
      "300/300 [==============================] - 0s 1ms/step - loss: 0.0017 - accuracy: 0.9995 - val_loss: 0.0027 - val_accuracy: 0.9992\n",
      "Epoch 74/100\n",
      "300/300 [==============================] - 0s 1ms/step - loss: 0.0029 - accuracy: 0.9987 - val_loss: 0.0040 - val_accuracy: 0.9983\n",
      "Epoch 75/100\n",
      "300/300 [==============================] - 0s 1ms/step - loss: 0.0020 - accuracy: 0.9994 - val_loss: 0.0018 - val_accuracy: 0.9996\n",
      "Epoch 76/100\n",
      "300/300 [==============================] - 0s 987us/step - loss: 0.0073 - accuracy: 0.9982 - val_loss: 0.0011 - val_accuracy: 0.9996\n",
      "Epoch 77/100\n",
      "300/300 [==============================] - 0s 1ms/step - loss: 0.0039 - accuracy: 0.9987 - val_loss: 0.0026 - val_accuracy: 0.9992\n",
      "Epoch 78/100\n",
      "300/300 [==============================] - 0s 1ms/step - loss: 0.0024 - accuracy: 0.9990 - val_loss: 0.0012 - val_accuracy: 0.9996\n",
      "Epoch 79/100\n",
      "300/300 [==============================] - 0s 1ms/step - loss: 0.0019 - accuracy: 0.9993 - val_loss: 0.0016 - val_accuracy: 0.9996\n",
      "Epoch 80/100\n",
      "300/300 [==============================] - 0s 1ms/step - loss: 0.0045 - accuracy: 0.9989 - val_loss: 0.0022 - val_accuracy: 0.9992\n",
      "Epoch 81/100\n",
      "300/300 [==============================] - 0s 1ms/step - loss: 0.0028 - accuracy: 0.9991 - val_loss: 9.4181e-04 - val_accuracy: 0.9996\n",
      "Epoch 82/100\n",
      "300/300 [==============================] - 0s 1ms/step - loss: 0.0051 - accuracy: 0.9985 - val_loss: 0.0022 - val_accuracy: 0.9992\n",
      "Epoch 83/100\n",
      "300/300 [==============================] - 0s 1ms/step - loss: 0.0043 - accuracy: 0.9983 - val_loss: 0.0014 - val_accuracy: 0.9996\n",
      "Epoch 84/100\n",
      "300/300 [==============================] - 0s 1ms/step - loss: 0.0015 - accuracy: 0.9995 - val_loss: 0.0037 - val_accuracy: 0.9992\n",
      "Epoch 85/100\n",
      "300/300 [==============================] - 0s 1ms/step - loss: 0.0027 - accuracy: 0.9987 - val_loss: 0.0019 - val_accuracy: 0.9996\n",
      "Epoch 86/100\n",
      "300/300 [==============================] - 0s 1ms/step - loss: 0.0033 - accuracy: 0.9993 - val_loss: 0.0037 - val_accuracy: 0.9992\n",
      "Epoch 87/100\n",
      "300/300 [==============================] - 0s 1000us/step - loss: 0.0020 - accuracy: 0.9997 - val_loss: 0.0012 - val_accuracy: 0.9996\n",
      "Epoch 88/100\n",
      "300/300 [==============================] - 0s 1ms/step - loss: 0.0100 - accuracy: 0.9972 - val_loss: 0.0044 - val_accuracy: 0.9996\n",
      "Epoch 89/100\n",
      "300/300 [==============================] - 0s 1ms/step - loss: 0.0014 - accuracy: 0.9997 - val_loss: 0.0016 - val_accuracy: 0.9996\n",
      "Epoch 90/100\n",
      "300/300 [==============================] - 0s 1ms/step - loss: 0.0013 - accuracy: 0.9997 - val_loss: 0.0129 - val_accuracy: 0.9958\n",
      "Epoch 91/100\n",
      "300/300 [==============================] - 0s 1ms/step - loss: 0.0035 - accuracy: 0.9991 - val_loss: 0.0016 - val_accuracy: 0.9996\n",
      "Epoch 92/100\n",
      "300/300 [==============================] - 0s 1ms/step - loss: 0.0021 - accuracy: 0.9992 - val_loss: 0.0193 - val_accuracy: 0.9950\n",
      "Epoch 93/100\n",
      "300/300 [==============================] - 0s 1ms/step - loss: 0.0048 - accuracy: 0.9987 - val_loss: 9.8139e-04 - val_accuracy: 0.9996\n",
      "Epoch 94/100\n",
      "300/300 [==============================] - 0s 1ms/step - loss: 0.0021 - accuracy: 0.9992 - val_loss: 0.0063 - val_accuracy: 0.9983\n",
      "Epoch 95/100\n",
      "300/300 [==============================] - 0s 1ms/step - loss: 0.0033 - accuracy: 0.9985 - val_loss: 0.0018 - val_accuracy: 0.9996\n",
      "Epoch 96/100\n",
      "300/300 [==============================] - 0s 999us/step - loss: 0.0010 - accuracy: 0.9999 - val_loss: 9.3871e-04 - val_accuracy: 0.9996\n",
      "Epoch 97/100\n",
      "300/300 [==============================] - 0s 1ms/step - loss: 0.0028 - accuracy: 0.9992 - val_loss: 7.3312e-04 - val_accuracy: 0.9996\n",
      "Epoch 98/100\n",
      "300/300 [==============================] - 0s 1ms/step - loss: 0.0059 - accuracy: 0.9983 - val_loss: 0.0025 - val_accuracy: 0.9996\n",
      "Epoch 99/100\n",
      "300/300 [==============================] - 0s 1ms/step - loss: 0.0054 - accuracy: 0.9979 - val_loss: 0.0011 - val_accuracy: 0.9996\n",
      "Epoch 100/100\n",
      "300/300 [==============================] - 0s 1ms/step - loss: 0.0025 - accuracy: 0.9992 - val_loss: 0.0021 - val_accuracy: 0.9996\n"
     ]
    }
   ],
   "source": [
    "epochs = 100\n",
    "history = model.fit(x_train, y_train, batch_size=32, epochs=epochs,validation_data=(x_test, y_test))"
   ]
  },
  {
   "cell_type": "markdown",
   "metadata": {},
   "source": [
    "# Ploting "
   ]
  },
  {
   "cell_type": "code",
   "execution_count": 20,
   "metadata": {},
   "outputs": [
    {
     "data": {
      "image/png": "[encoded data removed]",
      "text/plain": [
       "<Figure size 432x288 with 1 Axes>"
      ]
     },
     "metadata": {
      "needs_background": "light"
     },
     "output_type": "display_data"
    },
    {
     "data": {
      "image/png": "[encoded data removed]",
      "text/plain": [
       "<Figure size 432x288 with 1 Axes>"
      ]
     },
     "metadata": {
      "needs_background": "light"
     },
     "output_type": "display_data"
    }
   ],
   "source": [
    "plt.figure(0)\n",
    "plt.plot(history.history['accuracy'],label='training accuracy')\n",
    "plt.plot(history.history['val_accuracy'],label='val_accuracy')\n",
    "plt.title('Accuracy')\n",
    "plt.xlabel('epochs')\n",
    "plt.ylabel('accuracy')\n",
    "plt.legend()\n",
    "plt.show()\n",
    "\n",
    "plt.figure(1)\n",
    "plt.plot(history.history['loss'], label='training loss')\n",
    "plt.plot(history.history['val_loss'], label='val loss')\n",
    "plt.title('Loss')\n",
    "plt.xlabel('epochs')\n",
    "plt.ylabel('loss')\n",
    "plt.legend()\n",
    "plt.show()"
   ]
  },
  {
   "cell_type": "code",
   "execution_count": 22,
   "metadata": {
    "scrolled": true
   },
   "outputs": [
    {
     "name": "stdout",
     "output_type": "stream",
     "text": [
      "Accuracy on training data =  99.9583289926034 %\n",
      "Accuracy on test data =  99.95833333333334 %\n",
      "[[0 0 0 ... 0 0 0]]\n",
      "[0. 0. 0. ... 0. 0. 0.]\n"
     ]
    }
   ],
   "source": [
    "from sklearn.metrics import accuracy_score\n",
    "\n",
    "# prediction on training data\n",
    "label = np.array(y_train)\n",
    "pred_train = model.predict_classes(x_train)\n",
    "print(\"Accuracy on training data = \",accuracy_score(label,pred_train)*100,\"%\")\n",
    "\n",
    "# prediction on test data\n",
    "label = np.array(y_test)\n",
    "pred_test = model.predict_classes(x_test)\n",
    "print(\"Accuracy on test data = \",accuracy_score(label,pred_test)*100,\"%\")\n",
    "print(pred_test.reshape(1,y_test.shape[0]))\n",
    "print(label)"
   ]
  },
  {
   "cell_type": "code",
   "execution_count": 23,
   "metadata": {},
   "outputs": [],
   "source": [
    "model.save('anomaly_detection_model_final.h5')"
   ]
  },
  {
   "cell_type": "markdown",
   "metadata": {},
   "source": [
    "# Loading the model"
   ]
  },
  {
   "cell_type": "code",
   "execution_count": 24,
   "metadata": {},
   "outputs": [],
   "source": [
    "from keras.models import load_model"
   ]
  },
  {
   "cell_type": "code",
   "execution_count": 25,
   "metadata": {},
   "outputs": [],
   "source": [
    "model = load_model('anomaly_detection_model_final.h5')"
   ]
  },
  {
   "cell_type": "code",
   "execution_count": 26,
   "metadata": {},
   "outputs": [
    {
     "name": "stdout",
     "output_type": "stream",
     "text": [
      "Model: \"sequential\"\n",
      "_________________________________________________________________\n",
      "Layer (type)                 Output Shape              Param #   \n",
      "=================================================================\n",
      "dense (Dense)                (None, 10)                80        \n",
      "_________________________________________________________________\n",
      "dense_1 (Dense)              (None, 8)                 88        \n",
      "_________________________________________________________________\n",
      "dense_2 (Dense)              (None, 12)                108       \n",
      "_________________________________________________________________\n",
      "dense_3 (Dense)              (None, 6)                 78        \n",
      "_________________________________________________________________\n",
      "dense_4 (Dense)              (None, 1)                 7         \n",
      "=================================================================\n",
      "Total params: 361\n",
      "Trainable params: 361\n",
      "Non-trainable params: 0\n",
      "_________________________________________________________________\n"
     ]
    }
   ],
   "source": [
    "model.summary()"
   ]
  },
  {
   "cell_type": "code",
   "execution_count": 27,
   "metadata": {},
   "outputs": [
    {
     "data": {
      "text/plain": [
       "array([[1.000e+02, 8.300e+01, 1.952e+03, 1.900e+01, 5.260e+00, 5.700e+01,\n",
       "        2.310e-01]])"
      ]
     },
     "execution_count": 27,
     "metadata": {},
     "output_type": "execute_result"
    }
   ],
   "source": [
    "# Trying with real world input\n",
    "samples = np.array([data[6][0:-1]])     \n",
    "samples"
   ]
  },
  {
   "cell_type": "code",
   "execution_count": 28,
   "metadata": {},
   "outputs": [
    {
     "data": {
      "text/plain": [
       "array([[0]])"
      ]
     },
     "execution_count": 28,
     "metadata": {},
     "output_type": "execute_result"
    }
   ],
   "source": [
    "prediction = model.predict_classes(samples)\n",
    "prediction"
   ]
  },
  {
   "cell_type": "code",
   "execution_count": 29,
   "metadata": {},
   "outputs": [
    {
     "data": {
      "text/plain": [
       "array([[2.427123e-05]], dtype=float32)"
      ]
     },
     "execution_count": 29,
     "metadata": {},
     "output_type": "execute_result"
    }
   ],
   "source": [
    "pred = model.predict(samples)\n",
    "pred"
   ]
  },
  {
   "cell_type": "code",
   "execution_count": 30,
   "metadata": {},
   "outputs": [
    {
     "data": {
      "text/plain": [
       "array([[9.60060998e+01, 1.06088416e+02, 4.27411399e+03, 2.05487186e+01,\n",
       "        6.39619993e+01, 1.81517542e+01, 8.29642283e-01]])"
      ]
     },
     "execution_count": 30,
     "metadata": {},
     "output_type": "execute_result"
    }
   ],
   "source": [
    "# Trying with real world input\n",
    "samples = np.array([data[8][0:-1]])     \n",
    "samples"
   ]
  },
  {
   "cell_type": "code",
   "execution_count": 31,
   "metadata": {},
   "outputs": [
    {
     "data": {
      "text/plain": [
       "array([[1]])"
      ]
     },
     "execution_count": 31,
     "metadata": {},
     "output_type": "execute_result"
    }
   ],
   "source": [
    "prediction = model.predict_classes(samples)\n",
    "prediction"
   ]
  },
  {
   "cell_type": "code",
   "execution_count": 32,
   "metadata": {},
   "outputs": [
    {
     "data": {
      "text/plain": [
       "array([[1.]], dtype=float32)"
      ]
     },
     "execution_count": 32,
     "metadata": {},
     "output_type": "execute_result"
    }
   ],
   "source": [
    "pred = model.predict(samples)\n",
    "pred"
   ]
  },
  {
   "cell_type": "code",
   "execution_count": null,
   "metadata": {},
   "outputs": [],
   "source": []
  }
 ],
 "metadata": {
  "kernelspec": {
   "display_name": "Python 3",
   "language": "python",
   "name": "python3"
  },
  "language_info": {
   "codemirror_mode": {
    "name": "ipython",
    "version": 3
   },
   "file_extension": ".py",
   "mimetype": "text/x-python",
   "name": "python",
   "nbconvert_exporter": "python",
   "pygments_lexer": "ipython3",
   "version": "3.7.6"
  }
 },
 "nbformat": 4,
 "nbformat_minor": 4
}
