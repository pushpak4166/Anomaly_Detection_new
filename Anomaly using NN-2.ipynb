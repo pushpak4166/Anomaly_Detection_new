{
 "cells": [
  {
   "cell_type": "code",
   "execution_count": 31,
   "metadata": {},
   "outputs": [],
   "source": [
    "from sklearn.model_selection import train_test_split\n",
    "from keras.models import Sequential\n",
    "from keras.layers.core import Dense\n",
    "from keras.optimizers import Adam\n",
    "import pandas as pd\n",
    "import numpy as np\n",
    "import matplotlib.pyplot as plt "
   ]
  },
  {
   "cell_type": "code",
   "execution_count": 32,
   "metadata": {},
   "outputs": [],
   "source": [
    "data1 = pd.read_csv(\"New_way_data _base.csv\")"
   ]
  },
  {
   "cell_type": "code",
   "execution_count": 33,
   "metadata": {},
   "outputs": [],
   "source": [
    "#data = np.loadtxt(\"dataset_OBD_new.csv\",delimiter=\",\")"
   ]
  },
  {
   "cell_type": "code",
   "execution_count": 34,
   "metadata": {},
   "outputs": [
    {
     "data": {
      "text/plain": [
       "(11999, 8)"
      ]
     },
     "execution_count": 34,
     "metadata": {},
     "output_type": "execute_result"
    }
   ],
   "source": [
    "data1.shape"
   ]
  },
  {
   "cell_type": "code",
   "execution_count": 35,
   "metadata": {},
   "outputs": [
    {
     "data": {
      "text/html": [
       "<div>\n",
       "<style scoped>\n",
       "    .dataframe tbody tr th:only-of-type {\n",
       "        vertical-align: middle;\n",
       "    }\n",
       "\n",
       "    .dataframe tbody tr th {\n",
       "        vertical-align: top;\n",
       "    }\n",
       "\n",
       "    .dataframe thead th {\n",
       "        text-align: right;\n",
       "    }\n",
       "</style>\n",
       "<table border=\"1\" class=\"dataframe\">\n",
       "  <thead>\n",
       "    <tr style=\"text-align: right;\">\n",
       "      <th></th>\n",
       "      <th>BAROMETRIC_PRESSURE</th>\n",
       "      <th>ENGINE_COOLANT_TEMP</th>\n",
       "      <th>ENGINE_RPM</th>\n",
       "      <th>INTAKE_MANIFOLD_PRESSURE</th>\n",
       "      <th>MAF</th>\n",
       "      <th>SPEED</th>\n",
       "      <th>THROTTLE_POS</th>\n",
       "      <th>class</th>\n",
       "    </tr>\n",
       "  </thead>\n",
       "  <tbody>\n",
       "    <tr>\n",
       "      <th>0</th>\n",
       "      <td>101.000000</td>\n",
       "      <td>89.000000</td>\n",
       "      <td>1173.000000</td>\n",
       "      <td>35.000000</td>\n",
       "      <td>3.470000</td>\n",
       "      <td>9.000000</td>\n",
       "      <td>0.184000</td>\n",
       "      <td>0</td>\n",
       "    </tr>\n",
       "    <tr>\n",
       "      <th>1</th>\n",
       "      <td>95.317414</td>\n",
       "      <td>104.702540</td>\n",
       "      <td>4793.486993</td>\n",
       "      <td>69.295708</td>\n",
       "      <td>51.247763</td>\n",
       "      <td>56.748608</td>\n",
       "      <td>0.700599</td>\n",
       "      <td>1</td>\n",
       "    </tr>\n",
       "    <tr>\n",
       "      <th>2</th>\n",
       "      <td>96.340461</td>\n",
       "      <td>104.444472</td>\n",
       "      <td>3649.884731</td>\n",
       "      <td>58.358234</td>\n",
       "      <td>68.126434</td>\n",
       "      <td>11.383728</td>\n",
       "      <td>0.637216</td>\n",
       "      <td>1</td>\n",
       "    </tr>\n",
       "    <tr>\n",
       "      <th>3</th>\n",
       "      <td>100.000000</td>\n",
       "      <td>84.000000</td>\n",
       "      <td>1582.000000</td>\n",
       "      <td>82.000000</td>\n",
       "      <td>26.920000</td>\n",
       "      <td>44.000000</td>\n",
       "      <td>0.369000</td>\n",
       "      <td>0</td>\n",
       "    </tr>\n",
       "    <tr>\n",
       "      <th>4</th>\n",
       "      <td>99.000000</td>\n",
       "      <td>85.000000</td>\n",
       "      <td>1657.000000</td>\n",
       "      <td>37.000000</td>\n",
       "      <td>9.290000</td>\n",
       "      <td>36.000000</td>\n",
       "      <td>0.278000</td>\n",
       "      <td>0</td>\n",
       "    </tr>\n",
       "  </tbody>\n",
       "</table>\n",
       "</div>"
      ],
      "text/plain": [
       "   BAROMETRIC_PRESSURE  ENGINE_COOLANT_TEMP   ENGINE_RPM  \\\n",
       "0           101.000000            89.000000  1173.000000   \n",
       "1            95.317414           104.702540  4793.486993   \n",
       "2            96.340461           104.444472  3649.884731   \n",
       "3           100.000000            84.000000  1582.000000   \n",
       "4            99.000000            85.000000  1657.000000   \n",
       "\n",
       "   INTAKE_MANIFOLD_PRESSURE        MAF      SPEED  THROTTLE_POS  class  \n",
       "0                 35.000000   3.470000   9.000000      0.184000      0  \n",
       "1                 69.295708  51.247763  56.748608      0.700599      1  \n",
       "2                 58.358234  68.126434  11.383728      0.637216      1  \n",
       "3                 82.000000  26.920000  44.000000      0.369000      0  \n",
       "4                 37.000000   9.290000  36.000000      0.278000      0  "
      ]
     },
     "execution_count": 35,
     "metadata": {},
     "output_type": "execute_result"
    }
   ],
   "source": [
    "data1.head()"
   ]
  },
  {
   "cell_type": "code",
   "execution_count": 36,
   "metadata": {},
   "outputs": [],
   "source": [
    "data = np.array(data1)"
   ]
  },
  {
   "cell_type": "code",
   "execution_count": 37,
   "metadata": {},
   "outputs": [
    {
     "data": {
      "text/plain": [
       "array([1.010e+02, 8.900e+01, 1.173e+03, 3.500e+01, 3.470e+00, 9.000e+00,\n",
       "       1.840e-01, 0.000e+00])"
      ]
     },
     "execution_count": 37,
     "metadata": {},
     "output_type": "execute_result"
    }
   ],
   "source": [
    "data[0]"
   ]
  },
  {
   "cell_type": "code",
   "execution_count": 38,
   "metadata": {},
   "outputs": [
    {
     "data": {
      "text/plain": [
       "(11999, 8)"
      ]
     },
     "execution_count": 38,
     "metadata": {},
     "output_type": "execute_result"
    }
   ],
   "source": [
    "data.shape"
   ]
  },
  {
   "cell_type": "code",
   "execution_count": 39,
   "metadata": {},
   "outputs": [
    {
     "name": "stdout",
     "output_type": "stream",
     "text": [
      "(11999, 7)\n",
      "(11999,)\n"
     ]
    }
   ],
   "source": [
    "x = data[:,0:-1]\n",
    "y = data[:,-1]\n",
    "\n",
    "# Spliting dataset into train and test \n",
    "x_train,x_test,y_train,y_test = train_test_split(x,y,test_size=0.2,random_state=10)\n",
    "print(x.shape)\n",
    "print(y.shape)"
   ]
  },
  {
   "cell_type": "code",
   "execution_count": 40,
   "metadata": {
    "scrolled": true
   },
   "outputs": [
    {
     "data": {
      "text/plain": [
       "(9599, 7)"
      ]
     },
     "execution_count": 40,
     "metadata": {},
     "output_type": "execute_result"
    }
   ],
   "source": [
    "x_train.shape"
   ]
  },
  {
   "cell_type": "code",
   "execution_count": 41,
   "metadata": {
    "scrolled": true
   },
   "outputs": [
    {
     "data": {
      "text/plain": [
       "(2400, 7)"
      ]
     },
     "execution_count": 41,
     "metadata": {},
     "output_type": "execute_result"
    }
   ],
   "source": [
    "x_test.shape"
   ]
  },
  {
   "cell_type": "code",
   "execution_count": 42,
   "metadata": {},
   "outputs": [
    {
     "data": {
      "text/plain": [
       "(2400,)"
      ]
     },
     "execution_count": 42,
     "metadata": {},
     "output_type": "execute_result"
    }
   ],
   "source": [
    "y_test.shape"
   ]
  },
  {
   "cell_type": "code",
   "execution_count": 43,
   "metadata": {},
   "outputs": [
    {
     "data": {
      "text/plain": [
       "(9599,)"
      ]
     },
     "execution_count": 43,
     "metadata": {},
     "output_type": "execute_result"
    }
   ],
   "source": [
    "y_train.shape"
   ]
  },
  {
   "cell_type": "code",
   "execution_count": 44,
   "metadata": {
    "scrolled": true
   },
   "outputs": [
    {
     "data": {
      "text/plain": [
       "array([0., 0., 0., ..., 0., 0., 0.])"
      ]
     },
     "execution_count": 44,
     "metadata": {},
     "output_type": "execute_result"
    }
   ],
   "source": [
    "y_test"
   ]
  },
  {
   "cell_type": "code",
   "execution_count": 45,
   "metadata": {},
   "outputs": [
    {
     "data": {
      "text/plain": [
       "array([0., 0., 0., ..., 0., 0., 1.])"
      ]
     },
     "execution_count": 45,
     "metadata": {},
     "output_type": "execute_result"
    }
   ],
   "source": [
    "y_train"
   ]
  },
  {
   "cell_type": "code",
   "execution_count": 46,
   "metadata": {},
   "outputs": [
    {
     "data": {
      "text/plain": [
       "7"
      ]
     },
     "execution_count": 46,
     "metadata": {},
     "output_type": "execute_result"
    }
   ],
   "source": [
    "x_train.shape[1]"
   ]
  },
  {
   "cell_type": "markdown",
   "metadata": {},
   "source": [
    "# Creating the model"
   ]
  },
  {
   "cell_type": "code",
   "execution_count": 57,
   "metadata": {},
   "outputs": [],
   "source": [
    "model = Sequential()\n",
    "model.add(Dense(10,input_dim=x_train.shape[1],activation='relu'))\n",
    "model.add(Dense(8,activation='relu'))\n",
    "model.add(Dense(12,activation='relu'))\n",
    "model.add(Dense(6,activation='relu'))\n",
    "model.add(Dense(1,activation='sigmoid'))"
   ]
  },
  {
   "cell_type": "markdown",
   "metadata": {},
   "source": [
    "# Compiling the model "
   ]
  },
  {
   "cell_type": "code",
   "execution_count": 59,
   "metadata": {},
   "outputs": [],
   "source": [
    "learning_rate = 0.001\n",
    "model.compile(loss=\"binary_crossentropy\",metrics=['accuracy'],optimizer=Adam(learning_rate))"
   ]
  },
  {
   "cell_type": "markdown",
   "metadata": {},
   "source": [
    "# Training "
   ]
  },
  {
   "cell_type": "code",
   "execution_count": 60,
   "metadata": {
    "scrolled": true
   },
   "outputs": [
    {
     "name": "stdout",
     "output_type": "stream",
     "text": [
      "Epoch 1/90\n",
      "273/300 [==========================>...] - ETA: 0s - loss: 8.1932 - accuracy: 0.6456 WARNING:tensorflow:Callbacks method `on_test_batch_end` is slow compared to the batch time (batch time: 0.0000s vs `on_test_batch_end` time: 0.0010s). Check your callbacks.\n",
      "300/300 [==============================] - 0s 1ms/step - loss: 7.4737 - accuracy: 0.6769 - val_loss: 0.1761 - val_accuracy: 0.9908\n",
      "Epoch 2/90\n",
      "300/300 [==============================] - 0s 940us/step - loss: 0.0895 - accuracy: 0.9954 - val_loss: 0.0543 - val_accuracy: 0.9975\n",
      "Epoch 3/90\n",
      "300/300 [==============================] - 0s 937us/step - loss: 0.0352 - accuracy: 0.9969 - val_loss: 0.0295 - val_accuracy: 0.9967\n",
      "Epoch 4/90\n",
      "300/300 [==============================] - 0s 941us/step - loss: 0.0221 - accuracy: 0.9974 - val_loss: 0.0310 - val_accuracy: 0.9908\n",
      "Epoch 5/90\n",
      "300/300 [==============================] - 0s 971us/step - loss: 0.0159 - accuracy: 0.9978 - val_loss: 0.0162 - val_accuracy: 0.9967\n",
      "Epoch 6/90\n",
      "300/300 [==============================] - 0s 985us/step - loss: 0.0127 - accuracy: 0.9978 - val_loss: 0.0178 - val_accuracy: 0.9929\n",
      "Epoch 7/90\n",
      "300/300 [==============================] - 0s 967us/step - loss: 0.0119 - accuracy: 0.9973 - val_loss: 0.0109 - val_accuracy: 0.9967\n",
      "Epoch 8/90\n",
      "300/300 [==============================] - 0s 1ms/step - loss: 0.0102 - accuracy: 0.9981 - val_loss: 0.0211 - val_accuracy: 0.9921\n",
      "Epoch 9/90\n",
      "300/300 [==============================] - 0s 958us/step - loss: 0.0116 - accuracy: 0.9971 - val_loss: 0.0078 - val_accuracy: 0.9979\n",
      "Epoch 10/90\n",
      "300/300 [==============================] - 0s 957us/step - loss: 0.0082 - accuracy: 0.9978 - val_loss: 0.0134 - val_accuracy: 0.9987\n",
      "Epoch 11/90\n",
      "300/300 [==============================] - 0s 972us/step - loss: 0.0118 - accuracy: 0.9967 - val_loss: 0.0059 - val_accuracy: 0.9987\n",
      "Epoch 12/90\n",
      "300/300 [==============================] - 0s 971us/step - loss: 0.0092 - accuracy: 0.9970 - val_loss: 0.0089 - val_accuracy: 0.9992\n",
      "Epoch 13/90\n",
      "300/300 [==============================] - 0s 948us/step - loss: 0.0069 - accuracy: 0.9980 - val_loss: 0.0054 - val_accuracy: 0.9996\n",
      "Epoch 14/90\n",
      "300/300 [==============================] - 0s 956us/step - loss: 0.0101 - accuracy: 0.9964 - val_loss: 0.0041 - val_accuracy: 0.9987\n",
      "Epoch 15/90\n",
      "300/300 [==============================] - 0s 956us/step - loss: 0.0133 - accuracy: 0.9952 - val_loss: 0.0036 - val_accuracy: 0.9992\n",
      "Epoch 16/90\n",
      "300/300 [==============================] - 0s 933us/step - loss: 0.0064 - accuracy: 0.9981 - val_loss: 0.0031 - val_accuracy: 0.9996\n",
      "Epoch 17/90\n",
      "300/300 [==============================] - 0s 895us/step - loss: 0.0048 - accuracy: 0.9986 - val_loss: 0.0059 - val_accuracy: 0.9975\n",
      "Epoch 18/90\n",
      "300/300 [==============================] - 0s 939us/step - loss: 0.0069 - accuracy: 0.9976 - val_loss: 0.0118 - val_accuracy: 0.9950\n",
      "Epoch 19/90\n",
      "300/300 [==============================] - 0s 911us/step - loss: 0.0070 - accuracy: 0.9976 - val_loss: 0.0026 - val_accuracy: 0.9996\n",
      "Epoch 20/90\n",
      "300/300 [==============================] - 0s 894us/step - loss: 0.0081 - accuracy: 0.9978 - val_loss: 0.0044 - val_accuracy: 0.9983\n",
      "Epoch 21/90\n",
      "300/300 [==============================] - 0s 907us/step - loss: 0.0048 - accuracy: 0.9985 - val_loss: 0.0047 - val_accuracy: 0.9983\n",
      "Epoch 22/90\n",
      "300/300 [==============================] - 0s 930us/step - loss: 0.0062 - accuracy: 0.9981 - val_loss: 0.0043 - val_accuracy: 0.9987\n",
      "Epoch 23/90\n",
      "300/300 [==============================] - 0s 981us/step - loss: 0.0235 - accuracy: 0.9940 - val_loss: 0.0068 - val_accuracy: 0.9975\n",
      "Epoch 24/90\n",
      "300/300 [==============================] - 0s 955us/step - loss: 0.0044 - accuracy: 0.9985 - val_loss: 0.0021 - val_accuracy: 0.9996\n",
      "Epoch 25/90\n",
      "300/300 [==============================] - 0s 990us/step - loss: 0.0074 - accuracy: 0.9976 - val_loss: 0.0053 - val_accuracy: 0.9979\n",
      "Epoch 26/90\n",
      "300/300 [==============================] - 0s 1ms/step - loss: 0.0055 - accuracy: 0.9983 - val_loss: 0.0054 - val_accuracy: 0.9979\n",
      "Epoch 27/90\n",
      "300/300 [==============================] - 0s 881us/step - loss: 0.0075 - accuracy: 0.9976 - val_loss: 0.0696 - val_accuracy: 0.9725\n",
      "Epoch 28/90\n",
      "300/300 [==============================] - 0s 994us/step - loss: 0.0090 - accuracy: 0.9979 - val_loss: 0.0211 - val_accuracy: 0.9904\n",
      "Epoch 29/90\n",
      "300/300 [==============================] - 0s 978us/step - loss: 0.0123 - accuracy: 0.9965 - val_loss: 0.0031 - val_accuracy: 0.9992\n",
      "Epoch 30/90\n",
      "300/300 [==============================] - 0s 944us/step - loss: 0.0081 - accuracy: 0.9975 - val_loss: 0.0024 - val_accuracy: 0.9992\n",
      "Epoch 31/90\n",
      "300/300 [==============================] - 0s 1ms/step - loss: 0.0075 - accuracy: 0.9981 - val_loss: 0.0151 - val_accuracy: 0.9954\n",
      "Epoch 32/90\n",
      "300/300 [==============================] - 0s 932us/step - loss: 0.0073 - accuracy: 0.9982 - val_loss: 0.0092 - val_accuracy: 0.9975\n",
      "Epoch 33/90\n",
      "300/300 [==============================] - 0s 922us/step - loss: 0.0053 - accuracy: 0.9983 - val_loss: 0.0016 - val_accuracy: 0.9996\n",
      "Epoch 34/90\n",
      "300/300 [==============================] - 0s 919us/step - loss: 0.0057 - accuracy: 0.9986 - val_loss: 0.0054 - val_accuracy: 0.9983\n",
      "Epoch 35/90\n",
      "300/300 [==============================] - 0s 875us/step - loss: 0.0072 - accuracy: 0.9981 - val_loss: 0.0207 - val_accuracy: 0.9937\n",
      "Epoch 36/90\n",
      "300/300 [==============================] - 0s 902us/step - loss: 0.0128 - accuracy: 0.9968 - val_loss: 0.0022 - val_accuracy: 0.9996\n",
      "Epoch 37/90\n",
      "300/300 [==============================] - 0s 927us/step - loss: 0.0046 - accuracy: 0.9989 - val_loss: 0.0051 - val_accuracy: 0.9987\n",
      "Epoch 38/90\n",
      "300/300 [==============================] - 0s 1ms/step - loss: 0.0066 - accuracy: 0.9986 - val_loss: 0.0225 - val_accuracy: 0.9892\n",
      "Epoch 39/90\n",
      "300/300 [==============================] - 0s 956us/step - loss: 0.0068 - accuracy: 0.9978 - val_loss: 0.0022 - val_accuracy: 0.9992\n",
      "Epoch 40/90\n",
      "300/300 [==============================] - 0s 998us/step - loss: 0.0082 - accuracy: 0.9977 - val_loss: 0.0019 - val_accuracy: 0.9996\n",
      "Epoch 41/90\n",
      "300/300 [==============================] - 0s 1ms/step - loss: 0.0075 - accuracy: 0.9979 - val_loss: 0.0100 - val_accuracy: 0.9975\n",
      "Epoch 42/90\n",
      "300/300 [==============================] - 0s 1ms/step - loss: 0.0047 - accuracy: 0.9989 - val_loss: 0.0291 - val_accuracy: 0.9875\n",
      "Epoch 43/90\n",
      "300/300 [==============================] - 0s 910us/step - loss: 0.0114 - accuracy: 0.9969 - val_loss: 0.0126 - val_accuracy: 0.9967\n",
      "Epoch 44/90\n",
      "300/300 [==============================] - 0s 1ms/step - loss: 0.0040 - accuracy: 0.9991 - val_loss: 0.0031 - val_accuracy: 0.9992\n",
      "Epoch 45/90\n",
      "300/300 [==============================] - 0s 1ms/step - loss: 0.0043 - accuracy: 0.9989 - val_loss: 0.0018 - val_accuracy: 0.9992\n",
      "Epoch 46/90\n",
      "300/300 [==============================] - 0s 1ms/step - loss: 0.0044 - accuracy: 0.9986 - val_loss: 0.0053 - val_accuracy: 0.9983\n",
      "Epoch 47/90\n",
      "300/300 [==============================] - 0s 867us/step - loss: 0.0068 - accuracy: 0.9982 - val_loss: 0.0141 - val_accuracy: 0.9958\n",
      "Epoch 48/90\n",
      "300/300 [==============================] - 0s 1ms/step - loss: 0.0033 - accuracy: 0.9993 - val_loss: 0.0019 - val_accuracy: 0.9996\n",
      "Epoch 49/90\n",
      "300/300 [==============================] - 0s 980us/step - loss: 0.0067 - accuracy: 0.9980 - val_loss: 0.0019 - val_accuracy: 0.9996\n",
      "Epoch 50/90\n",
      "300/300 [==============================] - 0s 961us/step - loss: 0.0046 - accuracy: 0.9985 - val_loss: 0.0026 - val_accuracy: 0.9996\n",
      "Epoch 51/90\n",
      "300/300 [==============================] - 0s 993us/step - loss: 0.0039 - accuracy: 0.9985 - val_loss: 0.0013 - val_accuracy: 0.9996\n",
      "Epoch 52/90\n",
      "300/300 [==============================] - 0s 1ms/step - loss: 0.0043 - accuracy: 0.9990 - val_loss: 0.0016 - val_accuracy: 0.9996\n",
      "Epoch 53/90\n",
      "300/300 [==============================] - 0s 1ms/step - loss: 0.0052 - accuracy: 0.9982 - val_loss: 0.0123 - val_accuracy: 0.9958\n",
      "Epoch 54/90\n",
      "300/300 [==============================] - 0s 1ms/step - loss: 0.0022 - accuracy: 0.9996 - val_loss: 0.0013 - val_accuracy: 0.9996\n",
      "Epoch 55/90\n",
      "300/300 [==============================] - 0s 1ms/step - loss: 0.0061 - accuracy: 0.9983 - val_loss: 0.0016 - val_accuracy: 0.9996\n"
     ]
    },
    {
     "name": "stdout",
     "output_type": "stream",
     "text": [
      "Epoch 56/90\n",
      "300/300 [==============================] - 0s 990us/step - loss: 0.0033 - accuracy: 0.9993 - val_loss: 0.0016 - val_accuracy: 0.9996\n",
      "Epoch 57/90\n",
      "300/300 [==============================] - 0s 1ms/step - loss: 0.0030 - accuracy: 0.9990 - val_loss: 0.0015 - val_accuracy: 0.9996\n",
      "Epoch 58/90\n",
      "300/300 [==============================] - 0s 1ms/step - loss: 0.0032 - accuracy: 0.9991 - val_loss: 0.0068 - val_accuracy: 0.9975\n",
      "Epoch 59/90\n",
      "300/300 [==============================] - 0s 949us/step - loss: 0.0031 - accuracy: 0.9987 - val_loss: 0.0020 - val_accuracy: 0.9996\n",
      "Epoch 60/90\n",
      "300/300 [==============================] - 0s 952us/step - loss: 0.0023 - accuracy: 0.9992 - val_loss: 0.0059 - val_accuracy: 0.9987\n",
      "Epoch 61/90\n",
      "300/300 [==============================] - 0s 1ms/step - loss: 0.0031 - accuracy: 0.9991 - val_loss: 0.0106 - val_accuracy: 0.9967\n",
      "Epoch 62/90\n",
      "300/300 [==============================] - 0s 982us/step - loss: 0.0059 - accuracy: 0.9984 - val_loss: 0.0026 - val_accuracy: 0.9996\n",
      "Epoch 63/90\n",
      "300/300 [==============================] - 0s 1ms/step - loss: 0.0043 - accuracy: 0.9986 - val_loss: 0.0131 - val_accuracy: 0.9958\n",
      "Epoch 64/90\n",
      "300/300 [==============================] - 0s 883us/step - loss: 0.0038 - accuracy: 0.9990 - val_loss: 0.0019 - val_accuracy: 0.9996\n",
      "Epoch 65/90\n",
      "300/300 [==============================] - 0s 881us/step - loss: 0.0039 - accuracy: 0.9982 - val_loss: 0.0065 - val_accuracy: 0.9983\n",
      "Epoch 66/90\n",
      "300/300 [==============================] - 0s 914us/step - loss: 0.0057 - accuracy: 0.9984 - val_loss: 0.0013 - val_accuracy: 0.9996\n",
      "Epoch 67/90\n",
      "300/300 [==============================] - 0s 943us/step - loss: 0.0031 - accuracy: 0.9987 - val_loss: 0.0241 - val_accuracy: 0.9912\n",
      "Epoch 68/90\n",
      "300/300 [==============================] - 0s 913us/step - loss: 0.0030 - accuracy: 0.9991 - val_loss: 0.0016 - val_accuracy: 0.9996\n",
      "Epoch 69/90\n",
      "300/300 [==============================] - 0s 941us/step - loss: 0.0023 - accuracy: 0.9992 - val_loss: 0.0098 - val_accuracy: 0.9962\n",
      "Epoch 70/90\n",
      "300/300 [==============================] - 0s 926us/step - loss: 0.0072 - accuracy: 0.9980 - val_loss: 0.0017 - val_accuracy: 0.9996\n",
      "Epoch 71/90\n",
      "300/300 [==============================] - 0s 861us/step - loss: 0.0037 - accuracy: 0.9992 - val_loss: 0.0143 - val_accuracy: 0.9967\n",
      "Epoch 72/90\n",
      "300/300 [==============================] - 0s 882us/step - loss: 0.0027 - accuracy: 0.9989 - val_loss: 0.0024 - val_accuracy: 0.9996\n",
      "Epoch 73/90\n",
      "300/300 [==============================] - 0s 886us/step - loss: 0.0028 - accuracy: 0.9993 - val_loss: 0.0016 - val_accuracy: 0.9996\n",
      "Epoch 74/90\n",
      "300/300 [==============================] - 0s 904us/step - loss: 0.0022 - accuracy: 0.9993 - val_loss: 0.0011 - val_accuracy: 0.9996\n",
      "Epoch 75/90\n",
      "300/300 [==============================] - 0s 896us/step - loss: 0.0038 - accuracy: 0.9987 - val_loss: 0.0018 - val_accuracy: 0.9996\n",
      "Epoch 76/90\n",
      "300/300 [==============================] - 0s 925us/step - loss: 0.0022 - accuracy: 0.9995 - val_loss: 0.0018 - val_accuracy: 0.9996\n",
      "Epoch 77/90\n",
      "300/300 [==============================] - 0s 901us/step - loss: 0.0026 - accuracy: 0.9992 - val_loss: 0.0028 - val_accuracy: 0.9996\n",
      "Epoch 78/90\n",
      "300/300 [==============================] - 0s 922us/step - loss: 0.0029 - accuracy: 0.9991 - val_loss: 0.0050 - val_accuracy: 0.9996\n",
      "Epoch 79/90\n",
      "300/300 [==============================] - 0s 902us/step - loss: 0.0046 - accuracy: 0.9985 - val_loss: 0.0018 - val_accuracy: 0.9996\n",
      "Epoch 80/90\n",
      "300/300 [==============================] - 0s 889us/step - loss: 0.0035 - accuracy: 0.9990 - val_loss: 0.0019 - val_accuracy: 0.9996\n",
      "Epoch 81/90\n",
      "300/300 [==============================] - 0s 902us/step - loss: 0.0043 - accuracy: 0.9991 - val_loss: 0.0015 - val_accuracy: 0.9996\n",
      "Epoch 82/90\n",
      "300/300 [==============================] - 0s 873us/step - loss: 0.0028 - accuracy: 0.9992 - val_loss: 0.0016 - val_accuracy: 0.9996\n",
      "Epoch 83/90\n",
      "300/300 [==============================] - 0s 889us/step - loss: 0.0035 - accuracy: 0.9991 - val_loss: 0.0031 - val_accuracy: 0.9992\n",
      "Epoch 84/90\n",
      "300/300 [==============================] - 0s 887us/step - loss: 0.0030 - accuracy: 0.9992 - val_loss: 0.0015 - val_accuracy: 0.9996\n",
      "Epoch 85/90\n",
      "300/300 [==============================] - 0s 910us/step - loss: 0.0036 - accuracy: 0.9992 - val_loss: 0.0028 - val_accuracy: 0.9996\n",
      "Epoch 86/90\n",
      "300/300 [==============================] - 0s 912us/step - loss: 0.0027 - accuracy: 0.9991 - val_loss: 0.0049 - val_accuracy: 0.9983\n",
      "Epoch 87/90\n",
      "300/300 [==============================] - 0s 889us/step - loss: 0.0032 - accuracy: 0.9987 - val_loss: 0.0013 - val_accuracy: 0.9996\n",
      "Epoch 88/90\n",
      "300/300 [==============================] - 0s 900us/step - loss: 0.0022 - accuracy: 0.9992 - val_loss: 0.0026 - val_accuracy: 0.9996\n",
      "Epoch 89/90\n",
      "300/300 [==============================] - 0s 892us/step - loss: 0.0028 - accuracy: 0.9992 - val_loss: 0.0018 - val_accuracy: 0.9996\n",
      "Epoch 90/90\n",
      "300/300 [==============================] - 0s 881us/step - loss: 0.0027 - accuracy: 0.9993 - val_loss: 0.0021 - val_accuracy: 0.9996\n"
     ]
    }
   ],
   "source": [
    "epochs = 90\n",
    "history = model.fit(x_train, y_train, batch_size=32, epochs=epochs,validation_data=(x_test, y_test))"
   ]
  },
  {
   "cell_type": "markdown",
   "metadata": {},
   "source": [
    "# Ploting "
   ]
  },
  {
   "cell_type": "code",
   "execution_count": 61,
   "metadata": {},
   "outputs": [
    {
     "data": {
      "image/png": "[encoded data removed]",
      "text/plain": [
       "<Figure size 432x288 with 1 Axes>"
      ]
     },
     "metadata": {
      "needs_background": "light"
     },
     "output_type": "display_data"
    },
    {
     "data": {
      "image/png": "[encoded data removed]",
      "text/plain": [
       "<Figure size 432x288 with 1 Axes>"
      ]
     },
     "metadata": {
      "needs_background": "light"
     },
     "output_type": "display_data"
    }
   ],
   "source": [
    "plt.figure(0)\n",
    "plt.plot(history.history['accuracy'],label='training accuracy')\n",
    "plt.plot(history.history['val_accuracy'],label='val_accuracy')\n",
    "plt.title('Accuracy')\n",
    "plt.xlabel('epochs')\n",
    "plt.ylabel('accuracy')\n",
    "plt.legend()\n",
    "plt.show()\n",
    "\n",
    "plt.figure(1)\n",
    "plt.plot(history.history['loss'], label='training loss')\n",
    "plt.plot(history.history['val_loss'], label='val loss')\n",
    "plt.title('Loss')\n",
    "plt.xlabel('epochs')\n",
    "plt.ylabel('loss')\n",
    "plt.legend()\n",
    "plt.show()"
   ]
  },
  {
   "cell_type": "code",
   "execution_count": null,
   "metadata": {
    "scrolled": true
   },
   "outputs": [],
   "source": [
    "from sklearn.metrics import accuracy_score\n",
    "\n",
    "# prediction on training data\n",
    "label = np.array(y_train)\n",
    "pred_train = model.predict_classes(x_train)\n",
    "print(\"Accuracy on training data = \",accuracy_score(label,pred_train)*100,\"%\")\n",
    "\n",
    "# prediction on test data\n",
    "label = np.array(y_test)\n",
    "pred_test = model.predict_classes(x_test)\n",
    "print(\"Accuracy on test data = \",accuracy_score(label,pred_test)*100,\"%\")\n",
    "print(pred_test.reshape(1,y_test.shape[0]))\n",
    "print(label)"
   ]
  },
  {
   "cell_type": "code",
   "execution_count": null,
   "metadata": {},
   "outputs": [],
   "source": [
    "model.save('anomaly_detection_model_final.h5')"
   ]
  },
  {
   "cell_type": "markdown",
   "metadata": {},
   "source": [
    "# Loading the model"
   ]
  },
  {
   "cell_type": "code",
   "execution_count": null,
   "metadata": {},
   "outputs": [],
   "source": [
    "from keras.models import load_model"
   ]
  },
  {
   "cell_type": "code",
   "execution_count": null,
   "metadata": {},
   "outputs": [],
   "source": [
    "model = load_model('anomaly_detection_model_final.h5')"
   ]
  },
  {
   "cell_type": "code",
   "execution_count": null,
   "metadata": {},
   "outputs": [],
   "source": [
    "model.summary()"
   ]
  },
  {
   "cell_type": "code",
   "execution_count": null,
   "metadata": {},
   "outputs": [],
   "source": [
    "# Trying with real world input\n",
    "samples = np.array([data[6][0:-1]])     \n",
    "samples"
   ]
  },
  {
   "cell_type": "code",
   "execution_count": null,
   "metadata": {},
   "outputs": [],
   "source": [
    "prediction = model.predict_classes(samples)\n",
    "prediction"
   ]
  },
  {
   "cell_type": "code",
   "execution_count": null,
   "metadata": {},
   "outputs": [],
   "source": [
    "pred = model.predict(samples)\n",
    "pred"
   ]
  },
  {
   "cell_type": "code",
   "execution_count": null,
   "metadata": {},
   "outputs": [],
   "source": [
    "# Trying with real world input\n",
    "samples = np.array([data[8][0:-1]])     \n",
    "samples"
   ]
  },
  {
   "cell_type": "code",
   "execution_count": null,
   "metadata": {},
   "outputs": [],
   "source": [
    "prediction = model.predict_classes(samples)\n",
    "prediction"
   ]
  },
  {
   "cell_type": "code",
   "execution_count": null,
   "metadata": {},
   "outputs": [],
   "source": [
    "pred = model.predict(samples)\n",
    "pred"
   ]
  },
  {
   "cell_type": "code",
   "execution_count": null,
   "metadata": {},
   "outputs": [],
   "source": []
  }
 ],
 "metadata": {
  "kernelspec": {
   "display_name": "Python 3",
   "language": "python",
   "name": "python3"
  },
  "language_info": {
   "codemirror_mode": {
    "name": "ipython",
    "version": 3
   },
   "file_extension": ".py",
   "mimetype": "text/x-python",
   "name": "python",
   "nbconvert_exporter": "python",
   "pygments_lexer": "ipython3",
   "version": "3.7.6"
  }
 },
 "nbformat": 4,
 "nbformat_minor": 4
}
