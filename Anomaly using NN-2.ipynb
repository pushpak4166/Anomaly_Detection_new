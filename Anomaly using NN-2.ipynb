{
 "cells": [
  {
   "cell_type": "code",
   "execution_count": 18,
   "metadata": {},
   "outputs": [],
   "source": [
    "from sklearn.model_selection import train_test_split\n",
    "from keras.models import Sequential\n",
    "from keras.layers.core import Dense,Dropout\n",
    "from keras.optimizers import Adam\n",
    "import pandas as pd\n",
    "import numpy as np\n",
    "import matplotlib.pyplot as plt "
   ]
  },
  {
   "cell_type": "code",
   "execution_count": 2,
   "metadata": {},
   "outputs": [],
   "source": [
    "data1 = pd.read_csv(\"New_way_data _base.csv\")"
   ]
  },
  {
   "cell_type": "code",
   "execution_count": 3,
   "metadata": {},
   "outputs": [],
   "source": [
    "#data = np.loadtxt(\"dataset_OBD_new.csv\",delimiter=\",\")"
   ]
  },
  {
   "cell_type": "code",
   "execution_count": 4,
   "metadata": {},
   "outputs": [
    {
     "data": {
      "text/plain": [
       "(11999, 8)"
      ]
     },
     "execution_count": 4,
     "metadata": {},
     "output_type": "execute_result"
    }
   ],
   "source": [
    "data1.shape"
   ]
  },
  {
   "cell_type": "code",
   "execution_count": 5,
   "metadata": {},
   "outputs": [
    {
     "data": {
      "text/html": [
       "<div>\n",
       "<style scoped>\n",
       "    .dataframe tbody tr th:only-of-type {\n",
       "        vertical-align: middle;\n",
       "    }\n",
       "\n",
       "    .dataframe tbody tr th {\n",
       "        vertical-align: top;\n",
       "    }\n",
       "\n",
       "    .dataframe thead th {\n",
       "        text-align: right;\n",
       "    }\n",
       "</style>\n",
       "<table border=\"1\" class=\"dataframe\">\n",
       "  <thead>\n",
       "    <tr style=\"text-align: right;\">\n",
       "      <th></th>\n",
       "      <th>BAROMETRIC_PRESSURE</th>\n",
       "      <th>ENGINE_COOLANT_TEMP</th>\n",
       "      <th>ENGINE_RPM</th>\n",
       "      <th>INTAKE_MANIFOLD_PRESSURE</th>\n",
       "      <th>MAF</th>\n",
       "      <th>SPEED</th>\n",
       "      <th>THROTTLE_POS</th>\n",
       "      <th>class</th>\n",
       "    </tr>\n",
       "  </thead>\n",
       "  <tbody>\n",
       "    <tr>\n",
       "      <th>0</th>\n",
       "      <td>101.000000</td>\n",
       "      <td>89.000000</td>\n",
       "      <td>1173.000000</td>\n",
       "      <td>35.000000</td>\n",
       "      <td>3.470000</td>\n",
       "      <td>9.000000</td>\n",
       "      <td>0.184000</td>\n",
       "      <td>0</td>\n",
       "    </tr>\n",
       "    <tr>\n",
       "      <th>1</th>\n",
       "      <td>95.317414</td>\n",
       "      <td>104.702540</td>\n",
       "      <td>4793.486993</td>\n",
       "      <td>69.295708</td>\n",
       "      <td>51.247763</td>\n",
       "      <td>56.748608</td>\n",
       "      <td>0.700599</td>\n",
       "      <td>1</td>\n",
       "    </tr>\n",
       "    <tr>\n",
       "      <th>2</th>\n",
       "      <td>96.340461</td>\n",
       "      <td>104.444472</td>\n",
       "      <td>3649.884731</td>\n",
       "      <td>58.358234</td>\n",
       "      <td>68.126434</td>\n",
       "      <td>11.383728</td>\n",
       "      <td>0.637216</td>\n",
       "      <td>1</td>\n",
       "    </tr>\n",
       "    <tr>\n",
       "      <th>3</th>\n",
       "      <td>100.000000</td>\n",
       "      <td>84.000000</td>\n",
       "      <td>1582.000000</td>\n",
       "      <td>82.000000</td>\n",
       "      <td>26.920000</td>\n",
       "      <td>44.000000</td>\n",
       "      <td>0.369000</td>\n",
       "      <td>0</td>\n",
       "    </tr>\n",
       "    <tr>\n",
       "      <th>4</th>\n",
       "      <td>99.000000</td>\n",
       "      <td>85.000000</td>\n",
       "      <td>1657.000000</td>\n",
       "      <td>37.000000</td>\n",
       "      <td>9.290000</td>\n",
       "      <td>36.000000</td>\n",
       "      <td>0.278000</td>\n",
       "      <td>0</td>\n",
       "    </tr>\n",
       "  </tbody>\n",
       "</table>\n",
       "</div>"
      ],
      "text/plain": [
       "   BAROMETRIC_PRESSURE  ENGINE_COOLANT_TEMP   ENGINE_RPM  \\\n",
       "0           101.000000            89.000000  1173.000000   \n",
       "1            95.317414           104.702540  4793.486993   \n",
       "2            96.340461           104.444472  3649.884731   \n",
       "3           100.000000            84.000000  1582.000000   \n",
       "4            99.000000            85.000000  1657.000000   \n",
       "\n",
       "   INTAKE_MANIFOLD_PRESSURE        MAF      SPEED  THROTTLE_POS  class  \n",
       "0                 35.000000   3.470000   9.000000      0.184000      0  \n",
       "1                 69.295708  51.247763  56.748608      0.700599      1  \n",
       "2                 58.358234  68.126434  11.383728      0.637216      1  \n",
       "3                 82.000000  26.920000  44.000000      0.369000      0  \n",
       "4                 37.000000   9.290000  36.000000      0.278000      0  "
      ]
     },
     "execution_count": 5,
     "metadata": {},
     "output_type": "execute_result"
    }
   ],
   "source": [
    "data1.head()"
   ]
  },
  {
   "cell_type": "code",
   "execution_count": 6,
   "metadata": {},
   "outputs": [],
   "source": [
    "data = np.array(data1)"
   ]
  },
  {
   "cell_type": "code",
   "execution_count": 7,
   "metadata": {},
   "outputs": [
    {
     "data": {
      "text/plain": [
       "array([1.010e+02, 8.900e+01, 1.173e+03, 3.500e+01, 3.470e+00, 9.000e+00,\n",
       "       1.840e-01, 0.000e+00])"
      ]
     },
     "execution_count": 7,
     "metadata": {},
     "output_type": "execute_result"
    }
   ],
   "source": [
    "data[0]"
   ]
  },
  {
   "cell_type": "code",
   "execution_count": 8,
   "metadata": {},
   "outputs": [
    {
     "data": {
      "text/plain": [
       "(11999, 8)"
      ]
     },
     "execution_count": 8,
     "metadata": {},
     "output_type": "execute_result"
    }
   ],
   "source": [
    "data.shape"
   ]
  },
  {
   "cell_type": "code",
   "execution_count": 9,
   "metadata": {},
   "outputs": [
    {
     "name": "stdout",
     "output_type": "stream",
     "text": [
      "(11999, 7)\n",
      "(11999,)\n"
     ]
    }
   ],
   "source": [
    "x = data[:,0:-1]\n",
    "y = data[:,-1]\n",
    "\n",
    "# Spliting dataset into train and test \n",
    "x_train,x_test,y_train,y_test = train_test_split(x,y,test_size=0.2,random_state=10)\n",
    "print(x.shape)\n",
    "print(y.shape)"
   ]
  },
  {
   "cell_type": "code",
   "execution_count": 10,
   "metadata": {
    "scrolled": true
   },
   "outputs": [
    {
     "data": {
      "text/plain": [
       "(9599, 7)"
      ]
     },
     "execution_count": 10,
     "metadata": {},
     "output_type": "execute_result"
    }
   ],
   "source": [
    "x_train.shape"
   ]
  },
  {
   "cell_type": "code",
   "execution_count": 11,
   "metadata": {
    "scrolled": true
   },
   "outputs": [
    {
     "data": {
      "text/plain": [
       "(2400, 7)"
      ]
     },
     "execution_count": 11,
     "metadata": {},
     "output_type": "execute_result"
    }
   ],
   "source": [
    "x_test.shape"
   ]
  },
  {
   "cell_type": "code",
   "execution_count": 12,
   "metadata": {},
   "outputs": [
    {
     "data": {
      "text/plain": [
       "(2400,)"
      ]
     },
     "execution_count": 12,
     "metadata": {},
     "output_type": "execute_result"
    }
   ],
   "source": [
    "y_test.shape"
   ]
  },
  {
   "cell_type": "code",
   "execution_count": 13,
   "metadata": {},
   "outputs": [
    {
     "data": {
      "text/plain": [
       "(9599,)"
      ]
     },
     "execution_count": 13,
     "metadata": {},
     "output_type": "execute_result"
    }
   ],
   "source": [
    "y_train.shape"
   ]
  },
  {
   "cell_type": "code",
   "execution_count": 14,
   "metadata": {
    "scrolled": true
   },
   "outputs": [
    {
     "data": {
      "text/plain": [
       "array([0., 0., 0., ..., 0., 0., 0.])"
      ]
     },
     "execution_count": 14,
     "metadata": {},
     "output_type": "execute_result"
    }
   ],
   "source": [
    "y_test"
   ]
  },
  {
   "cell_type": "code",
   "execution_count": 15,
   "metadata": {},
   "outputs": [
    {
     "data": {
      "text/plain": [
       "array([0., 0., 0., ..., 0., 0., 1.])"
      ]
     },
     "execution_count": 15,
     "metadata": {},
     "output_type": "execute_result"
    }
   ],
   "source": [
    "y_train"
   ]
  },
  {
   "cell_type": "code",
   "execution_count": 16,
   "metadata": {},
   "outputs": [
    {
     "data": {
      "text/plain": [
       "7"
      ]
     },
     "execution_count": 16,
     "metadata": {},
     "output_type": "execute_result"
    }
   ],
   "source": [
    "x_train.shape[1]"
   ]
  },
  {
   "cell_type": "markdown",
   "metadata": {},
   "source": [
    "# Creating the model"
   ]
  },
  {
   "cell_type": "code",
   "execution_count": 69,
   "metadata": {},
   "outputs": [],
   "source": [
    "model = Sequential()\n",
    "model.add(Dense(10,input_dim=x_train.shape[1],activation='relu'))\n",
    "model.add(Dropout(0.1))\n",
    "model.add(Dense(8,activation='relu'))\n",
    "model.add(Dropout(0.1))\n",
    "model.add(Dense(12,activation='relu'))\n",
    "model.add(Dropout(0.1))\n",
    "model.add(Dense(6,activation='relu'))\n",
    "model.add(Dropout(0.1))\n",
    "model.add(Dense(1,activation='sigmoid'))"
   ]
  },
  {
   "cell_type": "markdown",
   "metadata": {},
   "source": [
    "# Compiling the model "
   ]
  },
  {
   "cell_type": "code",
   "execution_count": 70,
   "metadata": {},
   "outputs": [],
   "source": [
    "learning_rate = 0.001\n",
    "model.compile(loss=\"binary_crossentropy\",metrics=['accuracy'],optimizer=Adam(learning_rate))"
   ]
  },
  {
   "cell_type": "markdown",
   "metadata": {},
   "source": [
    "# Training "
   ]
  },
  {
   "cell_type": "code",
   "execution_count": 71,
   "metadata": {
    "scrolled": true
   },
   "outputs": [
    {
     "name": "stdout",
     "output_type": "stream",
     "text": [
      "Epoch 1/20\n",
      "300/300 [==============================] - 1s 2ms/step - loss: 2.1914 - accuracy: 0.5862 - val_loss: 0.4475 - val_accuracy: 0.6283\n",
      "Epoch 2/20\n",
      "300/300 [==============================] - 0s 1ms/step - loss: 0.4858 - accuracy: 0.6568 - val_loss: 0.2789 - val_accuracy: 0.9438\n",
      "Epoch 3/20\n",
      "300/300 [==============================] - 0s 1ms/step - loss: 0.3527 - accuracy: 0.8508 - val_loss: 0.1655 - val_accuracy: 0.9837\n",
      "Epoch 4/20\n",
      "300/300 [==============================] - 0s 1ms/step - loss: 0.1861 - accuracy: 0.8907 - val_loss: 0.0340 - val_accuracy: 0.9892\n",
      "Epoch 5/20\n",
      "300/300 [==============================] - 0s 1ms/step - loss: 0.1352 - accuracy: 0.9150 - val_loss: 0.0276 - val_accuracy: 0.9912\n",
      "Epoch 6/20\n",
      "300/300 [==============================] - 0s 1ms/step - loss: 0.1244 - accuracy: 0.9360 - val_loss: 0.0236 - val_accuracy: 0.9933\n",
      "Epoch 7/20\n",
      "300/300 [==============================] - 0s 984us/step - loss: 0.1125 - accuracy: 0.9413 - val_loss: 0.0203 - val_accuracy: 0.9933\n",
      "Epoch 8/20\n",
      "300/300 [==============================] - 0s 994us/step - loss: 0.1114 - accuracy: 0.9431 - val_loss: 0.0195 - val_accuracy: 0.9937\n",
      "Epoch 9/20\n",
      "300/300 [==============================] - 0s 967us/step - loss: 0.1064 - accuracy: 0.9502 - val_loss: 0.0201 - val_accuracy: 0.9937\n",
      "Epoch 10/20\n",
      "300/300 [==============================] - 0s 997us/step - loss: 0.0980 - accuracy: 0.9542 - val_loss: 0.0158 - val_accuracy: 0.9967\n",
      "Epoch 11/20\n",
      "300/300 [==============================] - 0s 1ms/step - loss: 0.0960 - accuracy: 0.9531 - val_loss: 0.0122 - val_accuracy: 0.9967\n",
      "Epoch 12/20\n",
      "300/300 [==============================] - 0s 1ms/step - loss: 0.0960 - accuracy: 0.9540 - val_loss: 0.0133 - val_accuracy: 0.9958\n",
      "Epoch 13/20\n",
      "300/300 [==============================] - 0s 979us/step - loss: 0.0932 - accuracy: 0.9552 - val_loss: 0.0159 - val_accuracy: 0.9946\n",
      "Epoch 14/20\n",
      "300/300 [==============================] - 0s 992us/step - loss: 0.0916 - accuracy: 0.9569 - val_loss: 0.0104 - val_accuracy: 0.9967\n",
      "Epoch 15/20\n",
      "300/300 [==============================] - 0s 1ms/step - loss: 0.0932 - accuracy: 0.9521 - val_loss: 0.0081 - val_accuracy: 0.9967\n",
      "Epoch 16/20\n",
      "300/300 [==============================] - 0s 982us/step - loss: 0.0867 - accuracy: 0.9553 - val_loss: 0.0070 - val_accuracy: 0.9983\n",
      "Epoch 17/20\n",
      "300/300 [==============================] - 0s 1ms/step - loss: 0.0835 - accuracy: 0.9578 - val_loss: 0.0062 - val_accuracy: 0.9983\n",
      "Epoch 18/20\n",
      "300/300 [==============================] - 0s 1ms/step - loss: 0.0841 - accuracy: 0.9554 - val_loss: 0.0052 - val_accuracy: 0.9983\n",
      "Epoch 19/20\n",
      "300/300 [==============================] - 0s 1ms/step - loss: 0.0828 - accuracy: 0.9574 - val_loss: 0.0059 - val_accuracy: 0.9979\n",
      "Epoch 20/20\n",
      "300/300 [==============================] - 0s 1ms/step - loss: 0.0812 - accuracy: 0.9592 - val_loss: 0.0064 - val_accuracy: 0.9979\n"
     ]
    }
   ],
   "source": [
    "epochs = 20\n",
    "history = model.fit(x_train, y_train, batch_size=32, epochs=epochs,validation_data=(x_test, y_test))"
   ]
  },
  {
   "cell_type": "markdown",
   "metadata": {},
   "source": [
    "# Ploting "
   ]
  },
  {
   "cell_type": "code",
   "execution_count": 72,
   "metadata": {},
   "outputs": [
    {
     "data": {
      "image/png": "[encoded data removed]",
      "text/plain": [
       "<Figure size 432x288 with 1 Axes>"
      ]
     },
     "metadata": {
      "needs_background": "light"
     },
     "output_type": "display_data"
    },
    {
     "data": {
      "image/png": "[encoded data removed]",
      "text/plain": [
       "<Figure size 432x288 with 1 Axes>"
      ]
     },
     "metadata": {
      "needs_background": "light"
     },
     "output_type": "display_data"
    }
   ],
   "source": [
    "plt.figure(0)\n",
    "plt.plot(history.history['accuracy'],label='training accuracy')\n",
    "plt.plot(history.history['val_accuracy'],label='val_accuracy')\n",
    "plt.title('Accuracy')\n",
    "plt.xlabel('epochs')\n",
    "plt.ylabel('accuracy')\n",
    "plt.legend()\n",
    "plt.show()\n",
    "\n",
    "plt.figure(1)\n",
    "plt.plot(history.history['loss'], label='training loss')\n",
    "plt.plot(history.history['val_loss'], label='val loss')\n",
    "plt.title('Loss')\n",
    "plt.xlabel('epochs')\n",
    "plt.ylabel('loss')\n",
    "plt.legend()\n",
    "plt.show()"
   ]
  },
  {
   "cell_type": "code",
   "execution_count": 73,
   "metadata": {
    "scrolled": true
   },
   "outputs": [
    {
     "name": "stdout",
     "output_type": "stream",
     "text": [
      "Accuracy on training data =  99.88540472965934 %\n",
      "Accuracy on test data =  99.79166666666667 %\n",
      "[[0 0 0 ... 0 0 0]]\n",
      "[0. 0. 0. ... 0. 0. 0.]\n"
     ]
    }
   ],
   "source": [
    "from sklearn.metrics import accuracy_score\n",
    "\n",
    "# prediction on training data\n",
    "label = np.array(y_train)\n",
    "pred_train = model.predict_classes(x_train)\n",
    "print(\"Accuracy on training data = \",accuracy_score(label,pred_train)*100,\"%\")\n",
    "\n",
    "# prediction on test data\n",
    "label = np.array(y_test)\n",
    "pred_test = model.predict_classes(x_test)\n",
    "print(\"Accuracy on test data = \",accuracy_score(label,pred_test)*100,\"%\")\n",
    "print(pred_test.reshape(1,y_test.shape[0]))\n",
    "print(label)"
   ]
  },
  {
   "cell_type": "code",
   "execution_count": 74,
   "metadata": {},
   "outputs": [],
   "source": [
    "model.save('anomaly_detection_model_final_2.h5')"
   ]
  },
  {
   "cell_type": "markdown",
   "metadata": {},
   "source": [
    "# Loading the model"
   ]
  },
  {
   "cell_type": "code",
   "execution_count": 76,
   "metadata": {},
   "outputs": [],
   "source": [
    "from keras.models import load_model"
   ]
  },
  {
   "cell_type": "code",
   "execution_count": 77,
   "metadata": {},
   "outputs": [],
   "source": [
    "model = load_model('anomaly_detection_model_final_2.h5')"
   ]
  },
  {
   "cell_type": "code",
   "execution_count": 78,
   "metadata": {},
   "outputs": [
    {
     "name": "stdout",
     "output_type": "stream",
     "text": [
      "Model: \"sequential_11\"\n",
      "_________________________________________________________________\n",
      "Layer (type)                 Output Shape              Param #   \n",
      "=================================================================\n",
      "dense_51 (Dense)             (None, 10)                80        \n",
      "_________________________________________________________________\n",
      "dropout_40 (Dropout)         (None, 10)                0         \n",
      "_________________________________________________________________\n",
      "dense_52 (Dense)             (None, 8)                 88        \n",
      "_________________________________________________________________\n",
      "dropout_41 (Dropout)         (None, 8)                 0         \n",
      "_________________________________________________________________\n",
      "dense_53 (Dense)             (None, 12)                108       \n",
      "_________________________________________________________________\n",
      "dropout_42 (Dropout)         (None, 12)                0         \n",
      "_________________________________________________________________\n",
      "dense_54 (Dense)             (None, 6)                 78        \n",
      "_________________________________________________________________\n",
      "dropout_43 (Dropout)         (None, 6)                 0         \n",
      "_________________________________________________________________\n",
      "dense_55 (Dense)             (None, 1)                 7         \n",
      "=================================================================\n",
      "Total params: 361\n",
      "Trainable params: 361\n",
      "Non-trainable params: 0\n",
      "_________________________________________________________________\n"
     ]
    }
   ],
   "source": [
    "model.summary()"
   ]
  },
  {
   "cell_type": "code",
   "execution_count": 79,
   "metadata": {},
   "outputs": [
    {
     "data": {
      "text/plain": [
       "array([[1.000e+02, 8.300e+01, 1.952e+03, 1.900e+01, 5.260e+00, 5.700e+01,\n",
       "        2.310e-01]])"
      ]
     },
     "execution_count": 79,
     "metadata": {},
     "output_type": "execute_result"
    }
   ],
   "source": [
    "# Trying with real world input\n",
    "samples = np.array([data[6][0:-1]])     \n",
    "samples"
   ]
  },
  {
   "cell_type": "code",
   "execution_count": 80,
   "metadata": {},
   "outputs": [
    {
     "data": {
      "text/plain": [
       "array([[0]])"
      ]
     },
     "execution_count": 80,
     "metadata": {},
     "output_type": "execute_result"
    }
   ],
   "source": [
    "prediction = model.predict_classes(samples)\n",
    "prediction"
   ]
  },
  {
   "cell_type": "code",
   "execution_count": 81,
   "metadata": {},
   "outputs": [
    {
     "data": {
      "text/plain": [
       "array([[9.260451e-17]], dtype=float32)"
      ]
     },
     "execution_count": 81,
     "metadata": {},
     "output_type": "execute_result"
    }
   ],
   "source": [
    "pred = model.predict(samples)\n",
    "pred"
   ]
  },
  {
   "cell_type": "code",
   "execution_count": 82,
   "metadata": {},
   "outputs": [
    {
     "data": {
      "text/plain": [
       "array([[9.60060998e+01, 1.06088416e+02, 4.27411399e+03, 2.05487186e+01,\n",
       "        6.39619993e+01, 1.81517542e+01, 8.29642283e-01]])"
      ]
     },
     "execution_count": 82,
     "metadata": {},
     "output_type": "execute_result"
    }
   ],
   "source": [
    "# Trying with real world input\n",
    "samples = np.array([data[8][0:-1]])     \n",
    "samples"
   ]
  },
  {
   "cell_type": "code",
   "execution_count": 83,
   "metadata": {},
   "outputs": [
    {
     "data": {
      "text/plain": [
       "array([[1]])"
      ]
     },
     "execution_count": 83,
     "metadata": {},
     "output_type": "execute_result"
    }
   ],
   "source": [
    "prediction = model.predict_classes(samples)\n",
    "prediction"
   ]
  },
  {
   "cell_type": "code",
   "execution_count": 84,
   "metadata": {},
   "outputs": [
    {
     "data": {
      "text/plain": [
       "array([[1.]], dtype=float32)"
      ]
     },
     "execution_count": 84,
     "metadata": {},
     "output_type": "execute_result"
    }
   ],
   "source": [
    "pred = model.predict(samples)\n",
    "pred"
   ]
  },
  {
   "cell_type": "code",
   "execution_count": null,
   "metadata": {},
   "outputs": [],
   "source": []
  }
 ],
 "metadata": {
  "kernelspec": {
   "display_name": "Python 3",
   "language": "python",
   "name": "python3"
  },
  "language_info": {
   "codemirror_mode": {
    "name": "ipython",
    "version": 3
   },
   "file_extension": ".py",
   "mimetype": "text/x-python",
   "name": "python",
   "nbconvert_exporter": "python",
   "pygments_lexer": "ipython3",
   "version": "3.7.6"
  }
 },
 "nbformat": 4,
 "nbformat_minor": 4
}
